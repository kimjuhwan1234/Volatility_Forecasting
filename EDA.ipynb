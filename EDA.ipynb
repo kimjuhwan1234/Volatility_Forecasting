{
 "cells": [
  {
   "cell_type": "code",
   "execution_count": 2,
   "id": "initial_id",
   "metadata": {
    "collapsed": true,
    "ExecuteTime": {
     "end_time": "2024-03-31T06:19:42.181721900Z",
     "start_time": "2024-03-31T06:19:41.304965300Z"
    }
   },
   "outputs": [],
   "source": [
    "import matplotlib.pyplot as plt\n",
    "\n",
    "import pandas as pd"
   ]
  },
  {
   "cell_type": "code",
   "outputs": [],
   "source": [
    "pred=pd.read_csv('Files/BiLSTM/additional_BZ.csv', index_col=0)"
   ],
   "metadata": {
    "collapsed": false,
    "ExecuteTime": {
     "end_time": "2024-03-31T06:19:53.325282400Z",
     "start_time": "2024-03-31T06:19:53.314773200Z"
    }
   },
   "id": "5125b2c65959db25",
   "execution_count": 5
  },
  {
   "cell_type": "code",
   "outputs": [
    {
     "data": {
      "text/plain": "            Predictions  Ground Truths\n2023-02-02    -0.040259       0.014666\n2023-02-03    -0.031220       0.007150\n2023-02-06    -0.051723       0.009399\n2023-02-07    -0.045331       0.015500\n2023-02-08    -0.038081       0.024696\n...                 ...            ...\n2024-03-22    -0.069828       0.012541\n2024-03-25    -0.069833       0.012731\n2024-03-26    -0.069838       0.011823\n2024-03-27    -0.069843       0.011484\n2024-03-28    -0.069848       0.008545\n\n[291 rows x 2 columns]",
      "text/html": "<div>\n<style scoped>\n    .dataframe tbody tr th:only-of-type {\n        vertical-align: middle;\n    }\n\n    .dataframe tbody tr th {\n        vertical-align: top;\n    }\n\n    .dataframe thead th {\n        text-align: right;\n    }\n</style>\n<table border=\"1\" class=\"dataframe\">\n  <thead>\n    <tr style=\"text-align: right;\">\n      <th></th>\n      <th>Predictions</th>\n      <th>Ground Truths</th>\n    </tr>\n  </thead>\n  <tbody>\n    <tr>\n      <th>2023-02-02</th>\n      <td>-0.040259</td>\n      <td>0.014666</td>\n    </tr>\n    <tr>\n      <th>2023-02-03</th>\n      <td>-0.031220</td>\n      <td>0.007150</td>\n    </tr>\n    <tr>\n      <th>2023-02-06</th>\n      <td>-0.051723</td>\n      <td>0.009399</td>\n    </tr>\n    <tr>\n      <th>2023-02-07</th>\n      <td>-0.045331</td>\n      <td>0.015500</td>\n    </tr>\n    <tr>\n      <th>2023-02-08</th>\n      <td>-0.038081</td>\n      <td>0.024696</td>\n    </tr>\n    <tr>\n      <th>...</th>\n      <td>...</td>\n      <td>...</td>\n    </tr>\n    <tr>\n      <th>2024-03-22</th>\n      <td>-0.069828</td>\n      <td>0.012541</td>\n    </tr>\n    <tr>\n      <th>2024-03-25</th>\n      <td>-0.069833</td>\n      <td>0.012731</td>\n    </tr>\n    <tr>\n      <th>2024-03-26</th>\n      <td>-0.069838</td>\n      <td>0.011823</td>\n    </tr>\n    <tr>\n      <th>2024-03-27</th>\n      <td>-0.069843</td>\n      <td>0.011484</td>\n    </tr>\n    <tr>\n      <th>2024-03-28</th>\n      <td>-0.069848</td>\n      <td>0.008545</td>\n    </tr>\n  </tbody>\n</table>\n<p>291 rows × 2 columns</p>\n</div>"
     },
     "execution_count": 6,
     "metadata": {},
     "output_type": "execute_result"
    }
   ],
   "source": [
    "pred"
   ],
   "metadata": {
    "collapsed": false,
    "ExecuteTime": {
     "end_time": "2024-03-31T06:19:53.716345200Z",
     "start_time": "2024-03-31T06:19:53.707133300Z"
    }
   },
   "id": "c367b619420b0666",
   "execution_count": 6
  }
 ],
 "metadata": {
  "kernelspec": {
   "display_name": "Python 3",
   "language": "python",
   "name": "python3"
  },
  "language_info": {
   "codemirror_mode": {
    "name": "ipython",
    "version": 2
   },
   "file_extension": ".py",
   "mimetype": "text/x-python",
   "name": "python",
   "nbconvert_exporter": "python",
   "pygments_lexer": "ipython2",
   "version": "2.7.6"
  }
 },
 "nbformat": 4,
 "nbformat_minor": 5
}
