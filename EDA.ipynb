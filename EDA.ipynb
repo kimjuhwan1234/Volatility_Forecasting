{
 "cells": [
  {
   "cell_type": "code",
   "outputs": [],
   "source": [
    "import matplotlib.pyplot as plt\n",
    "\n",
    "import pandas as pd\n",
    "\n",
    "plt.rcParams['figure.figsize'] = (10.0, 8.0)\n",
    "plt.rcParams['image.interpolation'] = 'nearest'\n",
    "plt.rcParams['image.cmap'] = 'gray'\n",
    "plt.rc('font', family='GULIM')"
   ],
   "metadata": {
    "collapsed": false
   },
   "id": "c71f0bafa69c6175"
  },
  {
   "cell_type": "code",
   "outputs": [],
   "source": [
    "pred1=pd.read_csv('Files/BiLSTM/additionalX_BZ.csv', index_col=0)\n",
    "pred2=pd.read_csv('Files/BiLSTM/additionalX_BZ_vecO.csv', index_col=0)\n",
    "pred3=pd.read_csv('Files/Backbone_SP.csv', index_col=0)"
   ],
   "metadata": {
    "collapsed": false
   },
   "id": "33a2d3fb66a21126"
  },
  {
   "cell_type": "code",
   "outputs": [],
   "source": [
    "plt.figure(figsize=(10,6))\n",
    "plt.plot( pred3['Predictions'], label='Prediction')\n",
    "plt.plot( pred3['Ground Truths'],label='Ground Truth')\n",
    "plt.title('Backbone의 예측성능 vec O')\n",
    "plt.xlabel('Time')\n",
    "plt.ylabel('Value')\n",
    "plt.legend()\n",
    "plt.xticks(pred3.index[0:-1:96])\n",
    "plt.tight_layout()\n",
    "plt.show()"
   ],
   "metadata": {
    "collapsed": false
   },
   "id": "618a1948663ad00a"
  },
  {
   "cell_type": "code",
   "outputs": [],
   "source": [
    "plt.figure(figsize=(10, 6))\n",
    "\n",
    "plt.plot(pred3['Predictions'], label='Prediction')\n",
    "plt.plot(pred3['Ground Truths'], label='Ground Truth')\n",
    "plt.title('임베딩벡터 있을 때')\n",
    "plt.figure(figsize=(10,6))\n",
    "plt.plot( pred1['Predictions'], label='Prediction')\n",
    "plt.plot( pred1['Ground Truths'],label='Ground Truth')\n",
    "plt.title('Brent Oil 전이학습 O only fine tuning')\n",
    "plt.xlabel('Time')\n",
    "plt.ylabel('Value')\n",
    "plt.legend()\n",
    "plt.xticks(pred1.index[0:-1:96])\n",
    "plt.tight_layout()\n",
    "plt.show()"
   ],
   "metadata": {
    "collapsed": false
   },
   "id": "226ac7328729e47c"
  },
  {
   "cell_type": "code",
   "outputs": [],
   "source": [
    "CL_vol = pd.read_csv('Database/oil_std/CL_vol.csv', index_col=0)\n",
    "HO_vol = pd.read_csv('Database/oil_std/HO_vol.csv', index_col=0)\n",
    "NG_vol = pd.read_csv('Database/oil_std/NG_vol.csv', index_col=0)\n",
    "RB_vol = pd.read_csv('Database/oil_std/RB_vol.csv', index_col=0)\n",
    "BZ_vol = pd.read_csv('Database/oil_std/BZ_vol.csv', index_col=0)\n",
    "ZL_vol = pd.read_csv('Database/oil_std/ZL_vol.csv', index_col=0)\n",
    "SP_vol = pd.read_csv('Database/SP_vol.csv', index_col=0)\n",
    "CL_vol['return']\n",
    "plt.figure(figsize=(10, 6))\n",
    "\n",
    "plt.plot(CL_vol['return'][:400], label='CL')\n",
    "plt.plot(HO_vol['return'][:400], label='HO')\n",
    "# plt.plot(NG_vol['return'][:400], label='NG')\n",
    "plt.plot(RB_vol['return'][:400], label='RB')\n",
    "plt.plot(BZ_vol['return'][:400], label='BZ')\n",
    "# plt.plot(ZL_vol['return'][:400], label='ZL')\n",
    "# plt.plot(SP_vol['return'][:400], label='SP')\n",
    "plt.title('volatility')\n",
    "plt.xlabel('Time')\n",
    "plt.ylabel('Value')\n",
    "plt.legend()\n",
    "plt.xticks(rotation=45, fontsize=8)\n",
    "# plt.xticks(pd.date_range(start=pred2.index.min(), end=pred2.index.max(), freq='1YS').strftime('%Y-%m-%d'))\n",
    "plt.tight_layout()\n",
    "plt.show()"
   ],
   "metadata": {
    "collapsed": false
   },
   "id": "e2d0acbafc5201fd"
  }
 ],
 "metadata": {
  "kernelspec": {
   "display_name": "Python 3",
   "language": "python",
   "name": "python3"
  },
  "language_info": {
   "codemirror_mode": {
    "name": "ipython",
    "version": 2
   },
   "file_extension": ".py",
   "mimetype": "text/x-python",
   "name": "python",
   "nbconvert_exporter": "python",
   "pygments_lexer": "ipython2",
   "version": "2.7.6"
  }
 },
 "nbformat": 4,
 "nbformat_minor": 5
}
