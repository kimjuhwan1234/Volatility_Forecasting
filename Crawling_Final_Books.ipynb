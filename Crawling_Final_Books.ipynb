{
 "cells": [
  {
   "cell_type": "code",
   "execution_count": 61,
   "id": "d3b91162-2994-401e-8dda-a7c6a4fbcfd8",
   "metadata": {},
   "outputs": [],
   "source": [
    "from selenium import webdriver\n",
    "from selenium.webdriver.common.by import By\n",
    "from selenium.webdriver.chrome.service import Service\n",
    "from selenium.common.exceptions import NoSuchElementException, ElementClickInterceptedException\n",
    "from webdriver_manager.chrome import ChromeDriverManager\n",
    "import time\n",
    "import mysql.connector\n",
    "import re"
   ]
  },
  {
   "cell_type": "code",
   "execution_count": 62,
   "id": "1d7683f5-b162-481e-bcf7-821a8c93b6a5",
   "metadata": {},
   "outputs": [],
   "source": [
    "# MySQL connection setup\n",
    "db = mysql.connector.connect(\n",
    "    host=\"127.0.0.1\",  # Typically 'localhost' or '127.0.0.1'\n",
    "    user=\"root\",\n",
    "    password=\"kjhyun0221\",\n",
    "    database=\"news\"\n",
    ")\n",
    "cursor = db.cursor()\n",
    "\n",
    "# Create table if it doesn't exist\n",
    "cursor.execute(\"\"\"\n",
    "CREATE TABLE IF NOT EXISTS wti_books (\n",
    "    id INT AUTO_INCREMENT PRIMARY KEY,\n",
    "    title VARCHAR(255),\n",
    "    news_company VARCHAR(127),\n",
    "    url VARCHAR(255),\n",
    "    published_date DATE\n",
    ")\n",
    "\"\"\")\n",
    "\n",
    "def insert_data(title, news_company, url, published_date):\n",
    "    # Remove the trailing period and any spaces\n",
    "    published_date = published_date.strip().rstrip('.')\n",
    "    \n",
    "    # Split the date string by periods\n",
    "    year, month, day = published_date.split('.')\n",
    "    \n",
    "    # Remove any leading or trailing spaces that may have been left over\n",
    "    year = year.strip()\n",
    "    month = month.strip()\n",
    "    day = day.strip()\n",
    "    \n",
    "    # Construct the MySQL-compatible date string\n",
    "    mysql_date = f\"{year}-{month.zfill(2)}-{day.zfill(2)}\"\n",
    "    \n",
    "    query = \"INSERT INTO wti_books (title, news_company, url, published_date) VALUES (%s, %s, %s, %s)\"\n",
    "    cursor.execute(query, (title, news_company, url, mysql_date))\n",
    "    db.commit()"
   ]
  },
  {
   "cell_type": "code",
   "execution_count": 67,
   "id": "54bfa710-cc83-4fed-b7ba-8508576f1d16",
   "metadata": {},
   "outputs": [],
   "source": [
    "chromedriver_path = 'C:/Users/kkksk/.wdm/drivers/chromedriver/win64/122.0.6261.129/chromedriver.exe'\n",
    "service = Service(chromedriver_path)\n",
    "driver = webdriver.Chrome(service=service)"
   ]
  },
  {
   "cell_type": "code",
   "execution_count": 68,
   "id": "ae85db93-838b-4a1e-9cfb-cdf1b5960c18",
   "metadata": {},
   "outputs": [
    {
     "name": "stdout",
     "output_type": "stream",
     "text": [
      "No results found for the year 2004. Moving to the next year.\n"
     ]
    }
   ],
   "source": [
    "target_year = 1986\n",
    "current_year = 2004\n",
    "\n",
    "try:\n",
    "    while target_year <= current_year:\n",
    "        \n",
    "        url = f\"https://www.google.com/search?q=crude+oil&tbs=bkt:s,cdr:1,cd_min:1/1/{target_year},cd_max:12/31/{target_year}&tbm=bks\"\n",
    "        driver.get(url)\n",
    "        \n",
    "        time.sleep(30)\n",
    "        \n",
    "        while True:\n",
    "            news_results = driver.find_elements(By.CSS_SELECTOR, 'div#rso>div')\n",
    "            if not news_results:  # Check if news_results is empty\n",
    "                print(f\"No results found for the year {target_year}. Moving to the next year.\")\n",
    "                break  # Exit the inner while loop to proceed with the next year\n",
    "            \n",
    "            for news_div in news_results:\n",
    "                try:\n",
    "                    Link = news_div.find_element(By.TAG_NAME, 'a').get_attribute('href')\n",
    "                    title_element = news_div.find_element(By.CSS_SELECTOR, 'a>h3')\n",
    "                    Title = title_element.text.strip(\".\")\n",
    "                    Title = re.sub(r\"-\\d+페이지\", \"\", Title)\n",
    "                    news_elements = news_div.find_elements(By.CSS_SELECTOR, 'div')\n",
    "                    company_and_date = [elem.text for elem in news_elements]\n",
    "                    if len(company_and_date) >= 10:\n",
    "                        info = company_and_date[10]\n",
    "                        info_text = info.split(\"·\")\n",
    "                        Company = info_text[0]\n",
    "                        Date = info_text[1]\n",
    "\n",
    "                        insert_data(Title, Company, Link, Date)\n",
    "\n",
    "                except Exception as e:\n",
    "                    print(e)\n",
    "            \n",
    "            try:\n",
    "                next_button = driver.find_element(By.ID, 'pnnext')\n",
    "                next_button.click()\n",
    "                time.sleep(2)\n",
    "            except NoSuchElementException:\n",
    "                break\n",
    "        \n",
    "        target_year += 1\n",
    "\n",
    "except Exception as e:\n",
    "    print(f\"Encountered an exception: {e}\")\n",
    "\n",
    "finally:\n",
    "    driver.quit()\n"
   ]
  },
  {
   "cell_type": "code",
   "execution_count": null,
   "id": "d8936dab-82f1-4b42-a86c-4dd00e182e71",
   "metadata": {},
   "outputs": [],
   "source": []
  }
 ],
 "metadata": {
  "kernelspec": {
   "display_name": "Python 3 (ipykernel)",
   "language": "python",
   "name": "python3"
  },
  "language_info": {
   "codemirror_mode": {
    "name": "ipython",
    "version": 3
   },
   "file_extension": ".py",
   "mimetype": "text/x-python",
   "name": "python",
   "nbconvert_exporter": "python",
   "pygments_lexer": "ipython3",
   "version": "3.9.13"
  }
 },
 "nbformat": 4,
 "nbformat_minor": 5
}
