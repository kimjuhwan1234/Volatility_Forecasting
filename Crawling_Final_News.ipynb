{
 "cells": [
  {
   "cell_type": "code",
   "execution_count": 7,
   "id": "ca7ce0b1-d849-45b9-a4e6-b4107fefc24e",
   "metadata": {},
   "outputs": [],
   "source": [
    "from selenium import webdriver\n",
    "from selenium.webdriver.common.by import By\n",
    "from selenium.webdriver.chrome.service import Service\n",
    "from selenium.common.exceptions import NoSuchElementException, ElementClickInterceptedException\n",
    "from webdriver_manager.chrome import ChromeDriverManager\n",
    "import time\n",
    "import mysql.connector\n"
   ]
  },
  {
   "cell_type": "code",
   "execution_count": 16,
   "id": "0236485d-f320-4eaf-bcdf-5ccfdda014af",
   "metadata": {},
   "outputs": [],
   "source": [
    "# MySQL connection setup\n",
    "db = mysql.connector.connect(\n",
    "    host=\"127.0.0.1\",  # Typically 'localhost' or '127.0.0.1'\n",
    "    user=\"root\",\n",
    "    password=\"kjhyun0221\",\n",
    "    database=\"news\"\n",
    ")\n",
    "cursor = db.cursor()\n",
    "\n",
    "# Create table if it doesn't exist\n",
    "cursor.execute(\"\"\"\n",
    "CREATE TABLE IF NOT EXISTS wti_news (\n",
    "    id INT AUTO_INCREMENT PRIMARY KEY,\n",
    "    title VARCHAR(255),\n",
    "    news_company VARCHAR(127),\n",
    "    url VARCHAR(255),\n",
    "    published_date DATE\n",
    ")\n",
    "\"\"\")\n",
    "\n",
    "def insert_data(title, news_company, url, published_date):\n",
    "    # Remove the trailing period and any spaces\n",
    "    published_date = published_date.strip().rstrip('.')\n",
    "    \n",
    "    # Split the date string by periods\n",
    "    year, month, day = published_date.split('.')\n",
    "    \n",
    "    # Remove any leading or trailing spaces that may have been left over\n",
    "    year = year.strip()\n",
    "    month = month.strip()\n",
    "    day = day.strip()\n",
    "    \n",
    "    # Construct the MySQL-compatible date string\n",
    "    mysql_date = f\"{year}-{month.zfill(2)}-{day.zfill(2)}\"\n",
    "    \n",
    "    query = \"INSERT INTO wti_news (title, news_company, url, published_date) VALUES (%s, %s, %s, %s)\"\n",
    "    cursor.execute(query, (title, news_company, url, mysql_date))\n",
    "    db.commit()"
   ]
  },
  {
   "cell_type": "code",
   "execution_count": 37,
   "id": "cd04c62c-9c11-4724-b1f3-98b97a804751",
   "metadata": {},
   "outputs": [],
   "source": [
    "\n",
    "chromedriver_path = 'C:/Users/kkksk/.wdm/drivers/chromedriver/win64/122.0.6261.129/chromedriver.exe'\n",
    "service = Service(chromedriver_path)\n",
    "driver = webdriver.Chrome(service=service)"
   ]
  },
  {
   "cell_type": "code",
   "execution_count": 38,
   "id": "ccdf79f3-d84d-476d-bd7f-1272123c96ac",
   "metadata": {},
   "outputs": [
    {
     "name": "stdout",
     "output_type": "stream",
     "text": [
      "Where does the crude oil come from? - Products Eurostat News European Commission\n",
      "What triggered the oil price plunge of 2014-2016 and why it failed to deliver an economic impetus in eight charts World Bank blogs\n",
      "Ethiopia begins first-ever crude oil production Anadolu Ajansı\n",
      "Polyolefin-based interpenetrating polymer network absorbent for crude oil entrapment and recovery in aqueous system ScienceDirect.com\n",
      "Over 30% of global crude oil trade moves through South China Sea safety4sea\n",
      "ReOil: Getting crude oil back out of plastic OMV.com\n",
      "Venezuela considers using foreign crude oil at its refineries - Splash247 Splash247\n",
      "Xinhua Headlines: China launches crude oil futures trading - Xinhua | English.news.cn 新华网\n",
      "Effect of Deepwater Horizon Crude Oil Water Accommodated Fraction on Olfactory Function in the Atlantic Stingray ... Nature\n",
      "The United States is now the largest global crude oil producer - U.S. Energy Information Administration U.S. Energy Information Administration (EIA) (.gov)\n",
      "Kenya makes first crude oil export Anadolu Ajansı\n",
      "A review of the evidence on the relation between crude oil prices and petroleum product prices ScienceDirect.com\n",
      "Xinhua Headlines: China launches crude oil futures trading - Xinhua | English.news.cn 新华网\n",
      "Crude oil price forecasts uncertain amid Iran sanctions safety4sea\n",
      "OMV transforms plastic waste into crude oil OMV Group\n",
      "Hydrogen production from crude oil with fine iron particles through microwave-initiated catalytic dehydrogenation ... ScienceDirect.com\n",
      "Enhancing the production of light olefins from heavy crude oils: Turning challenges into opportunities ScienceDirect.com\n",
      "Biosurfactant-assisted bioremediation of crude oil by indigenous bacteria isolated from Taean beach sediment ScienceDirect.com\n",
      "Xinhua Headlines: China launches crude oil futures trading - Xinhua | English.news.cn 新华网\n",
      "The United States is now the largest global crude oil producer - U.S. Energy Information Administration U.S. Energy Information Administration (EIA) (.gov)\n",
      "Lessons learned from water found on crude oil cargo safety4sea\n",
      "Co-processing of crude and hydrotreated pyrolysis liquids and VGO in a pilot scale FCC riser setup ScienceDirect.com\n",
      "U.S. crude oil production growth projected to be led by light, sweet crude oil - U.S. Energy Information Administration U.S. Energy Information Administration (EIA) (.gov)\n",
      "Onshore Crude Oil Decontamination Using a Water Security Test Bed | US EPA U.S. Environmental Protection Agency (.gov)\n",
      "Measuring crude oil's carbon footprint | Stanford News Stanford News\n",
      "China Surpasses U.S. as Largest Crude Oil Importer The Maritime Executive\n",
      "World's first LNG Aframax crude oil tanker completes first voyage safety4sea\n",
      "What are the factors driving up the price of crude oil? The Guardian\n",
      "U.S. monthly crude oil production exceeds 11 million barrels per day in August - U.S. Energy Information Administration U.S. Energy Information Administration (EIA) (.gov)\n"
     ]
    },
    {
     "ename": "KeyboardInterrupt",
     "evalue": "",
     "output_type": "error",
     "traceback": [
      "\u001b[1;31m---------------------------------------------------------------------------\u001b[0m",
      "\u001b[1;31mKeyboardInterrupt\u001b[0m                         Traceback (most recent call last)",
      "\u001b[1;32m~\\AppData\\Local\\Temp\\ipykernel_20364\\1054285754.py\u001b[0m in \u001b[0;36m<module>\u001b[1;34m\u001b[0m\n\u001b[0;32m     29\u001b[0m                 \u001b[0mnext_button\u001b[0m \u001b[1;33m=\u001b[0m \u001b[0mdriver\u001b[0m\u001b[1;33m.\u001b[0m\u001b[0mfind_element\u001b[0m\u001b[1;33m(\u001b[0m\u001b[0mBy\u001b[0m\u001b[1;33m.\u001b[0m\u001b[0mID\u001b[0m\u001b[1;33m,\u001b[0m \u001b[1;34m'pnnext'\u001b[0m\u001b[1;33m)\u001b[0m\u001b[1;33m\u001b[0m\u001b[1;33m\u001b[0m\u001b[0m\n\u001b[0;32m     30\u001b[0m                 \u001b[0mnext_button\u001b[0m\u001b[1;33m.\u001b[0m\u001b[0mclick\u001b[0m\u001b[1;33m(\u001b[0m\u001b[1;33m)\u001b[0m\u001b[1;33m\u001b[0m\u001b[1;33m\u001b[0m\u001b[0m\n\u001b[1;32m---> 31\u001b[1;33m                 \u001b[0mtime\u001b[0m\u001b[1;33m.\u001b[0m\u001b[0msleep\u001b[0m\u001b[1;33m(\u001b[0m\u001b[1;36m2\u001b[0m\u001b[1;33m)\u001b[0m\u001b[1;33m\u001b[0m\u001b[1;33m\u001b[0m\u001b[0m\n\u001b[0m\u001b[0;32m     32\u001b[0m             \u001b[1;32mexcept\u001b[0m \u001b[0mNoSuchElementException\u001b[0m\u001b[1;33m:\u001b[0m\u001b[1;33m\u001b[0m\u001b[1;33m\u001b[0m\u001b[0m\n\u001b[0;32m     33\u001b[0m                 \u001b[1;32mbreak\u001b[0m\u001b[1;33m\u001b[0m\u001b[1;33m\u001b[0m\u001b[0m\n",
      "\u001b[1;31mKeyboardInterrupt\u001b[0m: "
     ]
    }
   ],
   "source": [
    "target_year = 1986\n",
    "\n",
    "current_year = 2024  \n",
    "\n",
    "try:\n",
    "    while target_year <= current_year:\n",
    "        \n",
    "        url = f\"https://www.google.com/search?q=crude+oil&tbs=cdr:1,cd_min:1/1/{target_year},cd_max:12/31/{target_year}&tbm=nws\"\n",
    "        driver.get(url)\n",
    "        \n",
    "        while True:\n",
    "            news_results = driver.find_elements(By.CSS_SELECTOR, 'div#rso > div >div>div>div')\n",
    "            for news_div in news_results:\n",
    "                try:\n",
    "                    news_link = news_div.find_element(By.TAG_NAME, 'a').get_attribute('href')\n",
    "                    news_text_elements = news_div.find_elements(By.CSS_SELECTOR, 'a>div>div>div')\n",
    "                    news_item = [elem.text for elem in news_text_elements]\n",
    "                    if len(news_item) >= 5:\n",
    "                        Link = news_link\n",
    "                        News_Company = news_item[1]\n",
    "                        Title = news_item[2]\n",
    "                        Date = news_item[4]\n",
    "                        insert_data(Title,News_Company,Link,Date)\n",
    "                        \n",
    "                except Exception as e:\n",
    "                    print(e)\n",
    "            \n",
    "            try:\n",
    "                next_button = driver.find_element(By.ID, 'pnnext')\n",
    "                next_button.click()\n",
    "                time.sleep(2)\n",
    "            except NoSuchElementException:\n",
    "                break\n",
    "        \n",
    "        target_year += 1\n",
    "\n",
    "except Exception as e:\n",
    "    print(f\"Encountered an exception: {e}\")\n",
    "\n",
    "finally:\n",
    "    driver.quit()\n"
   ]
  },
  {
   "cell_type": "code",
   "execution_count": 30,
   "id": "9d9e1411-b862-444e-900f-5a770ee4e157",
   "metadata": {},
   "outputs": [
    {
     "data": {
      "text/plain": [
       "[<selenium.webdriver.remote.webelement.WebElement (session=\"28e993458e1ad283fea5d2c49395172b\", element=\"f.63944CB010BB9CDE7714AAA9FEACA30D.d.9B476A1FDEEA8617B1C0573CB61E9091.e.171\")>,\n",
       " <selenium.webdriver.remote.webelement.WebElement (session=\"28e993458e1ad283fea5d2c49395172b\", element=\"f.63944CB010BB9CDE7714AAA9FEACA30D.d.9B476A1FDEEA8617B1C0573CB61E9091.e.172\")>,\n",
       " <selenium.webdriver.remote.webelement.WebElement (session=\"28e993458e1ad283fea5d2c49395172b\", element=\"f.63944CB010BB9CDE7714AAA9FEACA30D.d.9B476A1FDEEA8617B1C0573CB61E9091.e.173\")>,\n",
       " <selenium.webdriver.remote.webelement.WebElement (session=\"28e993458e1ad283fea5d2c49395172b\", element=\"f.63944CB010BB9CDE7714AAA9FEACA30D.d.9B476A1FDEEA8617B1C0573CB61E9091.e.174\")>,\n",
       " <selenium.webdriver.remote.webelement.WebElement (session=\"28e993458e1ad283fea5d2c49395172b\", element=\"f.63944CB010BB9CDE7714AAA9FEACA30D.d.9B476A1FDEEA8617B1C0573CB61E9091.e.175\")>]"
      ]
     },
     "execution_count": 30,
     "metadata": {},
     "output_type": "execute_result"
    }
   ],
   "source": [
    "news_text_elements"
   ]
  },
  {
   "cell_type": "code",
   "execution_count": null,
   "id": "975a0985-bb83-4f48-afd7-25a9790ffe97",
   "metadata": {},
   "outputs": [],
   "source": []
  }
 ],
 "metadata": {
  "kernelspec": {
   "display_name": "Python 3 (ipykernel)",
   "language": "python",
   "name": "python3"
  },
  "language_info": {
   "codemirror_mode": {
    "name": "ipython",
    "version": 3
   },
   "file_extension": ".py",
   "mimetype": "text/x-python",
   "name": "python",
   "nbconvert_exporter": "python",
   "pygments_lexer": "ipython3",
   "version": "3.9.13"
  }
 },
 "nbformat": 4,
 "nbformat_minor": 5
}
