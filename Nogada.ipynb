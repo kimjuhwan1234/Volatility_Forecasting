{
 "cells": [
  {
   "cell_type": "code",
   "execution_count": 1,
   "id": "initial_id",
   "metadata": {
    "ExecuteTime": {
     "end_time": "2024-04-09T07:45:26.303615Z",
     "start_time": "2024-04-09T07:45:26.297695Z"
    },
    "tags": []
   },
   "outputs": [],
   "source": [
    "import pandas as pd"
   ]
  },
  {
   "cell_type": "code",
   "execution_count": null,
   "id": "31410050bbe37d38",
   "metadata": {
    "ExecuteTime": {
     "end_time": "2024-04-09T07:45:26.555745Z",
     "start_time": "2024-04-09T07:45:26.491847Z"
    },
    "collapsed": false
   },
   "outputs": [],
   "source": [
    "data=pd.read_csv('Database/newsdata.csv')"
   ]
  },
  {
   "cell_type": "code",
   "execution_count": 52,
   "id": "5039079b2a354823",
   "metadata": {
    "ExecuteTime": {
     "end_time": "2024-04-09T07:45:26.756255Z",
     "start_time": "2024-04-09T07:45:26.749321Z"
    },
    "collapsed": false
   },
   "outputs": [],
   "source": [
    "data=data.iloc[0:10002]"
   ]
  },
  {
   "cell_type": "code",
   "execution_count": 53,
   "id": "70342f9d5297fe1c",
   "metadata": {
    "ExecuteTime": {
     "end_time": "2024-04-09T07:45:27.256415Z",
     "start_time": "2024-04-09T07:45:27.194646Z"
    },
    "collapsed": false
   },
   "outputs": [],
   "source": [
    "data.to_csv('Database/data.csv')"
   ]
  },
  {
   "cell_type": "code",
   "execution_count": null,
   "id": "afd9a3a8bb69abb6",
   "metadata": {
    "collapsed": false
   },
   "outputs": [],
   "source": [
    "print(\"hello world\")"
   ]
  }
 ],
 "metadata": {
  "kernelspec": {
   "display_name": "Python 3 (ipykernel)",
   "language": "python",
   "name": "python3"
  },
  "language_info": {
   "codemirror_mode": {
    "name": "ipython",
    "version": 3
   },
   "file_extension": ".py",
   "mimetype": "text/x-python",
   "name": "python",
   "nbconvert_exporter": "python",
   "pygments_lexer": "ipython3",
   "version": "3.9.13"
  }
 },
 "nbformat": 4,
 "nbformat_minor": 5
}
