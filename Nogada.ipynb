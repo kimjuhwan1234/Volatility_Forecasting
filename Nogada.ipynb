{
 "cells": [
  {
   "cell_type": "code",
   "execution_count": 1,
   "id": "initial_id",
   "metadata": {
    "tags": [],
    "ExecuteTime": {
     "end_time": "2024-04-14T03:12:49.273441Z",
     "start_time": "2024-04-14T03:12:48.289010200Z"
    }
   },
   "outputs": [],
   "source": [
    "import pandas as pd"
   ]
  },
  {
   "cell_type": "code",
   "execution_count": 6,
   "id": "31410050bbe37d38",
   "metadata": {
    "collapsed": false,
    "ExecuteTime": {
     "end_time": "2024-04-14T03:13:38.581476700Z",
     "start_time": "2024-04-14T03:13:38.572789300Z"
    }
   },
   "outputs": [],
   "source": [
    "df=pd.read_csv('Database/data.csv', index_col=0)"
   ]
  },
  {
   "cell_type": "code",
   "outputs": [],
   "source": [
    "# 그룹화하여 문자열 이어붙이기\n",
    "result = df.groupby(df.index)['title'].apply(' '.join)"
   ],
   "metadata": {
    "collapsed": false,
    "ExecuteTime": {
     "end_time": "2024-04-14T03:13:54.555678800Z",
     "start_time": "2024-04-14T03:13:54.508500Z"
    }
   },
   "id": "207e6dcc9471a2c7",
   "execution_count": 9
  }
 ],
 "metadata": {
  "kernelspec": {
   "display_name": "Python 3 (ipykernel)",
   "language": "python",
   "name": "python3"
  },
  "language_info": {
   "codemirror_mode": {
    "name": "ipython",
    "version": 3
   },
   "file_extension": ".py",
   "mimetype": "text/x-python",
   "name": "python",
   "nbconvert_exporter": "python",
   "pygments_lexer": "ipython3",
   "version": "3.9.13"
  }
 },
 "nbformat": 4,
 "nbformat_minor": 5
}
