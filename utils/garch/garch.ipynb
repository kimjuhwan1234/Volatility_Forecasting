{
 "cells": [
  {
   "cell_type": "code",
   "execution_count": 1,
   "id": "initial_id",
   "metadata": {
    "collapsed": true,
    "ExecuteTime": {
     "end_time": "2024-04-29T05:55:44.559348Z",
     "start_time": "2024-04-29T05:55:43.450973Z"
    }
   },
   "outputs": [],
   "source": [
    "import pandas as pd\n",
    "import numpy as np\n",
    "import matplotlib.pyplot as plt\n",
    "from arch import arch_model"
   ]
  },
  {
   "cell_type": "code",
   "outputs": [],
   "source": [
    "garch_prediction_path = 'Files/GARCH/garch_predictions.csv'"
   ],
   "metadata": {
    "collapsed": false,
    "ExecuteTime": {
     "end_time": "2024-04-29T05:55:44.562990Z",
     "start_time": "2024-04-29T05:55:44.558939Z"
    }
   },
   "id": "887b2591d784034f",
   "execution_count": 2
  },
  {
   "cell_type": "markdown",
   "source": [
    "## OIL spot return data 불러오기"
   ],
   "metadata": {
    "collapsed": false
   },
   "id": "64619a0aefcc11d7"
  },
  {
   "cell_type": "code",
   "outputs": [],
   "source": [
    "import requests\n",
    "\n",
    "api_key = '2LMFTJQ7V0USVG0B'\n",
    "\n",
    "params = {\n",
    "    'function': 'WTI',\n",
    "    'interval': 'daily',\n",
    "    'apikey': api_key\n",
    "}\n",
    "\n",
    "# replace the \"demo\" apikey below with your own key from https://www.alphavantage.co/support/#api-key\n",
    "url = 'https://www.alphavantage.co/query?function=WTI&interval=monthly&apikey=demo'\n",
    "r = requests.get(url, params=params)\n",
    "data = r.json()"
   ],
   "metadata": {
    "collapsed": false,
    "ExecuteTime": {
     "end_time": "2024-04-29T05:55:46.574341Z",
     "start_time": "2024-04-29T05:55:44.562186Z"
    }
   },
   "id": "7779abafca12fe1c",
   "execution_count": 3
  },
  {
   "cell_type": "code",
   "outputs": [],
   "source": [
    "SP = pd.DataFrame(columns=['date', 'price'])\n",
    "for i in range(len(data['data'])):\n",
    "    SP.loc[i, 'date'] = data['data'][i]['date']\n",
    "    SP.loc[i, 'price'] = data['data'][i]['value']\n",
    "SP.index = pd.to_datetime(SP['date'])\n",
    "SP.drop(columns='date', inplace=True)\n",
    "SP.sort_index(inplace=True)\n",
    "SP['price'] = pd.to_numeric(SP['price'], errors='coerce')\n",
    "SP = SP.dropna()"
   ],
   "metadata": {
    "collapsed": false,
    "ExecuteTime": {
     "end_time": "2024-04-29T05:55:49.245947Z",
     "start_time": "2024-04-29T05:55:46.604338Z"
    }
   },
   "id": "860fa088d08d05fd",
   "execution_count": 4
  },
  {
   "cell_type": "code",
   "outputs": [],
   "source": [
    "SP['return'] = SP['price'].pct_change().apply(lambda x: np.log(1 + x))"
   ],
   "metadata": {
    "collapsed": false,
    "ExecuteTime": {
     "end_time": "2024-04-29T05:55:49.262003Z",
     "start_time": "2024-04-29T05:55:49.259430Z"
    }
   },
   "id": "6b95511ef2b8f45a",
   "execution_count": 5
  },
  {
   "cell_type": "code",
   "outputs": [],
   "source": [
    "SP_month_return = SP['return'].dropna()"
   ],
   "metadata": {
    "collapsed": false,
    "ExecuteTime": {
     "end_time": "2024-04-29T05:55:49.268498Z",
     "start_time": "2024-04-29T05:55:49.263033Z"
    }
   },
   "id": "47c28f6feee038cf",
   "execution_count": 6
  },
  {
   "cell_type": "code",
   "outputs": [],
   "source": [
    "SP_month_return = SP_month_return "
   ],
   "metadata": {
    "collapsed": false,
    "ExecuteTime": {
     "end_time": "2024-04-29T05:55:49.271565Z",
     "start_time": "2024-04-29T05:55:49.266473Z"
    }
   },
   "id": "65757be1503022b2",
   "execution_count": 7
  },
  {
   "cell_type": "markdown",
   "source": [
    "# ROLLING WINDOW로 예측"
   ],
   "metadata": {
    "collapsed": false
   },
   "id": "ebe441fb23f747b8"
  },
  {
   "cell_type": "code",
   "outputs": [],
   "source": [
    "# 학습할 데이터 가져오기 \n",
    "SP_spot = pd.read_csv('../../Database/spot_std/SP_vol.csv')"
   ],
   "metadata": {
    "collapsed": false,
    "ExecuteTime": {
     "end_time": "2024-04-29T05:55:49.279347Z",
     "start_time": "2024-04-29T05:55:49.270165Z"
    }
   },
   "id": "3ea0874111d8da5e",
   "execution_count": 8
  },
  {
   "cell_type": "code",
   "outputs": [
    {
     "data": {
      "text/plain": "            date    return      종가\n0     1986-01-09  0.028227  0.9145\n1     1986-01-10  0.026726  0.9195\n2     1986-01-13  0.028682  0.9175\n3     1986-01-14  0.015585  0.9170\n4     1986-01-15  0.016976  0.9125\n...          ...       ...     ...\n4039  2001-12-20  0.097781  0.8670\n4040  2001-12-21  0.049713  0.8690\n4041  2001-12-26  0.247830  0.8690\n4042  2001-12-27  0.250078  0.8710\n4043  2001-12-28  0.269711  0.8760\n\n[4044 rows x 3 columns]",
      "text/html": "<div>\n<style scoped>\n    .dataframe tbody tr th:only-of-type {\n        vertical-align: middle;\n    }\n\n    .dataframe tbody tr th {\n        vertical-align: top;\n    }\n\n    .dataframe thead th {\n        text-align: right;\n    }\n</style>\n<table border=\"1\" class=\"dataframe\">\n  <thead>\n    <tr style=\"text-align: right;\">\n      <th></th>\n      <th>date</th>\n      <th>return</th>\n      <th>종가</th>\n    </tr>\n  </thead>\n  <tbody>\n    <tr>\n      <th>0</th>\n      <td>1986-01-09</td>\n      <td>0.028227</td>\n      <td>0.9145</td>\n    </tr>\n    <tr>\n      <th>1</th>\n      <td>1986-01-10</td>\n      <td>0.026726</td>\n      <td>0.9195</td>\n    </tr>\n    <tr>\n      <th>2</th>\n      <td>1986-01-13</td>\n      <td>0.028682</td>\n      <td>0.9175</td>\n    </tr>\n    <tr>\n      <th>3</th>\n      <td>1986-01-14</td>\n      <td>0.015585</td>\n      <td>0.9170</td>\n    </tr>\n    <tr>\n      <th>4</th>\n      <td>1986-01-15</td>\n      <td>0.016976</td>\n      <td>0.9125</td>\n    </tr>\n    <tr>\n      <th>...</th>\n      <td>...</td>\n      <td>...</td>\n      <td>...</td>\n    </tr>\n    <tr>\n      <th>4039</th>\n      <td>2001-12-20</td>\n      <td>0.097781</td>\n      <td>0.8670</td>\n    </tr>\n    <tr>\n      <th>4040</th>\n      <td>2001-12-21</td>\n      <td>0.049713</td>\n      <td>0.8690</td>\n    </tr>\n    <tr>\n      <th>4041</th>\n      <td>2001-12-26</td>\n      <td>0.247830</td>\n      <td>0.8690</td>\n    </tr>\n    <tr>\n      <th>4042</th>\n      <td>2001-12-27</td>\n      <td>0.250078</td>\n      <td>0.8710</td>\n    </tr>\n    <tr>\n      <th>4043</th>\n      <td>2001-12-28</td>\n      <td>0.269711</td>\n      <td>0.8760</td>\n    </tr>\n  </tbody>\n</table>\n<p>4044 rows × 3 columns</p>\n</div>"
     },
     "execution_count": 9,
     "metadata": {},
     "output_type": "execute_result"
    }
   ],
   "source": [
    "SP_spot"
   ],
   "metadata": {
    "collapsed": false,
    "ExecuteTime": {
     "end_time": "2024-04-29T05:55:49.290151Z",
     "start_time": "2024-04-29T05:55:49.279943Z"
    }
   },
   "id": "d1f250fcaaa662f",
   "execution_count": 9
  },
  {
   "cell_type": "code",
   "outputs": [],
   "source": [
    "origin_data_index = SP_spot.index"
   ],
   "metadata": {
    "collapsed": false,
    "ExecuteTime": {
     "end_time": "2024-04-29T05:55:49.303175Z",
     "start_time": "2024-04-29T05:55:49.289025Z"
    }
   },
   "id": "2c9e8b10af01f41b",
   "execution_count": 10
  },
  {
   "cell_type": "code",
   "outputs": [],
   "source": [
    "SP_month_return = SP_month_return[SP_spot.date.values] "
   ],
   "metadata": {
    "collapsed": false,
    "ExecuteTime": {
     "end_time": "2024-04-29T05:55:49.311730Z",
     "start_time": "2024-04-29T05:55:49.292790Z"
    }
   },
   "id": "cac8301c751811e5",
   "execution_count": 11
  },
  {
   "cell_type": "code",
   "outputs": [],
   "source": [
    "import garch\n",
    "\n",
    "tmp = garch.rolling_window(SP_month_return, '1999-12-31',1)\n"
   ],
   "metadata": {
    "collapsed": false,
    "ExecuteTime": {
     "end_time": "2024-04-29T05:55:55.955320Z",
     "start_time": "2024-04-29T05:55:49.300362Z"
    }
   },
   "id": "a42a4c0a999914f4",
   "execution_count": 12
  },
  {
   "cell_type": "code",
   "outputs": [
    {
     "data": {
      "text/plain": "            forecast\n2000-01-04  0.000459\n2000-01-05  0.000423\n2000-01-06  0.000517\n2000-01-07  0.000472\n2000-01-10  0.000415\n...              ...\n2001-12-18  0.001135\n2001-12-19  0.001015\n2001-12-20  0.000905\n2001-12-21  0.000944\n2001-12-26  0.000955\n\n[497 rows x 1 columns]",
      "text/html": "<div>\n<style scoped>\n    .dataframe tbody tr th:only-of-type {\n        vertical-align: middle;\n    }\n\n    .dataframe tbody tr th {\n        vertical-align: top;\n    }\n\n    .dataframe thead th {\n        text-align: right;\n    }\n</style>\n<table border=\"1\" class=\"dataframe\">\n  <thead>\n    <tr style=\"text-align: right;\">\n      <th></th>\n      <th>forecast</th>\n    </tr>\n  </thead>\n  <tbody>\n    <tr>\n      <th>2000-01-04</th>\n      <td>0.000459</td>\n    </tr>\n    <tr>\n      <th>2000-01-05</th>\n      <td>0.000423</td>\n    </tr>\n    <tr>\n      <th>2000-01-06</th>\n      <td>0.000517</td>\n    </tr>\n    <tr>\n      <th>2000-01-07</th>\n      <td>0.000472</td>\n    </tr>\n    <tr>\n      <th>2000-01-10</th>\n      <td>0.000415</td>\n    </tr>\n    <tr>\n      <th>...</th>\n      <td>...</td>\n    </tr>\n    <tr>\n      <th>2001-12-18</th>\n      <td>0.001135</td>\n    </tr>\n    <tr>\n      <th>2001-12-19</th>\n      <td>0.001015</td>\n    </tr>\n    <tr>\n      <th>2001-12-20</th>\n      <td>0.000905</td>\n    </tr>\n    <tr>\n      <th>2001-12-21</th>\n      <td>0.000944</td>\n    </tr>\n    <tr>\n      <th>2001-12-26</th>\n      <td>0.000955</td>\n    </tr>\n  </tbody>\n</table>\n<p>497 rows × 1 columns</p>\n</div>"
     },
     "execution_count": 13,
     "metadata": {},
     "output_type": "execute_result"
    }
   ],
   "source": [
    "tmp"
   ],
   "metadata": {
    "collapsed": false,
    "ExecuteTime": {
     "end_time": "2024-04-29T05:55:55.969007Z",
     "start_time": "2024-04-29T05:55:55.956265Z"
    }
   },
   "id": "76856b9b5ee847aa",
   "execution_count": 13
  },
  {
   "cell_type": "code",
   "outputs": [
    {
     "data": {
      "text/plain": "[<matplotlib.lines.Line2D at 0x7f7e19431ca0>]"
     },
     "execution_count": 15,
     "metadata": {},
     "output_type": "execute_result"
    },
    {
     "data": {
      "text/plain": "<Figure size 640x480 with 1 Axes>",
      "image/png": "[encoded data removed]"
     },
     "metadata": {},
     "output_type": "display_data"
    }
   ],
   "source": [
    "plt.plot(tmp.values)"
   ],
   "metadata": {
    "collapsed": false,
    "ExecuteTime": {
     "end_time": "2024-04-29T05:56:07.696960Z",
     "start_time": "2024-04-29T05:56:07.604962Z"
    }
   },
   "id": "4c1cd9121f7b96b4",
   "execution_count": 15
  },
  {
   "cell_type": "code",
   "outputs": [],
   "source": [],
   "metadata": {
    "collapsed": false
   },
   "id": "58078acd5736ece8"
  }
 ],
 "metadata": {
  "kernelspec": {
   "name": "capstone",
   "language": "python",
   "display_name": "capstone"
  },
  "language_info": {
   "codemirror_mode": {
    "name": "ipython",
    "version": 2
   },
   "file_extension": ".py",
   "mimetype": "text/x-python",
   "name": "python",
   "nbconvert_exporter": "python",
   "pygments_lexer": "ipython2",
   "version": "2.7.6"
  }
 },
 "nbformat": 4,
 "nbformat_minor": 5
}
