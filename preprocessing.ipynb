{
 "cells": [
  {
   "cell_type": "code",
   "outputs": [],
   "source": [
    "from matplotlib import pyplot as plt\n",
    "from IPython.core.interactiveshell import InteractiveShell\n",
    "\n",
    "import warnings\n",
    "import numpy as np\n",
    "import pandas as pd"
   ],
   "metadata": {
    "collapsed": false,
    "ExecuteTime": {
     "end_time": "2024-03-17T04:59:11.358565400Z",
     "start_time": "2024-03-17T04:59:11.325322800Z"
    }
   },
   "id": "496270b0ab9e193c",
   "execution_count": 70
  },
  {
   "cell_type": "code",
   "outputs": [],
   "source": [
    "plt.rc('font', family='GULIM')\n",
    "warnings.filterwarnings(action='ignore')\n",
    "InteractiveShell.ast_node_interactivity = \"all\""
   ],
   "metadata": {
    "collapsed": false,
    "ExecuteTime": {
     "end_time": "2024-03-17T04:59:11.382993Z",
     "start_time": "2024-03-17T04:59:11.373796300Z"
    }
   },
   "id": "ed456206b461c823",
   "execution_count": 71
  },
  {
   "cell_type": "markdown",
   "source": [
    "# Data Check"
   ],
   "metadata": {
    "collapsed": false
   },
   "id": "c1e6f16ba4b193c1"
  },
  {
   "cell_type": "code",
   "outputs": [],
   "source": [
    "wti = pd.read_csv('Database/oils/WTI.csv', index_col=0)\n",
    "bno = pd.read_csv('Database/oils/BNO.csv', index_col=0)"
   ],
   "metadata": {
    "collapsed": false,
    "ExecuteTime": {
     "end_time": "2024-03-17T04:59:11.392880800Z",
     "start_time": "2024-03-17T04:59:11.377305300Z"
    }
   },
   "id": "cb76e1070f034427",
   "execution_count": 72
  },
  {
   "cell_type": "code",
   "outputs": [
    {
     "data": {
      "text/plain": "Date\n2017-12-01    3.465902\n2017-12-04    3.346730\n2017-12-05    3.396385\n2017-12-06    3.028940\n2017-12-07    3.058733\n                ...   \n2024-03-11    2.579681\n2024-03-12    2.490040\n2024-03-13    2.539840\n2024-03-14    2.500000\n2024-03-15    2.590000\nName: Adj Close, Length: 1581, dtype: float64"
     },
     "execution_count": 73,
     "metadata": {},
     "output_type": "execute_result"
    }
   ],
   "source": [
    "wti['Adj Close']"
   ],
   "metadata": {
    "collapsed": false,
    "ExecuteTime": {
     "end_time": "2024-03-17T04:59:11.394881600Z",
     "start_time": "2024-03-17T04:59:11.391190300Z"
    }
   },
   "id": "d2df1484fdb74d49",
   "execution_count": 73
  },
  {
   "cell_type": "code",
   "outputs": [
    {
     "data": {
      "text/plain": "Date\n2017-12-01    17.180000\n2017-12-04    16.830000\n2017-12-05    16.969999\n2017-12-06    16.510000\n2017-12-07    16.730000\n                ...    \n2024-03-11    29.969999\n2024-03-12    29.870001\n2024-03-13    30.580000\n2024-03-14    31.000000\n2024-03-15    31.030001\nName: Adj Close, Length: 1581, dtype: float64"
     },
     "execution_count": 74,
     "metadata": {},
     "output_type": "execute_result"
    }
   ],
   "source": [
    "bno['Adj Close']"
   ],
   "metadata": {
    "collapsed": false,
    "ExecuteTime": {
     "end_time": "2024-03-17T04:59:11.414240200Z",
     "start_time": "2024-03-17T04:59:11.394881600Z"
    }
   },
   "id": "8f01f999b858294d",
   "execution_count": 74
  },
  {
   "cell_type": "markdown",
   "source": [
    "# General preprocessing"
   ],
   "metadata": {
    "collapsed": false
   },
   "id": "eeeb07b5f8060532"
  },
  {
   "cell_type": "code",
   "outputs": [],
   "source": [
    "wti['return'] = wti['Adj Close'].pct_change().apply(lambda x: np.log(1 + x))\n",
    "bno['return'] = bno['Adj Close'].pct_change().apply(lambda x: np.log(1 + x))"
   ],
   "metadata": {
    "collapsed": false,
    "ExecuteTime": {
     "end_time": "2024-03-17T04:59:11.414696400Z",
     "start_time": "2024-03-17T04:59:11.402220400Z"
    }
   },
   "id": "dc0cb72908a03136",
   "execution_count": 75
  },
  {
   "cell_type": "code",
   "outputs": [],
   "source": [
    "wti_vol = wti['return'].rolling(window=5).std()\n",
    "bno_vol = bno['return'].rolling(window=5).std()"
   ],
   "metadata": {
    "collapsed": false,
    "ExecuteTime": {
     "end_time": "2024-03-17T04:59:11.425574900Z",
     "start_time": "2024-03-17T04:59:11.412238300Z"
    }
   },
   "id": "8c0a4b6c82d4cf62",
   "execution_count": 76
  },
  {
   "cell_type": "code",
   "outputs": [],
   "source": [
    "wti_vol = wti_vol.iloc[20:]\n",
    "bno_vol = bno_vol.iloc[20:]"
   ],
   "metadata": {
    "collapsed": false,
    "ExecuteTime": {
     "end_time": "2024-03-17T04:59:11.426575600Z",
     "start_time": "2024-03-17T04:59:11.419145300Z"
    }
   },
   "id": "8a9a59a50c8bdc7d",
   "execution_count": 77
  },
  {
   "cell_type": "code",
   "outputs": [],
   "source": [
    "# test_wti = wti_vol.iloc[-52:]\n",
    "# test_bno = bno_vol.iloc[-52:]"
   ],
   "metadata": {
    "collapsed": false,
    "ExecuteTime": {
     "end_time": "2024-03-17T04:59:11.426575600Z",
     "start_time": "2024-03-17T04:59:11.421757500Z"
    }
   },
   "id": "9c0a3e9da2f13ee4",
   "execution_count": 78
  },
  {
   "cell_type": "code",
   "outputs": [],
   "source": [
    "# train_wti = wti_vol.iloc[:-52]\n",
    "# train_bno = bno_vol.iloc[:-52]"
   ],
   "metadata": {
    "collapsed": false,
    "ExecuteTime": {
     "end_time": "2024-03-17T04:59:11.435103200Z",
     "start_time": "2024-03-17T04:59:11.425574900Z"
    }
   },
   "id": "14367748211e61a3",
   "execution_count": 79
  },
  {
   "cell_type": "markdown",
   "source": [
    "# Encoding Categories"
   ],
   "metadata": {
    "collapsed": false
   },
   "id": "ea414df9363740f0"
  },
  {
   "cell_type": "code",
   "outputs": [],
   "source": [
    "wti_vol.to_csv('Database/oil_std/wti_vol.csv')\n",
    "bno_vol.to_csv('Database/oil_std/bno_vol.csv')"
   ],
   "metadata": {
    "collapsed": false,
    "ExecuteTime": {
     "end_time": "2024-03-17T04:59:11.442164800Z",
     "start_time": "2024-03-17T04:59:11.431029100Z"
    }
   },
   "id": "7c786bda7d657b7f",
   "execution_count": 80
  }
 ],
 "metadata": {
  "kernelspec": {
   "display_name": "Python 3",
   "language": "python",
   "name": "python3"
  },
  "language_info": {
   "codemirror_mode": {
    "name": "ipython",
    "version": 2
   },
   "file_extension": ".py",
   "mimetype": "text/x-python",
   "name": "python",
   "nbconvert_exporter": "python",
   "pygments_lexer": "ipython2",
   "version": "2.7.6"
  }
 },
 "nbformat": 4,
 "nbformat_minor": 5
}
