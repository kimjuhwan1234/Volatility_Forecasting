{
 "cells": [
  {
   "cell_type": "code",
   "outputs": [],
   "source": [
    "from matplotlib import pyplot as plt\n",
    "from IPython.core.interactiveshell import InteractiveShell\n",
    "\n",
    "import warnings\n",
    "import numpy as np\n",
    "import pandas as pd\n",
    "import yfinance as yf"
   ],
   "metadata": {
    "collapsed": false,
    "ExecuteTime": {
     "end_time": "2024-04-06T12:11:03.582655200Z",
     "start_time": "2024-04-06T12:11:03.580648900Z"
    }
   },
   "id": "496270b0ab9e193c",
   "execution_count": 18
  },
  {
   "cell_type": "code",
   "outputs": [],
   "source": [
    "plt.rc('font', family='GULIM')\n",
    "warnings.filterwarnings(action='ignore')\n",
    "InteractiveShell.ast_node_interactivity = \"all\""
   ],
   "metadata": {
    "collapsed": false,
    "ExecuteTime": {
     "end_time": "2024-04-06T12:11:03.791907500Z",
     "start_time": "2024-04-06T12:11:03.787899400Z"
    }
   },
   "id": "ed456206b461c823",
   "execution_count": 19
  },
  {
   "cell_type": "markdown",
   "source": [
    "# Data Collecting"
   ],
   "metadata": {
    "collapsed": false
   },
   "id": "c1e6f16ba4b193c1"
  },
  {
   "cell_type": "code",
   "outputs": [
    {
     "name": "stderr",
     "output_type": "stream",
     "text": [
      "[*********************100%%**********************]  1 of 1 completed\n",
      "[*********************100%%**********************]  1 of 1 completed\n",
      "[*********************100%%**********************]  1 of 1 completed\n",
      "[*********************100%%**********************]  1 of 1 completed\n",
      "[*********************100%%**********************]  1 of 1 completed\n",
      "[*********************100%%**********************]  1 of 1 completed\n"
     ]
    }
   ],
   "source": [
    "CL = yf.download('CL=F', start='2000-08-23')\n",
    "HO = yf.download('HO=F', start='2000-09-01')\n",
    "NG = yf.download('NG=F', start='2000-08-30')\n",
    "RB = yf.download('RB=F', start='2000-11-01')\n",
    "BZ = yf.download('BZ=F', start='2007-07-30')\n",
    "ZL = yf.download('ZL=F', start='2000-03-15')\n",
    "SP = pd.read_csv('Database/oil_price/CL_spot.csv', index_col=0)\n",
    "BZ_2 = pd.read_csv('Database/oil_price/BZ_future.csv', index_col=0)\n",
    "SP.sort_index(inplace=True)"
   ],
   "metadata": {
    "collapsed": false,
    "ExecuteTime": {
     "end_time": "2024-04-06T12:11:06.829786100Z",
     "start_time": "2024-04-06T12:11:04.192676700Z"
    }
   },
   "id": "340947cf9e23980",
   "execution_count": 20
  },
  {
   "cell_type": "markdown",
   "source": [
    "# Numerical Data Preprocessing"
   ],
   "metadata": {
    "collapsed": false
   },
   "id": "bfb194dbe9c2fb56"
  },
  {
   "cell_type": "code",
   "outputs": [],
   "source": [
    "SP['price'] = pd.to_numeric(SP['price'], errors='coerce')\n",
    "SP = SP.dropna()"
   ],
   "metadata": {
    "collapsed": false,
    "ExecuteTime": {
     "end_time": "2024-04-06T12:11:06.838381300Z",
     "start_time": "2024-04-06T12:11:06.826784300Z"
    }
   },
   "id": "e540214fbff906e6",
   "execution_count": 21
  },
  {
   "cell_type": "code",
   "outputs": [],
   "source": [
    "BZ_2.index=pd.to_datetime(BZ_2.index)\n",
    "BZ_2_sorted = BZ_2.sort_index().loc[:'2007-07-27', 'Price']\n",
    "BL = pd.concat([BZ['Adj Close'], BZ_2_sorted], axis=0).sort_index()\n",
    "BL=pd.DataFrame(data=BL.values, columns=['Adj Close'], index=BL.index)"
   ],
   "metadata": {
    "collapsed": false,
    "ExecuteTime": {
     "end_time": "2024-04-06T12:11:06.867643600Z",
     "start_time": "2024-04-06T12:11:06.837381200Z"
    }
   },
   "id": "f66b4b0ac8047e5",
   "execution_count": 22
  },
  {
   "cell_type": "code",
   "outputs": [],
   "source": [
    "CL['return'] = CL['Adj Close'].pct_change().apply(lambda x: np.log(1 + x))\n",
    "HO['return'] = HO['Adj Close'].pct_change().apply(lambda x: np.log(1 + x))\n",
    "NG['return'] = NG['Adj Close'].pct_change().apply(lambda x: np.log(1 + x))\n",
    "RB['return'] = RB['Adj Close'].pct_change().apply(lambda x: np.log(1 + x))\n",
    "BL['return'] = BL['Adj Close'].pct_change().apply(lambda x: np.log(1 + x))\n",
    "ZL['return'] = ZL['Adj Close'].pct_change().apply(lambda x: np.log(1 + x))\n",
    "SP['return'] = SP['price'].pct_change().apply(lambda x: np.log(1 + x))"
   ],
   "metadata": {
    "collapsed": false,
    "ExecuteTime": {
     "end_time": "2024-04-06T12:11:06.944219Z",
     "start_time": "2024-04-06T12:11:06.864126300Z"
    }
   },
   "id": "b03bfdb1e2739d00",
   "execution_count": 23
  },
  {
   "cell_type": "code",
   "outputs": [],
   "source": [
    "CL = CL.dropna()\n",
    "HO = HO.dropna()\n",
    "NG = NG.dropna()\n",
    "RB = RB.dropna()\n",
    "BL = BL.dropna()\n",
    "ZL = ZL.dropna()\n",
    "SP = SP.dropna()"
   ],
   "metadata": {
    "collapsed": false,
    "ExecuteTime": {
     "end_time": "2024-04-06T12:11:06.956591500Z",
     "start_time": "2024-04-06T12:11:06.946733600Z"
    }
   },
   "id": "b72e326a8df8e415",
   "execution_count": 24
  },
  {
   "cell_type": "code",
   "outputs": [],
   "source": [
    "CL_vol = CL['return'].rolling(window=5).std()\n",
    "HO_vol = HO['return'].rolling(window=5).std()\n",
    "NG_vol = NG['return'].rolling(window=5).std()\n",
    "RB_vol = RB['return'].rolling(window=5).std()\n",
    "BZ_vol = BL['return'].rolling(window=5).std()\n",
    "ZL_vol = ZL['return'].rolling(window=5).std()\n",
    "SP_vol = SP['return'].rolling(window=5).std()"
   ],
   "metadata": {
    "collapsed": false,
    "ExecuteTime": {
     "end_time": "2024-04-06T12:11:06.963472500Z",
     "start_time": "2024-04-06T12:11:06.955452300Z"
    }
   },
   "id": "352fa9bc850e5029",
   "execution_count": 25
  },
  {
   "cell_type": "code",
   "outputs": [],
   "source": [
    "CL_vol = CL_vol.dropna()\n",
    "HO_vol = HO_vol.dropna()\n",
    "NG_vol = NG_vol.dropna()\n",
    "RB_vol = RB_vol.dropna()\n",
    "BZ_vol = BZ_vol.dropna()\n",
    "ZL_vol = ZL_vol.dropna()\n",
    "SP_vol = SP_vol.dropna()"
   ],
   "metadata": {
    "collapsed": false,
    "ExecuteTime": {
     "end_time": "2024-04-06T12:11:06.975782400Z",
     "start_time": "2024-04-06T12:11:06.964473300Z"
    }
   },
   "id": "ce5ca73e45d425b4",
   "execution_count": 26
  },
  {
   "cell_type": "code",
   "outputs": [],
   "source": [
    "CL_vol.index = pd.to_datetime(CL_vol.index)\n",
    "HO_vol.index = pd.to_datetime(HO_vol.index)\n",
    "NG_vol.index = pd.to_datetime(NG_vol.index)\n",
    "RB_vol.index = pd.to_datetime(RB_vol.index)\n",
    "BZ_vol.index = pd.to_datetime(BZ_vol.index)\n",
    "ZL_vol.index = pd.to_datetime(ZL_vol.index)\n",
    "SP_vol.index = pd.to_datetime(SP_vol.index)\n",
    "vol_list = [CL_vol, HO_vol, NG_vol, RB_vol, BZ_vol, ZL_vol, SP_vol]"
   ],
   "metadata": {
    "collapsed": false,
    "ExecuteTime": {
     "end_time": "2024-04-06T12:11:43.700881300Z",
     "start_time": "2024-04-06T12:11:43.524257100Z"
    }
   },
   "id": "4625ceda26754091",
   "execution_count": 28
  },
  {
   "cell_type": "code",
   "outputs": [],
   "source": [
    "# plt.figure(figsize=(10, 6))\n",
    "# # plt.plot(CL_vol[:500], label='CL')\n",
    "# plt.plot(HO_vol[:600], label='HO')\n",
    "# # plt.plot(NG_vol['return'][:500], label='NG')\n",
    "# # plt.plot(RB_vol['return'][:500], label='RB')\n",
    "# plt.plot(BZ_vol[:600], label='BZ')\n",
    "# # plt.plot(ZL_vol['return'][:500], label='ZL')\n",
    "# plt.title('Volatility')\n",
    "# plt.xlabel('Time')\n",
    "# plt.ylabel('Value')\n",
    "# plt.legend()\n",
    "# plt.xticks(CL_vol.index[0:600:50])\n",
    "# plt.tight_layout()\n",
    "# plt.show()"
   ],
   "metadata": {
    "collapsed": false,
    "ExecuteTime": {
     "end_time": "2024-04-06T11:55:38.668917700Z",
     "start_time": "2024-04-06T11:55:38.664665300Z"
    }
   },
   "id": "2ca59b0616fc7a53",
   "execution_count": 11
  },
  {
   "cell_type": "markdown",
   "source": [
    "# Text Data Preprocessing"
   ],
   "metadata": {
    "collapsed": false
   },
   "id": "eeeb07b5f8060532"
  },
  {
   "cell_type": "code",
   "outputs": [],
   "source": [
    "text_data=pd.read_parquet('Database/newsdata+embedding.parquet')"
   ],
   "metadata": {
    "collapsed": false,
    "ExecuteTime": {
     "end_time": "2024-04-06T11:55:39.004053Z",
     "start_time": "2024-04-06T11:55:38.667687600Z"
    }
   },
   "id": "52b7e461bf0abbd5",
   "execution_count": 12
  },
  {
   "cell_type": "code",
   "outputs": [
    {
     "name": "stdout",
     "output_type": "stream",
     "text": [
      "<class 'pandas.core.frame.DataFrame'>\n",
      "RangeIndex: 27971 entries, 0 to 27970\n",
      "Data columns (total 4 columns):\n",
      " #   Column     Non-Null Count  Dtype         \n",
      "---  ------     --------------  -----         \n",
      " 0   title      27971 non-null  object        \n",
      " 1   url        27971 non-null  object        \n",
      " 2   date       27971 non-null  datetime64[ns]\n",
      " 3   embedding  27971 non-null  object        \n",
      "dtypes: datetime64[ns](1), object(3)\n",
      "memory usage: 874.2+ KB\n"
     ]
    }
   ],
   "source": [
    "text_data.info()"
   ],
   "metadata": {
    "collapsed": false,
    "ExecuteTime": {
     "end_time": "2024-04-06T11:55:39.017916800Z",
     "start_time": "2024-04-06T11:55:39.004053Z"
    }
   },
   "id": "b2429fc47f1f1f86",
   "execution_count": 13
  },
  {
   "cell_type": "code",
   "outputs": [],
   "source": [
    "NLP_vec = text_data[['date', 'embedding']].reset_index()\n",
    "NLP_vec.index = NLP_vec['date']\n",
    "NLP_vec = NLP_vec[~NLP_vec.index.duplicated(keep='first')]\n",
    "NLP_vec = NLP_vec['embedding']"
   ],
   "metadata": {
    "collapsed": false,
    "ExecuteTime": {
     "end_time": "2024-04-06T11:55:39.047021600Z",
     "start_time": "2024-04-06T11:55:39.016904900Z"
    }
   },
   "id": "fe9bae728412539a",
   "execution_count": 14
  },
  {
   "cell_type": "code",
   "outputs": [],
   "source": [
    "new_columns = {f'{i}': pd.Series(dtype='object') for i in range(384)}\n",
    "new_df = pd.DataFrame(new_columns)\n",
    "\n",
    "for i in range(384):\n",
    "    new_df[f'{i}'] = NLP_vec.apply(lambda x: f'{x[i]}')\n",
    "\n",
    "df = pd.concat([NLP_vec , new_df], axis=1)"
   ],
   "metadata": {
    "collapsed": false,
    "ExecuteTime": {
     "end_time": "2024-04-06T11:55:43.680962600Z",
     "start_time": "2024-04-06T11:55:39.029908Z"
    }
   },
   "id": "91625e87200e37b3",
   "execution_count": 15
  },
  {
   "cell_type": "code",
   "outputs": [],
   "source": [
    "vol_list = [CL_vol, HO_vol, NG_vol, RB_vol, BZ_vol, ZL_vol, SP_vol]\n",
    "for i, vol in enumerate(vol_list):\n",
    "    vol_list[i] = pd.concat([vol, df], axis=1)\n",
    "    vol_list[i] = vol_list[i].dropna(subset=['return'])\n",
    "    nan_index = vol_list[i][vol_list[i]['embedding'].isna()].index\n",
    "    vol_list[i].loc[nan_index] = 0\n",
    "    vol_list[i]=vol_list[i].drop(columns=['embedding'])\n",
    "    if i !=6:\n",
    "        vol_list[i]=vol_list[i].loc['2001-01-01':]\n",
    "    else:\n",
    "        vol_list[i]=vol_list[i].loc[:'2000-12-31']"
   ],
   "metadata": {
    "collapsed": false,
    "ExecuteTime": {
     "end_time": "2024-04-06T11:55:45.170305900Z",
     "start_time": "2024-04-06T11:55:43.680962600Z"
    }
   },
   "id": "bd71360d81a8c284",
   "execution_count": 16
  },
  {
   "cell_type": "markdown",
   "source": [
    "# Save Files"
   ],
   "metadata": {
    "collapsed": false
   },
   "id": "2a53b18cb88f351e"
  },
  {
   "cell_type": "code",
   "outputs": [],
   "source": [
    "name_list = ['CL_vol', 'HO_vol', 'NG_vol', 'RB_vol', 'BZ_vol', 'ZL_vol', 'SP_vol']\n",
    "for i, vol in enumerate(name_list):\n",
    "    if i != 6:\n",
    "        vol_list[i].to_csv(f'Database/future_std/{vol}.csv')\n",
    "    else:\n",
    "        vol_list[i].to_csv(f'Database/spot_std/{vol}.csv')"
   ],
   "metadata": {
    "collapsed": false,
    "ExecuteTime": {
     "end_time": "2024-04-06T12:11:48.132192900Z",
     "start_time": "2024-04-06T12:11:47.995686300Z"
    }
   },
   "id": "5ca7a01a453cdc6",
   "execution_count": 29
  }
 ],
 "metadata": {
  "kernelspec": {
   "display_name": "Python 3",
   "language": "python",
   "name": "python3"
  },
  "language_info": {
   "codemirror_mode": {
    "name": "ipython",
    "version": 2
   },
   "file_extension": ".py",
   "mimetype": "text/x-python",
   "name": "python",
   "nbconvert_exporter": "python",
   "pygments_lexer": "ipython2",
   "version": "2.7.6"
  }
 },
 "nbformat": 4,
 "nbformat_minor": 5
}
