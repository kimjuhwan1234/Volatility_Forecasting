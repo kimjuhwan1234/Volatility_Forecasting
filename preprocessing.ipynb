{
 "cells": [
  {
   "cell_type": "code",
   "outputs": [],
   "source": [
    "from matplotlib import pyplot as plt\n",
    "from IPython.core.interactiveshell import InteractiveShell\n",
    "\n",
    "import warnings\n",
    "import numpy as np\n",
    "import pandas as pd\n",
    "import yfinance as yf"
   ],
   "metadata": {
    "collapsed": false,
    "ExecuteTime": {
     "end_time": "2024-04-05T14:38:50.409754600Z",
     "start_time": "2024-04-05T14:38:49.087416500Z"
    }
   },
   "id": "496270b0ab9e193c",
   "execution_count": 2
  },
  {
   "cell_type": "code",
   "outputs": [],
   "source": [
    "plt.rc('font', family='GULIM')\n",
    "warnings.filterwarnings(action='ignore')\n",
    "InteractiveShell.ast_node_interactivity = \"all\""
   ],
   "metadata": {
    "collapsed": false,
    "ExecuteTime": {
     "end_time": "2024-04-05T14:38:50.873913900Z",
     "start_time": "2024-04-05T14:38:50.869068600Z"
    }
   },
   "id": "ed456206b461c823",
   "execution_count": 3
  },
  {
   "cell_type": "markdown",
   "source": [
    "# Data Collecting"
   ],
   "metadata": {
    "collapsed": false
   },
   "id": "c1e6f16ba4b193c1"
  },
  {
   "cell_type": "code",
   "outputs": [
    {
     "name": "stderr",
     "output_type": "stream",
     "text": [
      "[*********************100%%**********************]  1 of 1 completed\n",
      "[*********************100%%**********************]  1 of 1 completed\n",
      "[*********************100%%**********************]  1 of 1 completed\n",
      "[*********************100%%**********************]  1 of 1 completed\n",
      "[*********************100%%**********************]  1 of 1 completed\n",
      "[*********************100%%**********************]  1 of 1 completed\n"
     ]
    }
   ],
   "source": [
    "CL = yf.download('CL=F', start='2000-08-23')\n",
    "HO = yf.download('HO=F', start='2000-09-01')\n",
    "NG = yf.download('NG=F', start='2000-08-30')\n",
    "RB = yf.download('RB=F', start='2000-11-01')\n",
    "BZ = yf.download('BZ=F', start='2007-07-30')\n",
    "ZL = yf.download('ZL=F', start='2000-03-15')\n",
    "SP = pd.read_csv('Database/oil_spot/CL.csv', index_col=0)\n",
    "SP.sort_index(inplace=True)"
   ],
   "metadata": {
    "collapsed": false,
    "ExecuteTime": {
     "end_time": "2024-04-05T14:38:55.079888600Z",
     "start_time": "2024-04-05T14:38:51.421808900Z"
    }
   },
   "id": "340947cf9e23980",
   "execution_count": 4
  },
  {
   "cell_type": "markdown",
   "source": [
    "# Numerical Data Preprocessing"
   ],
   "metadata": {
    "collapsed": false
   },
   "id": "bfb194dbe9c2fb56"
  },
  {
   "cell_type": "code",
   "outputs": [],
   "source": [
    "SP['price'] = pd.to_numeric(SP['price'], errors='coerce')\n",
    "SP = SP.dropna()"
   ],
   "metadata": {
    "collapsed": false,
    "ExecuteTime": {
     "end_time": "2024-04-05T14:38:55.093912700Z",
     "start_time": "2024-04-05T14:38:55.082662700Z"
    }
   },
   "id": "e540214fbff906e6",
   "execution_count": 5
  },
  {
   "cell_type": "code",
   "outputs": [],
   "source": [
    "CL['return'] = CL['Adj Close'].pct_change().apply(lambda x: np.log(1 + x))\n",
    "HO['return'] = HO['Adj Close'].pct_change().apply(lambda x: np.log(1 + x))\n",
    "NG['return'] = NG['Adj Close'].pct_change().apply(lambda x: np.log(1 + x))\n",
    "RB['return'] = RB['Adj Close'].pct_change().apply(lambda x: np.log(1 + x))\n",
    "BZ['return'] = BZ['Adj Close'].pct_change().apply(lambda x: np.log(1 + x))\n",
    "ZL['return'] = ZL['Adj Close'].pct_change().apply(lambda x: np.log(1 + x))\n",
    "SP['return'] = SP['price'].pct_change().apply(lambda x: np.log(1 + x))"
   ],
   "metadata": {
    "collapsed": false,
    "ExecuteTime": {
     "end_time": "2024-04-05T14:38:55.168215400Z",
     "start_time": "2024-04-05T14:38:55.092911400Z"
    }
   },
   "id": "b03bfdb1e2739d00",
   "execution_count": 6
  },
  {
   "cell_type": "code",
   "outputs": [],
   "source": [
    "CL = CL.dropna()\n",
    "HO = HO.dropna()\n",
    "NG = NG.dropna()\n",
    "RB = RB.dropna()\n",
    "BZ = BZ.dropna()\n",
    "ZL = ZL.dropna()\n",
    "SP = SP.dropna()"
   ],
   "metadata": {
    "collapsed": false,
    "ExecuteTime": {
     "end_time": "2024-04-05T14:38:55.180426900Z",
     "start_time": "2024-04-05T14:38:55.170216200Z"
    }
   },
   "id": "b72e326a8df8e415",
   "execution_count": 7
  },
  {
   "cell_type": "code",
   "outputs": [],
   "source": [
    "CL_vol = CL['return'].rolling(window=5).std()\n",
    "HO_vol = HO['return'].rolling(window=5).std()\n",
    "NG_vol = NG['return'].rolling(window=5).std()\n",
    "RB_vol = RB['return'].rolling(window=5).std()\n",
    "BZ_vol = BZ['return'].rolling(window=5).std()\n",
    "ZL_vol = ZL['return'].rolling(window=5).std()\n",
    "SP_vol = SP['return'].rolling(window=5).std()"
   ],
   "metadata": {
    "collapsed": false,
    "ExecuteTime": {
     "end_time": "2024-04-05T14:38:55.187796600Z",
     "start_time": "2024-04-05T14:38:55.178426500Z"
    }
   },
   "id": "352fa9bc850e5029",
   "execution_count": 8
  },
  {
   "cell_type": "code",
   "outputs": [],
   "source": [
    "CL_vol = CL_vol.dropna()\n",
    "HO_vol = HO_vol.dropna()\n",
    "NG_vol = NG_vol.dropna()\n",
    "RB_vol = RB_vol.dropna()\n",
    "BZ_vol = BZ_vol.dropna()\n",
    "ZL_vol = ZL_vol.dropna()\n",
    "SP_vol = SP_vol.dropna()"
   ],
   "metadata": {
    "collapsed": false,
    "ExecuteTime": {
     "end_time": "2024-04-05T14:38:55.206584800Z",
     "start_time": "2024-04-05T14:38:55.187796600Z"
    }
   },
   "id": "ce5ca73e45d425b4",
   "execution_count": 9
  },
  {
   "cell_type": "code",
   "outputs": [],
   "source": [
    "CL_vol.index = pd.to_datetime(CL_vol.index)\n",
    "HO_vol.index = pd.to_datetime(HO_vol.index)\n",
    "NG_vol.index = pd.to_datetime(NG_vol.index)\n",
    "RB_vol.index = pd.to_datetime(RB_vol.index)\n",
    "BZ_vol.index = pd.to_datetime(BZ_vol.index)\n",
    "ZL_vol.index = pd.to_datetime(ZL_vol.index)\n",
    "SP_vol.index = pd.to_datetime(SP_vol.index)"
   ],
   "metadata": {
    "collapsed": false,
    "ExecuteTime": {
     "end_time": "2024-04-05T14:38:55.238229600Z",
     "start_time": "2024-04-05T14:38:55.199066200Z"
    }
   },
   "id": "4625ceda26754091",
   "execution_count": 10
  },
  {
   "cell_type": "markdown",
   "source": [
    "# Text Data Preprocessing"
   ],
   "metadata": {
    "collapsed": false
   },
   "id": "eeeb07b5f8060532"
  },
  {
   "cell_type": "code",
   "outputs": [],
   "source": [
    "text_data=pd.read_parquet('Database/newsdata+embedding.parquet')"
   ],
   "metadata": {
    "collapsed": false,
    "ExecuteTime": {
     "end_time": "2024-04-05T15:14:25.115645900Z",
     "start_time": "2024-04-05T15:14:24.790171100Z"
    }
   },
   "id": "52b7e461bf0abbd5",
   "execution_count": 72
  },
  {
   "cell_type": "code",
   "outputs": [
    {
     "name": "stdout",
     "output_type": "stream",
     "text": [
      "<class 'pandas.core.frame.DataFrame'>\n",
      "RangeIndex: 27971 entries, 0 to 27970\n",
      "Data columns (total 4 columns):\n",
      " #   Column     Non-Null Count  Dtype         \n",
      "---  ------     --------------  -----         \n",
      " 0   title      27971 non-null  object        \n",
      " 1   url        27971 non-null  object        \n",
      " 2   date       27971 non-null  datetime64[ns]\n",
      " 3   embedding  27971 non-null  object        \n",
      "dtypes: datetime64[ns](1), object(3)\n",
      "memory usage: 874.2+ KB\n"
     ]
    }
   ],
   "source": [
    "text_data.info()"
   ],
   "metadata": {
    "collapsed": false,
    "ExecuteTime": {
     "end_time": "2024-04-05T15:14:25.130421300Z",
     "start_time": "2024-04-05T15:14:25.115645900Z"
    }
   },
   "id": "b2429fc47f1f1f86",
   "execution_count": 73
  },
  {
   "cell_type": "code",
   "outputs": [],
   "source": [
    "NLP_vec = text_data[['date', 'embedding']]\n",
    "NLP_vec.reset_index(inplace=True)\n",
    "NLP_vec.index = NLP_vec['date']"
   ],
   "metadata": {
    "collapsed": false,
    "ExecuteTime": {
     "end_time": "2024-04-05T15:14:25.400543700Z",
     "start_time": "2024-04-05T15:14:25.396674400Z"
    }
   },
   "id": "fe9bae728412539a",
   "execution_count": 74
  },
  {
   "cell_type": "code",
   "outputs": [],
   "source": [
    "NLP_vec = NLP_vec[~NLP_vec.index.duplicated(keep='first')]\n",
    "NLP_vec = NLP_vec['embedding']"
   ],
   "metadata": {
    "collapsed": false,
    "ExecuteTime": {
     "end_time": "2024-04-05T15:14:25.859741200Z",
     "start_time": "2024-04-05T15:14:25.853459700Z"
    }
   },
   "id": "b2de21926c69322",
   "execution_count": 75
  },
  {
   "cell_type": "code",
   "outputs": [],
   "source": [
    "new_columns = {f'{i}': pd.Series(dtype='object') for i in range(384)}\n",
    "new_df = pd.DataFrame(new_columns)\n",
    "\n",
    "# 확장된 열을 기존 DataFrame에 병합합니다.\n",
    "for i in range(384):\n",
    "    new_df[f'{i}'] = NLP_vec.apply(lambda x: x[i] if i < len(x) else pd.NA)\n",
    "\n",
    "# 새로운 DataFrame과 기존 DataFrame을 병합합니다.\n",
    "df = pd.concat([NLP_vec , new_df], axis=1)"
   ],
   "metadata": {
    "collapsed": false,
    "ExecuteTime": {
     "end_time": "2024-04-05T15:14:28.095317500Z",
     "start_time": "2024-04-05T15:14:26.287516700Z"
    }
   },
   "id": "91625e87200e37b3",
   "execution_count": 76
  },
  {
   "cell_type": "code",
   "outputs": [],
   "source": [
    "def str_to_array(s):\n",
    "    list_array = [float(x) for x in s.strip('[]').split()]\n",
    "    return np.array(list_array)\n",
    "\n",
    "vol_list = [CL_vol, HO_vol, NG_vol, RB_vol, BZ_vol, ZL_vol, SP_vol]\n",
    "for i, vol in enumerate(vol_list):\n",
    "    vol_list[i] = pd.concat([vol, NLP_vec], axis=1)\n",
    "    vol_list[i] = vol_list[i].dropna(subset=['return'])\n",
    "    nan_index = vol_list[i][vol_list[i]['embedding'].isna()].index\n",
    "    vol_list[i].loc[nan_index, 'embedding'] = 0\n",
    "\n",
    "    # vectors = vol_list[i]['embedding'].apply(pd.Series)\n",
    "    # vectors = vectors.rename(columns=lambda x: f'vector_{x+1}')\n",
    "    # \n",
    "    # for k in range(384):\n",
    "    #     vol_list[i][f'{k}'] = vectors.apply(lambda x: x[k])\n",
    "\n",
    "    # \n",
    "    # # 원래의 DataFrame에 벡터의 개별 열을 병합\n",
    "    # df_expanded = pd.concat([vol_list[i].drop('embedding', axis=1), vectors], axis=1)\n",
    "    \n",
    "    # for j in range(384):\n",
    "    #     vol_list[i][f'{j}']=None\n",
    "    # array_series = vol_list[i].iloc[:,1].apply(str_to_array)"
   ],
   "metadata": {
    "collapsed": false,
    "ExecuteTime": {
     "end_time": "2024-04-05T15:01:03.221859900Z",
     "start_time": "2024-04-05T15:01:03.206260Z"
    }
   },
   "id": "bd71360d81a8c284",
   "execution_count": 43
  },
  {
   "cell_type": "code",
   "outputs": [],
   "source": [
    "CL_vol = vol_list[0].drop(columns=['embedding'])\n",
    "HO_vol = vol_list[1].drop(columns=['embedding'])\n",
    "NG_vol = vol_list[2].drop(columns=['embedding'])\n",
    "RB_vol = vol_list[3].drop(columns=['embedding'])\n",
    "BZ_vol = vol_list[4].drop(columns=['embedding'])\n",
    "ZL_vol = vol_list[5].drop(columns=['embedding'])\n",
    "SP_vol = vol_list[6].drop(columns=['embedding'])"
   ],
   "metadata": {
    "collapsed": false,
    "ExecuteTime": {
     "end_time": "2024-04-01T12:51:50.512107700Z",
     "start_time": "2024-04-01T12:51:50.400364400Z"
    }
   },
   "id": "a879acc925c0128e",
   "execution_count": 27
  },
  {
   "cell_type": "code",
   "outputs": [],
   "source": [
    "CL_vol=CL_vol.loc['2015-01-01':]\n",
    "HO_vol=HO_vol.loc['2015-01-01':]\n",
    "NG_vol=NG_vol.loc['2015-01-01':]\n",
    "RB_vol=RB_vol.loc['2015-01-01':]\n",
    "BZ_vol=BZ_vol.loc['2015-01-01':]\n",
    "ZL_vol=ZL_vol.loc['2015-01-01':]\n",
    "SP_vol=SP_vol.loc[:'2015-01-01']"
   ],
   "metadata": {
    "collapsed": false,
    "ExecuteTime": {
     "end_time": "2024-04-05T15:01:24.349884500Z",
     "start_time": "2024-04-05T15:01:24.344373600Z"
    }
   },
   "id": "2191cfa066b9e60",
   "execution_count": 45
  },
  {
   "cell_type": "markdown",
   "source": [
    "# Save Files"
   ],
   "metadata": {
    "collapsed": false
   },
   "id": "ea414df9363740f0"
  },
  {
   "cell_type": "code",
   "outputs": [],
   "source": [
    "CL_vol.to_csv('Database/future_std/CL_vol.csv')\n",
    "HO_vol.to_csv('Database/future_std/HO_vol.csv')\n",
    "NG_vol.to_csv('Database/future_std/NG_vol.csv')\n",
    "RB_vol.to_csv('Database/future_std/RB_vol.csv')\n",
    "BZ_vol.to_csv('Database/future_std/BZ_vol.csv')\n",
    "ZL_vol.to_csv('Database/future_std/ZL_vol.csv')\n",
    "SP_vol.to_csv('Database/spot_std/SP_vol.csv')"
   ],
   "metadata": {
    "collapsed": false,
    "ExecuteTime": {
     "end_time": "2024-04-05T15:01:33.986386400Z",
     "start_time": "2024-04-05T15:01:33.916608900Z"
    }
   },
   "id": "30396805ff48a44e",
   "execution_count": 46
  }
 ],
 "metadata": {
  "kernelspec": {
   "display_name": "Python 3",
   "language": "python",
   "name": "python3"
  },
  "language_info": {
   "codemirror_mode": {
    "name": "ipython",
    "version": 2
   },
   "file_extension": ".py",
   "mimetype": "text/x-python",
   "name": "python",
   "nbconvert_exporter": "python",
   "pygments_lexer": "ipython2",
   "version": "2.7.6"
  }
 },
 "nbformat": 4,
 "nbformat_minor": 5
}
