{
 "cells": [
  {
   "cell_type": "code",
   "outputs": [],
   "source": [
    "from matplotlib import pyplot as plt\n",
    "from IPython.core.interactiveshell import InteractiveShell\n",
    "\n",
    "import warnings\n",
    "import numpy as np\n",
    "import pandas as pd\n",
    "import yfinance as yf"
   ],
   "metadata": {
    "collapsed": false,
    "ExecuteTime": {
     "end_time": "2024-04-19T15:44:47.657559600Z",
     "start_time": "2024-04-19T15:44:47.646555200Z"
    }
   },
   "id": "496270b0ab9e193c",
   "execution_count": 134
  },
  {
   "cell_type": "code",
   "outputs": [],
   "source": [
    "plt.rc('font', family='GULIM')\n",
    "warnings.filterwarnings(action='ignore')\n",
    "InteractiveShell.ast_node_interactivity = \"all\""
   ],
   "metadata": {
    "collapsed": false,
    "ExecuteTime": {
     "end_time": "2024-04-19T15:44:47.844467300Z",
     "start_time": "2024-04-19T15:44:47.836961800Z"
    }
   },
   "id": "ed456206b461c823",
   "execution_count": 135
  },
  {
   "cell_type": "markdown",
   "source": [
    "# Oil Price"
   ],
   "metadata": {
    "collapsed": false
   },
   "id": "bfb194dbe9c2fb56"
  },
  {
   "cell_type": "code",
   "outputs": [],
   "source": [
    "import requests\n",
    "\n",
    "api_key = '2LMFTJQ7V0USVG0B'\n",
    "\n",
    "params = {\n",
    "    'function': 'WTI',\n",
    "    'interval': 'weekly',\n",
    "    'apikey': api_key\n",
    "}\n",
    "\n",
    "# replace the \"demo\" apikey below with your own key from https://www.alphavantage.co/support/#api-key\n",
    "url = 'https://www.alphavantage.co/query?function=WTI&interval=monthly&apikey=demo'\n",
    "r = requests.get(url, params=params)\n",
    "data = r.json()"
   ],
   "metadata": {
    "collapsed": false,
    "ExecuteTime": {
     "end_time": "2024-04-19T15:46:09.641521300Z",
     "start_time": "2024-04-19T15:46:09.073783900Z"
    }
   },
   "id": "8df782591d8bd268",
   "execution_count": 139
  },
  {
   "cell_type": "code",
   "outputs": [
    {
     "ename": "KeyError",
     "evalue": "'data'",
     "output_type": "error",
     "traceback": [
      "\u001B[1;31m---------------------------------------------------------------------------\u001B[0m",
      "\u001B[1;31mKeyError\u001B[0m                                  Traceback (most recent call last)",
      "Cell \u001B[1;32mIn[137], line 2\u001B[0m\n\u001B[0;32m      1\u001B[0m SP \u001B[38;5;241m=\u001B[39m pd\u001B[38;5;241m.\u001B[39mDataFrame(columns\u001B[38;5;241m=\u001B[39m[\u001B[38;5;124m'\u001B[39m\u001B[38;5;124mdate\u001B[39m\u001B[38;5;124m'\u001B[39m, \u001B[38;5;124m'\u001B[39m\u001B[38;5;124mprice\u001B[39m\u001B[38;5;124m'\u001B[39m])\n\u001B[1;32m----> 2\u001B[0m \u001B[38;5;28;01mfor\u001B[39;00m i \u001B[38;5;129;01min\u001B[39;00m \u001B[38;5;28mrange\u001B[39m(\u001B[38;5;28mlen\u001B[39m(\u001B[43mdata\u001B[49m\u001B[43m[\u001B[49m\u001B[38;5;124;43m'\u001B[39;49m\u001B[38;5;124;43mdata\u001B[39;49m\u001B[38;5;124;43m'\u001B[39;49m\u001B[43m]\u001B[49m)):\n\u001B[0;32m      3\u001B[0m     SP\u001B[38;5;241m.\u001B[39mloc[i, \u001B[38;5;124m'\u001B[39m\u001B[38;5;124mdate\u001B[39m\u001B[38;5;124m'\u001B[39m] \u001B[38;5;241m=\u001B[39m data[\u001B[38;5;124m'\u001B[39m\u001B[38;5;124mdata\u001B[39m\u001B[38;5;124m'\u001B[39m][i][\u001B[38;5;124m'\u001B[39m\u001B[38;5;124mdate\u001B[39m\u001B[38;5;124m'\u001B[39m]\n\u001B[0;32m      4\u001B[0m     SP\u001B[38;5;241m.\u001B[39mloc[i, \u001B[38;5;124m'\u001B[39m\u001B[38;5;124mprice\u001B[39m\u001B[38;5;124m'\u001B[39m] \u001B[38;5;241m=\u001B[39m data[\u001B[38;5;124m'\u001B[39m\u001B[38;5;124mdata\u001B[39m\u001B[38;5;124m'\u001B[39m][i][\u001B[38;5;124m'\u001B[39m\u001B[38;5;124mvalue\u001B[39m\u001B[38;5;124m'\u001B[39m]\n",
      "\u001B[1;31mKeyError\u001B[0m: 'data'"
     ]
    }
   ],
   "source": [
    "SP = pd.DataFrame(columns=['date', 'price'])\n",
    "for i in range(len(data['data'])):\n",
    "    SP.loc[i, 'date'] = data['data'][i]['date']\n",
    "    SP.loc[i, 'price'] = data['data'][i]['value']\n",
    "SP.index = SP['date']\n",
    "SP.drop(columns='date', inplace=True)\n",
    "SP.sort_index(inplace=True)\n",
    "SP['price'] = pd.to_numeric(SP['price'], errors='coerce')"
   ],
   "metadata": {
    "collapsed": false,
    "ExecuteTime": {
     "end_time": "2024-04-19T15:44:49.935657200Z",
     "start_time": "2024-04-19T15:44:49.912702800Z"
    }
   },
   "id": "3ea8e7d56f5ed793",
   "execution_count": 137
  },
  {
   "cell_type": "code",
   "outputs": [
    {
     "name": "stderr",
     "output_type": "stream",
     "text": [
      "[*********************100%%**********************]  1 of 1 completed\n",
      "[*********************100%%**********************]  1 of 1 completed\n",
      "[*********************100%%**********************]  1 of 1 completed\n",
      "[*********************100%%**********************]  1 of 1 completed\n"
     ]
    }
   ],
   "source": [
    "CL = yf.download('CL=F', start='2000-08-23')\n",
    "HO = yf.download('HO=F', start='2000-09-01')\n",
    "RB = yf.download('RB=F', start='2000-11-01')\n",
    "BZ = yf.download('BZ=F', start='2007-07-30')"
   ],
   "metadata": {
    "collapsed": false,
    "ExecuteTime": {
     "end_time": "2024-04-19T15:47:01.674812500Z",
     "start_time": "2024-04-19T15:46:59.702972100Z"
    }
   },
   "id": "960c4a1843c92238",
   "execution_count": 141
  },
  {
   "cell_type": "code",
   "outputs": [],
   "source": [
    "BZ_2 = pd.read_csv('Database/oil_price/BZ_future.csv', index_col=0)\n",
    "BZ_2.index = pd.to_datetime(BZ_2.index)\n",
    "BZ_2_sorted = BZ_2.sort_index().loc[:'2007-07-22', 'Price']\n",
    "BL = pd.concat([BZ['Adj Close'], BZ_2_sorted], axis=0).sort_index()\n",
    "BL = pd.DataFrame(data=BL.values, columns=['Adj Close'], index=BL.index)"
   ],
   "metadata": {
    "collapsed": false,
    "ExecuteTime": {
     "end_time": "2024-04-19T15:47:02.565091200Z",
     "start_time": "2024-04-19T15:47:02.528229200Z"
    }
   },
   "id": "f66b4b0ac8047e5",
   "execution_count": 142
  },
  {
   "cell_type": "code",
   "outputs": [
    {
     "data": {
      "text/plain": "<Figure size 1000x600 with 0 Axes>"
     },
     "execution_count": 143,
     "metadata": {},
     "output_type": "execute_result"
    },
    {
     "data": {
      "text/plain": "[<matplotlib.lines.Line2D at 0x21eec873710>]"
     },
     "execution_count": 143,
     "metadata": {},
     "output_type": "execute_result"
    },
    {
     "data": {
      "text/plain": "Text(0.5, 1.0, 'Brent Weekly Price')"
     },
     "execution_count": 143,
     "metadata": {},
     "output_type": "execute_result"
    },
    {
     "data": {
      "text/plain": "Text(0.5, 0, 'Time')"
     },
     "execution_count": 143,
     "metadata": {},
     "output_type": "execute_result"
    },
    {
     "data": {
      "text/plain": "Text(0, 0.5, 'Value')"
     },
     "execution_count": 143,
     "metadata": {},
     "output_type": "execute_result"
    },
    {
     "data": {
      "text/plain": "<matplotlib.legend.Legend at 0x21ee3bfc990>"
     },
     "execution_count": 143,
     "metadata": {},
     "output_type": "execute_result"
    },
    {
     "data": {
      "text/plain": "<Figure size 1000x600 with 1 Axes>",
      "image/png": "[encoded data removed]"
     },
     "metadata": {},
     "output_type": "display_data"
    }
   ],
   "source": [
    "plt.figure(figsize=(10, 6))\n",
    "plt.plot(BL.loc['2014-08-01':'2020-12-01', 'Adj Close'], label='Prediction')\n",
    "plt.title('Brent Weekly Price')\n",
    "plt.xlabel('Time')\n",
    "plt.ylabel('Value')\n",
    "plt.legend()\n",
    "plt.tight_layout()\n",
    "plt.show()"
   ],
   "metadata": {
    "collapsed": false,
    "ExecuteTime": {
     "end_time": "2024-04-19T15:47:03.316829900Z",
     "start_time": "2024-04-19T15:47:03.099687900Z"
    }
   },
   "id": "a21ff22aa423ec34",
   "execution_count": 143
  },
  {
   "cell_type": "code",
   "outputs": [],
   "source": [
    "CL_vol = CL['Adj Close'].pct_change().apply(lambda x: np.log(1 + x)).rolling(window=5).var().resample('W').mean().dropna()\n",
    "HO_vol = HO['Adj Close'].pct_change().apply(lambda x: np.log(1 + x)).rolling(window=5).var().resample('W').mean().dropna()\n",
    "RB_vol = RB['Adj Close'].pct_change().apply(lambda x: np.log(1 + x)).rolling(window=5).var().resample('W').mean().dropna()\n",
    "BL_vol = BL['Adj Close'].pct_change().apply(lambda x: np.log(1 + x)).rolling(window=5).var().resample('W').mean().dropna()\n",
    "# SP_vol = SP['price'].pct_change().apply(lambda x: np.log(1 + x)).rolling(window=5).var().resample('W').mean().dropna()"
   ],
   "metadata": {
    "collapsed": false,
    "ExecuteTime": {
     "end_time": "2024-04-19T15:54:12.731992700Z",
     "start_time": "2024-04-19T15:54:12.617470300Z"
    }
   },
   "id": "4470670a36912bfd",
   "execution_count": 168
  },
  {
   "cell_type": "code",
   "outputs": [],
   "source": [
    "CL['log_r'] = CL['Adj Close'].pct_change().apply(lambda x: np.log(1 + x))\n",
    "HO['log_r'] = HO['Adj Close'].pct_change().apply(lambda x: np.log(1 + x))\n",
    "RB['log_r'] = RB['Adj Close'].pct_change().apply(lambda x: np.log(1 + x))\n",
    "BL['log_r'] = BL['Adj Close'].pct_change().apply(lambda x: np.log(1 + x))\n",
    "# SP['log_r'] = SP['price'].pct_change().apply(lambda x: np.log(1 + x))"
   ],
   "metadata": {
    "collapsed": false,
    "ExecuteTime": {
     "end_time": "2024-04-19T16:01:24.069523100Z",
     "start_time": "2024-04-19T16:01:24.024293100Z"
    }
   },
   "id": "7557ba13bc9602b4",
   "execution_count": 178
  },
  {
   "cell_type": "code",
   "outputs": [],
   "source": [
    "CL['r'] = CL['Adj Close'].pct_change()\n",
    "HO['r'] = HO['Adj Close'].pct_change()\n",
    "RB['r'] = RB['Adj Close'].pct_change()\n",
    "BL['r'] = BL['Adj Close'].pct_change()\n",
    "# SP['r'] = SP['price'].pct_change()"
   ],
   "metadata": {
    "collapsed": false,
    "ExecuteTime": {
     "end_time": "2024-04-19T16:01:24.259466100Z",
     "start_time": "2024-04-19T16:01:24.244796600Z"
    }
   },
   "id": "521b043c9650d72b",
   "execution_count": 179
  },
  {
   "cell_type": "code",
   "outputs": [],
   "source": [
    "CL_vol=((CL['r']-CL['log_r'])).rolling(window=5).mean().resample('W').mean().dropna()\n",
    "HO_vol=((HO['r']-HO['log_r'])).rolling(window=5).mean().resample('W').mean().dropna()\n",
    "RB_vol=((RB['r']-RB['log_r'])).rolling(window=5).mean().resample('W').mean().dropna()\n",
    "BZ_vol=((BL['r']-BL['log_r'])).rolling(window=5).mean().resample('W').mean().dropna()\n",
    "# SP_vol=((SP['r']-SP['log_r'])*2).rolling(window=5).mean().resample('W').mean().dropna()"
   ],
   "metadata": {
    "collapsed": false,
    "ExecuteTime": {
     "end_time": "2024-04-19T16:01:24.865957500Z",
     "start_time": "2024-04-19T16:01:24.786362500Z"
    }
   },
   "id": "9f72f19cf7bf1937",
   "execution_count": 180
  },
  {
   "cell_type": "code",
   "outputs": [
    {
     "data": {
      "text/plain": "<Figure size 1000x600 with 0 Axes>"
     },
     "execution_count": 181,
     "metadata": {},
     "output_type": "execute_result"
    },
    {
     "data": {
      "text/plain": "[<matplotlib.lines.Line2D at 0x21eeda2f6d0>]"
     },
     "execution_count": 181,
     "metadata": {},
     "output_type": "execute_result"
    },
    {
     "data": {
      "text/plain": "Text(0.5, 1.0, 'Volatility')"
     },
     "execution_count": 181,
     "metadata": {},
     "output_type": "execute_result"
    },
    {
     "data": {
      "text/plain": "Text(0.5, 0, 'Time')"
     },
     "execution_count": 181,
     "metadata": {},
     "output_type": "execute_result"
    },
    {
     "data": {
      "text/plain": "Text(0, 0.5, 'Value')"
     },
     "execution_count": 181,
     "metadata": {},
     "output_type": "execute_result"
    },
    {
     "data": {
      "text/plain": "<matplotlib.legend.Legend at 0x21ee9b2c990>"
     },
     "execution_count": 181,
     "metadata": {},
     "output_type": "execute_result"
    },
    {
     "data": {
      "text/plain": "<Figure size 1000x600 with 1 Axes>",
      "image/png": "[encoded data removed]"
     },
     "metadata": {},
     "output_type": "display_data"
    }
   ],
   "source": [
    "plt.figure(figsize=(10, 6))\n",
    "plt.plot(BZ_vol.loc['2014-08-01':'2020-12-31'], label='BZ')\n",
    "plt.title('Volatility')\n",
    "plt.xlabel('Time')\n",
    "plt.ylabel('Value')\n",
    "plt.legend()\n",
    "plt.tight_layout()\n",
    "plt.show()"
   ],
   "metadata": {
    "collapsed": false,
    "ExecuteTime": {
     "end_time": "2024-04-19T16:01:27.608578200Z",
     "start_time": "2024-04-19T16:01:27.395200700Z"
    }
   },
   "id": "76ff077667fd12bb",
   "execution_count": 181
  },
  {
   "cell_type": "code",
   "outputs": [],
   "source": [
    "CL_vol = CL_vol.dropna()\n",
    "HO_vol = HO_vol.dropna()\n",
    "RB_vol = RB_vol.dropna()\n",
    "BZ_vol = BZ_vol.dropna()\n",
    "SP_vol = SP_vol.dropna()"
   ],
   "metadata": {
    "collapsed": false,
    "ExecuteTime": {
     "end_time": "2024-04-19T08:29:17.611770100Z",
     "start_time": "2024-04-19T08:29:17.605372500Z"
    }
   },
   "id": "ce5ca73e45d425b4",
   "execution_count": 346
  },
  {
   "cell_type": "code",
   "outputs": [],
   "source": [
    "CL_vol.index = pd.to_datetime(CL_vol.index)\n",
    "HO_vol.index = pd.to_datetime(HO_vol.index)\n",
    "RB_vol.index = pd.to_datetime(RB_vol.index)\n",
    "BZ_vol.index = pd.to_datetime(BZ_vol.index)\n",
    "SP_vol.index = pd.to_datetime(SP_vol.index)\n",
    "vol_list = [CL_vol, HO_vol, RB_vol, BZ_vol, SP_vol]"
   ],
   "metadata": {
    "collapsed": false,
    "ExecuteTime": {
     "end_time": "2024-04-19T08:29:17.919972600Z",
     "start_time": "2024-04-19T08:29:17.917970900Z"
    }
   },
   "id": "4625ceda26754091",
   "execution_count": 347
  },
  {
   "cell_type": "markdown",
   "source": [
    "# Index"
   ],
   "metadata": {
    "collapsed": false
   },
   "id": "181e9400d10774fb"
  },
  {
   "cell_type": "code",
   "outputs": [
    {
     "name": "stderr",
     "output_type": "stream",
     "text": [
      "[*********************100%%**********************]  1 of 1 completed\n"
     ]
    }
   ],
   "source": [
    "DJ = yf.download('^DJI', start='1986-01-01')"
   ],
   "metadata": {
    "collapsed": false,
    "ExecuteTime": {
     "end_time": "2024-04-17T04:46:49.204337400Z",
     "start_time": "2024-04-17T04:46:48.631292400Z"
    }
   },
   "id": "4c26e2d26184f188",
   "execution_count": 6
  },
  {
   "cell_type": "markdown",
   "source": [
    "# Treasure Yield"
   ],
   "metadata": {
    "collapsed": false
   },
   "id": "68764eb028bf7806"
  },
  {
   "cell_type": "code",
   "outputs": [],
   "source": [
    "import requests\n",
    "\n",
    "api_key = 'AJPT9SW0WL4NNYHN'\n",
    "\n",
    "url = 'https://www.alphavantage.co/query?function=TREASURY_YIELD&interval=monthly&maturity=10year&apikey=demo'\n",
    "\n",
    "params = {\n",
    "    'function': 'TREASURY_YIELD',\n",
    "    'interval': 'daily',\n",
    "    'maturity': '30year',\n",
    "    'apikey': api_key\n",
    "}\n",
    "\n",
    "r = requests.get(url, params=params)\n",
    "yield_30 = r.json()"
   ],
   "metadata": {
    "collapsed": false,
    "ExecuteTime": {
     "end_time": "2024-04-15T12:24:30.276949800Z",
     "start_time": "2024-04-15T12:24:28.119529100Z"
    }
   },
   "id": "5c409a2a1a0f7e82",
   "execution_count": 224
  },
  {
   "cell_type": "code",
   "outputs": [],
   "source": [
    "import requests\n",
    "\n",
    "api_key = 'AJPT9SW0WL4NNYHN'\n",
    "\n",
    "url = 'https://www.alphavantage.co/query?function=TREASURY_YIELD&interval=monthly&maturity=10year&apikey=demo'\n",
    "\n",
    "params = {\n",
    "    'function': 'TREASURY_YIELD',\n",
    "    'interval': 'daily',\n",
    "    'maturity': '7year',\n",
    "    'apikey': api_key\n",
    "}\n",
    "\n",
    "r = requests.get(url, params=params)\n",
    "yield_7 = r.json()"
   ],
   "metadata": {
    "collapsed": false,
    "ExecuteTime": {
     "end_time": "2024-04-15T12:24:32.366125900Z",
     "start_time": "2024-04-15T12:24:30.279453300Z"
    }
   },
   "id": "4b11f4069617dc44",
   "execution_count": 225
  },
  {
   "cell_type": "code",
   "outputs": [],
   "source": [
    "import requests\n",
    "\n",
    "api_key = 'AJPT9SW0WL4NNYHN'\n",
    "\n",
    "url = 'https://www.alphavantage.co/query?function=TREASURY_YIELD&interval=monthly&maturity=10year&apikey=demo'\n",
    "\n",
    "params = {\n",
    "    'function': 'TREASURY_YIELD',\n",
    "    'interval': 'daily',\n",
    "    'maturity': '3month',\n",
    "    'apikey': api_key\n",
    "}\n",
    "\n",
    "r = requests.get(url, params=params)\n",
    "yield_3m = r.json()"
   ],
   "metadata": {
    "collapsed": false,
    "ExecuteTime": {
     "end_time": "2024-04-15T12:24:34.491209700Z",
     "start_time": "2024-04-15T12:24:32.368126100Z"
    }
   },
   "id": "7dc992372f9fe7d",
   "execution_count": 226
  },
  {
   "cell_type": "code",
   "outputs": [],
   "source": [
    "yield_30_df = pd.DataFrame(columns=['date', '30_yield'])\n",
    "for i in range(len(yield_30['data'])):\n",
    "    yield_30_df.loc[i, 'date'] = yield_30['data'][i]['date']\n",
    "    yield_30_df.loc[i, '30_yield'] = yield_30['data'][i]['value']\n",
    "yield_30_df.set_index(yield_30_df['date'], inplace=True)\n",
    "yield_30_df = yield_30_df.drop(columns=['date'])"
   ],
   "metadata": {
    "collapsed": false,
    "ExecuteTime": {
     "end_time": "2024-04-15T12:24:38.719123900Z",
     "start_time": "2024-04-15T12:24:34.493211300Z"
    }
   },
   "id": "397c3095e6682d17",
   "execution_count": 227
  },
  {
   "cell_type": "code",
   "outputs": [],
   "source": [
    "yield_7_df = pd.DataFrame(columns=['date', '7_yield'])\n",
    "for i in range(len(yield_7['data'])):\n",
    "    yield_7_df.loc[i, 'date'] = yield_7['data'][i]['date']\n",
    "    yield_7_df.loc[i, '7_yield'] = yield_7['data'][i]['value']\n",
    "yield_7_df.set_index(yield_7_df['date'], inplace=True)\n",
    "yield_7_df = yield_7_df.drop(columns=['date'])"
   ],
   "metadata": {
    "collapsed": false,
    "ExecuteTime": {
     "end_time": "2024-04-15T12:24:44.241362600Z",
     "start_time": "2024-04-15T12:24:38.723126200Z"
    }
   },
   "id": "52a148c3604ae064",
   "execution_count": 228
  },
  {
   "cell_type": "code",
   "outputs": [],
   "source": [
    "yield_3m_df = pd.DataFrame(columns=['date', '3m_yield'])\n",
    "for i in range(len(yield_3m['data'])):\n",
    "    yield_3m_df.loc[i, 'date'] = yield_3m['data'][i]['date']\n",
    "    yield_3m_df.loc[i, '3m_yield'] = yield_3m['data'][i]['value']\n",
    "yield_3m_df.set_index(yield_3m_df['date'], inplace=True)\n",
    "yield_3m_df = yield_3m_df.drop(columns=['date'])"
   ],
   "metadata": {
    "collapsed": false,
    "ExecuteTime": {
     "end_time": "2024-04-15T12:24:48.211411500Z",
     "start_time": "2024-04-15T12:24:44.243363500Z"
    }
   },
   "id": "c5177526c2868a4",
   "execution_count": 229
  },
  {
   "cell_type": "code",
   "outputs": [],
   "source": [
    "yield_list = [yield_30_df, yield_7_df, yield_3m_df]"
   ],
   "metadata": {
    "collapsed": false,
    "ExecuteTime": {
     "end_time": "2024-04-15T12:24:48.221446600Z",
     "start_time": "2024-04-15T12:24:48.212474200Z"
    }
   },
   "id": "ecb2e0512133f3f2",
   "execution_count": 230
  },
  {
   "cell_type": "code",
   "outputs": [],
   "source": [
    "for per in yield_list:\n",
    "    per.index = pd.to_datetime(per.index)"
   ],
   "metadata": {
    "collapsed": false,
    "ExecuteTime": {
     "end_time": "2024-04-15T12:24:48.240333300Z",
     "start_time": "2024-04-15T12:24:48.215984300Z"
    }
   },
   "id": "8e3b77cbe8f56160",
   "execution_count": 231
  },
  {
   "cell_type": "code",
   "outputs": [],
   "source": [
    "for i, vol in enumerate(vol_list):\n",
    "    for per in yield_list:\n",
    "        vol = pd.concat([vol, per], axis=1)\n",
    "        vol = vol.dropna(subset=['return'])\n",
    "        vol.replace('.', np.nan, inplace=True)\n",
    "        vol = vol.ffill()\n",
    "        vol_list[i] = vol"
   ],
   "metadata": {
    "collapsed": false,
    "ExecuteTime": {
     "end_time": "2024-04-15T12:24:48.342421100Z",
     "start_time": "2024-04-15T12:24:48.242333700Z"
    }
   },
   "id": "d812401c739d5e38",
   "execution_count": 232
  },
  {
   "cell_type": "code",
   "outputs": [],
   "source": [
    "from sklearn.preprocessing import MinMaxScaler\n",
    "\n",
    "for i, vol in enumerate(vol_list):\n",
    "    scaler = MinMaxScaler()\n",
    "    data_scaled = scaler.fit_transform(vol.iloc[:, 1:])\n",
    "    data_scaled = pd.DataFrame(data_scaled, index=vol.index)\n",
    "    vol = pd.concat([vol.iloc[:, 0], data_scaled], axis=1)\n",
    "    vol_list[i] = vol"
   ],
   "metadata": {
    "collapsed": false,
    "ExecuteTime": {
     "end_time": "2024-04-15T12:26:39.892516600Z",
     "start_time": "2024-04-15T12:26:39.835139900Z"
    }
   },
   "id": "ab7ba924fccf7a12",
   "execution_count": 243
  },
  {
   "cell_type": "markdown",
   "source": [
    "# Text Data Preprocessing"
   ],
   "metadata": {
    "collapsed": false
   },
   "id": "eeeb07b5f8060532"
  },
  {
   "cell_type": "code",
   "outputs": [],
   "source": [
    "text_data = pd.read_parquet('Database/newsdata.parquet')"
   ],
   "metadata": {
    "collapsed": false,
    "ExecuteTime": {
     "end_time": "2024-04-19T07:31:41.369039200Z",
     "start_time": "2024-04-19T07:31:41.319198400Z"
    }
   },
   "id": "52b7e461bf0abbd5",
   "execution_count": 198
  },
  {
   "cell_type": "code",
   "outputs": [],
   "source": [
    "NLP_vec = text_data[['date', 'embeddings']].reset_index()\n",
    "NLP_vec.index = NLP_vec['date']\n",
    "NLP_vec = NLP_vec['embeddings']"
   ],
   "metadata": {
    "collapsed": false,
    "ExecuteTime": {
     "end_time": "2024-04-19T07:31:41.499020600Z",
     "start_time": "2024-04-19T07:31:41.493391900Z"
    }
   },
   "id": "fe9bae728412539a",
   "execution_count": 199
  },
  {
   "cell_type": "code",
   "outputs": [],
   "source": [
    "new_columns = {f'{i}': pd.Series(dtype='object') for i in range(384)}\n",
    "new_df = pd.DataFrame(new_columns)\n",
    "\n",
    "for i in range(384):\n",
    "    new_df[f'{i}'] = NLP_vec.apply(lambda x: f'{x[i]}')"
   ],
   "metadata": {
    "collapsed": false,
    "ExecuteTime": {
     "end_time": "2024-04-19T07:31:43.956382600Z",
     "start_time": "2024-04-19T07:31:41.761152300Z"
    }
   },
   "id": "91625e87200e37b3",
   "execution_count": 200
  },
  {
   "cell_type": "code",
   "outputs": [],
   "source": [
    "# for i, vol in enumerate(vol_list):\n",
    "#     vol_list[i] = pd.concat([vol, new_df], axis=1)\n",
    "#     vol_list[i] = vol_list[i].dropna(subset=['return'])\n",
    "#     nan_index = vol_list[i][vol_list[i]['0'].isna()].index\n",
    "#     vol_list[i].loc[nan_index] = 0\n",
    "#     vol_list[i] = vol_list[i].drop(columns=['embeddings'])"
   ],
   "metadata": {
    "collapsed": false,
    "ExecuteTime": {
     "end_time": "2024-04-19T07:34:38.267119500Z",
     "start_time": "2024-04-19T07:34:38.260591300Z"
    }
   },
   "id": "bd71360d81a8c284",
   "execution_count": 211
  },
  {
   "cell_type": "code",
   "outputs": [],
   "source": [
    "test = pd.concat([vol_list[4], new_df], axis=1)\n",
    "test = test.loc[:'2001-12-30']\n",
    "mask = (test['return'].isna() == False) & (test['0'].isna() == True)\n",
    "previous_values = test.shift(1)\n",
    "masked_previous_values = previous_values[mask]\n",
    "test.loc[mask, '0':] = masked_previous_values.loc[:, '0':]\n",
    "test = test.dropna(subset=['return'])\n",
    "test.loc[test.index[test.isna().any(axis=1)], '0':] = new_df.loc['2000-01-03'].values"
   ],
   "metadata": {
    "collapsed": false,
    "ExecuteTime": {
     "end_time": "2024-04-19T07:31:47.267245300Z",
     "start_time": "2024-04-19T07:31:46.725712500Z"
    }
   },
   "id": "536151ca0a72e38d",
   "execution_count": 201
  },
  {
   "cell_type": "code",
   "outputs": [],
   "source": [
    "vol_list[4] = test"
   ],
   "metadata": {
    "collapsed": false,
    "ExecuteTime": {
     "end_time": "2024-04-19T07:35:27.906389100Z",
     "start_time": "2024-04-19T07:35:27.900267Z"
    }
   },
   "id": "b22481934600ea9d",
   "execution_count": 213
  },
  {
   "cell_type": "markdown",
   "source": [
    "# Save Files"
   ],
   "metadata": {
    "collapsed": false
   },
   "id": "2a53b18cb88f351e"
  },
  {
   "cell_type": "code",
   "outputs": [],
   "source": [
    "name_list = ['CL_vol', 'HO_vol', 'RB_vol', 'BZ_vol', 'SP_vol']\n",
    "for i, vol in enumerate(name_list):\n",
    "    if i != 4:\n",
    "        vol_list[i].to_csv(f'Database/future_std/{vol}.csv')\n",
    "    else:\n",
    "        vol_list[i].to_csv(f'Database/spot_std/{vol}.csv')"
   ],
   "metadata": {
    "collapsed": false,
    "ExecuteTime": {
     "end_time": "2024-04-19T07:35:30.722917900Z",
     "start_time": "2024-04-19T07:35:30.473741700Z"
    }
   },
   "id": "5ca7a01a453cdc6",
   "execution_count": 214
  }
 ],
 "metadata": {
  "kernelspec": {
   "display_name": "Python 3",
   "language": "python",
   "name": "python3"
  },
  "language_info": {
   "codemirror_mode": {
    "name": "ipython",
    "version": 2
   },
   "file_extension": ".py",
   "mimetype": "text/x-python",
   "name": "python",
   "nbconvert_exporter": "python",
   "pygments_lexer": "ipython2",
   "version": "2.7.6"
  }
 },
 "nbformat": 4,
 "nbformat_minor": 5
}
