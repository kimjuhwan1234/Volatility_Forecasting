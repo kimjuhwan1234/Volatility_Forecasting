{
 "cells": [
  {
   "cell_type": "code",
   "outputs": [],
   "source": [
    "from matplotlib import pyplot as plt\n",
    "from IPython.core.interactiveshell import InteractiveShell\n",
    "\n",
    "import warnings\n",
    "import numpy as np\n",
    "import pandas as pd\n",
    "import yfinance as yf"
   ],
   "metadata": {
    "collapsed": false,
    "ExecuteTime": {
     "end_time": "2024-04-01T13:04:03.970554600Z",
     "start_time": "2024-04-01T13:04:03.967500800Z"
    }
   },
   "id": "496270b0ab9e193c",
   "execution_count": 30
  },
  {
   "cell_type": "code",
   "outputs": [],
   "source": [
    "plt.rc('font', family='GULIM')\n",
    "warnings.filterwarnings(action='ignore')\n",
    "InteractiveShell.ast_node_interactivity = \"all\""
   ],
   "metadata": {
    "collapsed": false,
    "ExecuteTime": {
     "end_time": "2024-04-01T13:04:04.171808600Z",
     "start_time": "2024-04-01T13:04:04.169252Z"
    }
   },
   "id": "ed456206b461c823",
   "execution_count": 31
  },
  {
   "cell_type": "markdown",
   "source": [
    "# Data Collecting"
   ],
   "metadata": {
    "collapsed": false
   },
   "id": "c1e6f16ba4b193c1"
  },
  {
   "cell_type": "code",
   "outputs": [
    {
     "name": "stderr",
     "output_type": "stream",
     "text": [
      "[*********************100%%**********************]  1 of 1 completed\n",
      "[*********************100%%**********************]  1 of 1 completed\n",
      "[*********************100%%**********************]  1 of 1 completed\n",
      "[*********************100%%**********************]  1 of 1 completed\n",
      "[*********************100%%**********************]  1 of 1 completed\n",
      "[*********************100%%**********************]  1 of 1 completed\n"
     ]
    }
   ],
   "source": [
    "CL = yf.download('CL=F', start='2000-08-23')\n",
    "HO = yf.download('HO=F', start='2000-09-01')\n",
    "NG = yf.download('NG=F', start='2000-08-30')\n",
    "RB = yf.download('RB=F', start='2000-11-01')\n",
    "BZ = yf.download('BZ=F', start='2007-07-30')\n",
    "ZL = yf.download('ZL=F', start='2000-03-15')\n",
    "SP = pd.read_csv('Database/WTI.csv', index_col=0)\n",
    "SP.sort_index(inplace=True)"
   ],
   "metadata": {
    "collapsed": false,
    "ExecuteTime": {
     "end_time": "2024-04-01T13:04:07.159187500Z",
     "start_time": "2024-04-01T13:04:04.558824100Z"
    }
   },
   "id": "340947cf9e23980",
   "execution_count": 32
  },
  {
   "cell_type": "code",
   "outputs": [],
   "source": [
    "# HS=pd.read_excel('Database/HO_spot.xlsx', index_col=0)\n",
    "# HO.index = pd.to_datetime(HO.index)\n",
    "# HS.index = pd.to_datetime(HS.index)\n",
    "# select_index=[p for p in HO.index if p in HS.index]\n",
    "# HS=HS.loc[select_index]\n",
    "# HO_gap=pd.concat([HS, HO['Adj Close']], axis=1)\n",
    "# HO_gap=HO_gap.dropna()\n",
    "# HO_gap['gap']=abs(HO_gap.iloc[:,0]-HO_gap.iloc[:,1])\n",
    "# HO_gap['Backwardation']=HO_gap.iloc[:,0]-HO_gap.iloc[:,1]\n",
    "# HO_gap['Contango']=HO_gap.iloc[:,1]-HO_gap.iloc[:,0]\n",
    "# plt.figure(figsize=(10, 6))\n",
    "# \n",
    "# plt.plot(HO_gap['Backwardation'], label='Backwardation')\n",
    "# plt.plot(HO_vol, label='HO')\n",
    "# \n",
    "# \n",
    "# plt.title('Volatility')\n",
    "# plt.xlabel('Time')\n",
    "# plt.ylabel('Value')\n",
    "# plt.legend()\n",
    "# plt.xticks(HO_vol.index[0:-1:1000])\n",
    "# plt.tight_layout()\n",
    "# plt.show()"
   ],
   "metadata": {
    "collapsed": false,
    "ExecuteTime": {
     "end_time": "2024-04-01T14:38:56.179258700Z",
     "start_time": "2024-04-01T14:38:55.423760900Z"
    }
   },
   "id": "d10815ebc92cb219",
   "execution_count": 117
  },
  {
   "cell_type": "markdown",
   "source": [
    "# Numerical Data Preprocessing"
   ],
   "metadata": {
    "collapsed": false
   },
   "id": "bfb194dbe9c2fb56"
  },
  {
   "cell_type": "code",
   "outputs": [],
   "source": [
    "SP['price'] = pd.to_numeric(SP['price'], errors='coerce')\n",
    "SP = SP.dropna()"
   ],
   "metadata": {
    "collapsed": false,
    "ExecuteTime": {
     "end_time": "2024-04-01T14:18:46.905230800Z",
     "start_time": "2024-04-01T14:18:46.894979800Z"
    }
   },
   "id": "e540214fbff906e6",
   "execution_count": 72
  },
  {
   "cell_type": "code",
   "outputs": [],
   "source": [
    "CL['return'] = CL['Adj Close'].pct_change().apply(lambda x: np.log(1 + x))\n",
    "HO['return'] = HO['Adj Close'].pct_change().apply(lambda x: np.log(1 + x))\n",
    "NG['return'] = NG['Adj Close'].pct_change().apply(lambda x: np.log(1 + x))\n",
    "RB['return'] = RB['Adj Close'].pct_change().apply(lambda x: np.log(1 + x))\n",
    "BZ['return'] = BZ['Adj Close'].pct_change().apply(lambda x: np.log(1 + x))\n",
    "ZL['return'] = ZL['Adj Close'].pct_change().apply(lambda x: np.log(1 + x))\n",
    "SP['return'] = SP['price'].pct_change().apply(lambda x: np.log(1 + x))"
   ],
   "metadata": {
    "collapsed": false,
    "ExecuteTime": {
     "end_time": "2024-04-01T14:18:47.302782600Z",
     "start_time": "2024-04-01T14:18:47.223639600Z"
    }
   },
   "id": "b03bfdb1e2739d00",
   "execution_count": 73
  },
  {
   "cell_type": "code",
   "outputs": [],
   "source": [
    "CL = CL.dropna()\n",
    "HO = HO.dropna()\n",
    "NG = NG.dropna()\n",
    "RB = RB.dropna()\n",
    "BZ = BZ.dropna()\n",
    "ZL = ZL.dropna()\n",
    "SP = SP.dropna()"
   ],
   "metadata": {
    "collapsed": false,
    "ExecuteTime": {
     "end_time": "2024-04-01T14:18:47.467621400Z",
     "start_time": "2024-04-01T14:18:47.460477300Z"
    }
   },
   "id": "b72e326a8df8e415",
   "execution_count": 74
  },
  {
   "cell_type": "code",
   "outputs": [],
   "source": [
    "CL_vol = CL['return'].rolling(window=5).std()\n",
    "HO_vol = HO['return'].rolling(window=5).std()\n",
    "NG_vol = NG['return'].rolling(window=5).std()\n",
    "RB_vol = RB['return'].rolling(window=5).std()\n",
    "BZ_vol = BZ['return'].rolling(window=5).std()\n",
    "ZL_vol = ZL['return'].rolling(window=5).std()\n",
    "SP_vol = SP['return'].rolling(window=5).std()"
   ],
   "metadata": {
    "collapsed": false,
    "ExecuteTime": {
     "end_time": "2024-04-01T14:18:47.771997400Z",
     "start_time": "2024-04-01T14:18:47.766238Z"
    }
   },
   "id": "352fa9bc850e5029",
   "execution_count": 75
  },
  {
   "cell_type": "code",
   "outputs": [],
   "source": [
    "CL_vol = CL_vol.dropna()\n",
    "HO_vol = HO_vol.dropna()\n",
    "NG_vol = NG_vol.dropna()\n",
    "RB_vol = RB_vol.dropna()\n",
    "BZ_vol = BZ_vol.dropna()\n",
    "ZL_vol = ZL_vol.dropna()\n",
    "SP_vol = SP_vol.dropna()"
   ],
   "metadata": {
    "collapsed": false,
    "ExecuteTime": {
     "end_time": "2024-04-01T14:18:48.354080200Z",
     "start_time": "2024-04-01T14:18:48.348741900Z"
    }
   },
   "id": "ce5ca73e45d425b4",
   "execution_count": 76
  },
  {
   "cell_type": "code",
   "outputs": [],
   "source": [
    "CL_vol.index = pd.to_datetime(CL_vol.index)\n",
    "HO_vol.index = pd.to_datetime(HO_vol.index)\n",
    "NG_vol.index = pd.to_datetime(NG_vol.index)\n",
    "RB_vol.index = pd.to_datetime(RB_vol.index)\n",
    "BZ_vol.index = pd.to_datetime(BZ_vol.index)\n",
    "ZL_vol.index = pd.to_datetime(ZL_vol.index)\n",
    "SP_vol.index = pd.to_datetime(SP_vol.index)"
   ],
   "metadata": {
    "collapsed": false,
    "ExecuteTime": {
     "end_time": "2024-04-01T14:18:49.291217100Z",
     "start_time": "2024-04-01T14:18:49.236090Z"
    }
   },
   "id": "4625ceda26754091",
   "execution_count": 77
  },
  {
   "cell_type": "markdown",
   "source": [
    "# Text Data Preprocessing"
   ],
   "metadata": {
    "collapsed": false
   },
   "id": "eeeb07b5f8060532"
  },
  {
   "cell_type": "code",
   "outputs": [],
   "source": [
    "news = pd.read_csv('Database/news_newsdata_embedding.csv')\n",
    "book = pd.read_csv('Database/books_newsdata_embedding.csv')"
   ],
   "metadata": {
    "collapsed": false,
    "ExecuteTime": {
     "end_time": "2024-04-01T12:51:39.287899300Z",
     "start_time": "2024-04-01T12:51:38.747793500Z"
    }
   },
   "id": "52b7e461bf0abbd5",
   "execution_count": 21
  },
  {
   "cell_type": "code",
   "outputs": [],
   "source": [
    "news.iloc[468, 3] = '2003-05-21'\n",
    "book['published_date'] = pd.to_datetime(book['published_date'], errors='coerce')\n",
    "news['published_date'] = pd.to_datetime(news['published_date'], errors='coerce')"
   ],
   "metadata": {
    "collapsed": false,
    "ExecuteTime": {
     "end_time": "2024-04-01T12:51:39.300817500Z",
     "start_time": "2024-04-01T12:51:39.289898400Z"
    }
   },
   "id": "fe4a6cf2baf8ef37",
   "execution_count": 22
  },
  {
   "cell_type": "code",
   "outputs": [],
   "source": [
    "book_notin_news = [p for p in book['published_date'] if p not in news['published_date']]\n",
    "add_df = book[['published_date', 'embedding']][book['published_date'] == book_notin_news]\n",
    "news = pd.concat([news, add_df])"
   ],
   "metadata": {
    "collapsed": false,
    "ExecuteTime": {
     "end_time": "2024-04-01T12:51:39.341628Z",
     "start_time": "2024-04-01T12:51:39.303856600Z"
    }
   },
   "id": "daebb18df32a351a",
   "execution_count": 23
  },
  {
   "cell_type": "code",
   "outputs": [],
   "source": [
    "NLP_vec = news[['published_date', 'embedding']]\n",
    "NLP_vec.reset_index(inplace=True)\n",
    "NLP_vec.index = NLP_vec['published_date']"
   ],
   "metadata": {
    "collapsed": false,
    "ExecuteTime": {
     "end_time": "2024-04-01T12:51:39.351601900Z",
     "start_time": "2024-04-01T12:51:39.341628Z"
    }
   },
   "id": "871614228a76644e",
   "execution_count": 24
  },
  {
   "cell_type": "code",
   "outputs": [],
   "source": [
    "NLP_vec = NLP_vec[~NLP_vec.index.duplicated(keep='first')]\n",
    "NLP_vec = NLP_vec['embedding']"
   ],
   "metadata": {
    "collapsed": false,
    "ExecuteTime": {
     "end_time": "2024-04-01T12:51:39.365416500Z",
     "start_time": "2024-04-01T12:51:39.351601900Z"
    }
   },
   "id": "710a4dbbc1629dbb",
   "execution_count": 25
  },
  {
   "cell_type": "code",
   "outputs": [],
   "source": [
    "def str_to_array(s):\n",
    "    list_array = [float(x) for x in s.strip('[]').split()]\n",
    "    return np.array(list_array)\n",
    "\n",
    "vol_list = [CL_vol, HO_vol, NG_vol, RB_vol, BZ_vol, ZL_vol, SP_vol]\n",
    "for i, vol in enumerate(vol_list):\n",
    "    vol_list[i] = pd.concat([vol, NLP_vec], axis=1)\n",
    "    vol_list[i] = vol_list[i].dropna(subset=['return'])\n",
    "    nan_index = vol_list[i][vol_list[i]['embedding'].isna()].index\n",
    "    vol_list[i].loc[nan_index, 'embedding'] = str(np.zeros(384))\n",
    "    \n",
    "    for j in range(384):\n",
    "        vol_list[i][f'{j}']=None\n",
    "    array_series = vol_list[i].iloc[:,1].apply(str_to_array)\n",
    "    \n",
    "    for k in range(384):\n",
    "        vol_list[i][f'{k}'] = array_series.apply(lambda x: x[k])"
   ],
   "metadata": {
    "collapsed": false,
    "ExecuteTime": {
     "end_time": "2024-04-01T12:51:50.398757700Z",
     "start_time": "2024-04-01T12:51:39.369542800Z"
    }
   },
   "id": "bd71360d81a8c284",
   "execution_count": 26
  },
  {
   "cell_type": "code",
   "outputs": [],
   "source": [
    "CL_vol = vol_list[0].drop(columns=['embedding'])\n",
    "HO_vol = vol_list[1].drop(columns=['embedding'])\n",
    "NG_vol = vol_list[2].drop(columns=['embedding'])\n",
    "RB_vol = vol_list[3].drop(columns=['embedding'])\n",
    "BZ_vol = vol_list[4].drop(columns=['embedding'])\n",
    "ZL_vol = vol_list[5].drop(columns=['embedding'])\n",
    "SP_vol = vol_list[6].drop(columns=['embedding'])"
   ],
   "metadata": {
    "collapsed": false,
    "ExecuteTime": {
     "end_time": "2024-04-01T12:51:50.512107700Z",
     "start_time": "2024-04-01T12:51:50.400364400Z"
    }
   },
   "id": "a879acc925c0128e",
   "execution_count": 27
  },
  {
   "cell_type": "code",
   "outputs": [],
   "source": [
    "CL_vol=CL_vol.loc['2015-01-01':]\n",
    "HO_vol=HO_vol.loc['2015-01-01':]\n",
    "NG_vol=NG_vol.loc['2015-01-01':]\n",
    "RB_vol=RB_vol.loc['2015-01-01':]\n",
    "BZ_vol=BZ_vol.loc['2015-01-01':]\n",
    "ZL_vol=ZL_vol.loc['2015-01-01':]\n",
    "SP_vol=SP_vol.loc[:'2015-01-01']"
   ],
   "metadata": {
    "collapsed": false,
    "ExecuteTime": {
     "end_time": "2024-04-01T13:04:13.042372400Z",
     "start_time": "2024-04-01T13:04:13.035490Z"
    }
   },
   "id": "2191cfa066b9e60",
   "execution_count": 39
  },
  {
   "cell_type": "markdown",
   "source": [
    "# Save Files"
   ],
   "metadata": {
    "collapsed": false
   },
   "id": "ea414df9363740f0"
  },
  {
   "cell_type": "code",
   "outputs": [],
   "source": [
    "CL_vol.to_csv('Database/oil_std/CL_vol.csv')\n",
    "HO_vol.to_csv('Database/oil_std/HO_vol.csv')\n",
    "NG_vol.to_csv('Database/oil_std/NG_vol.csv')\n",
    "RB_vol.to_csv('Database/oil_std/RB_vol.csv')\n",
    "BZ_vol.to_csv('Database/oil_std/BZ_vol.csv')\n",
    "ZL_vol.to_csv('Database/oil_std/ZL_vol.csv')\n",
    "SP_vol.to_csv('Database/SP_vol.csv')"
   ],
   "metadata": {
    "collapsed": false,
    "ExecuteTime": {
     "end_time": "2024-04-01T13:04:14.035494Z",
     "start_time": "2024-04-01T13:04:13.965945900Z"
    }
   },
   "id": "30396805ff48a44e",
   "execution_count": 40
  }
 ],
 "metadata": {
  "kernelspec": {
   "display_name": "Python 3",
   "language": "python",
   "name": "python3"
  },
  "language_info": {
   "codemirror_mode": {
    "name": "ipython",
    "version": 2
   },
   "file_extension": ".py",
   "mimetype": "text/x-python",
   "name": "python",
   "nbconvert_exporter": "python",
   "pygments_lexer": "ipython2",
   "version": "2.7.6"
  }
 },
 "nbformat": 4,
 "nbformat_minor": 5
}
