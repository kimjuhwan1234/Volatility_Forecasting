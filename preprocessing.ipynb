{
 "cells": [
  {
   "cell_type": "code",
   "outputs": [],
   "source": [
    "from matplotlib import pyplot as plt\n",
    "from IPython.core.interactiveshell import InteractiveShell\n",
    "\n",
    "import warnings\n",
    "import numpy as np\n",
    "import pandas as pd\n",
    "import yfinance as yf"
   ],
   "metadata": {
    "collapsed": false,
    "ExecuteTime": {
     "end_time": "2024-03-31T11:55:33.607459700Z",
     "start_time": "2024-03-31T11:55:32.257805100Z"
    }
   },
   "id": "496270b0ab9e193c",
   "execution_count": 1
  },
  {
   "cell_type": "code",
   "outputs": [],
   "source": [
    "plt.rc('font', family='GULIM')\n",
    "warnings.filterwarnings(action='ignore')\n",
    "InteractiveShell.ast_node_interactivity = \"all\""
   ],
   "metadata": {
    "collapsed": false,
    "ExecuteTime": {
     "end_time": "2024-03-31T12:08:22.332471600Z",
     "start_time": "2024-03-31T12:08:22.320211500Z"
    }
   },
   "id": "ed456206b461c823",
   "execution_count": 19
  },
  {
   "cell_type": "markdown",
   "source": [
    "# Data Collecting"
   ],
   "metadata": {
    "collapsed": false
   },
   "id": "c1e6f16ba4b193c1"
  },
  {
   "cell_type": "code",
   "outputs": [
    {
     "name": "stderr",
     "output_type": "stream",
     "text": [
      "[*********************100%%**********************]  1 of 1 completed\n",
      "[*********************100%%**********************]  1 of 1 completed\n",
      "[*********************100%%**********************]  1 of 1 completed\n",
      "[*********************100%%**********************]  1 of 1 completed\n",
      "[*********************100%%**********************]  1 of 1 completed\n",
      "[*********************100%%**********************]  1 of 1 completed\n"
     ]
    }
   ],
   "source": [
    "CL = yf.download('CL=F', start='2000-08-23')\n",
    "HO = yf.download('HO=F', start='2000-09-01')\n",
    "NG = yf.download('NG=F', start='2000-08-30')\n",
    "RB = yf.download('RB=F', start='2000-11-01')\n",
    "BZ = yf.download('BZ=F', start='2007-07-30')\n",
    "ZL = yf.download('ZL=F', start='2000-03-15')\n",
    "SP = pd.read_csv('Database/WTI.csv', index_col=0)\n",
    "SP.sort_index(inplace=True)"
   ],
   "metadata": {
    "collapsed": false,
    "ExecuteTime": {
     "end_time": "2024-03-31T12:08:25.287773200Z",
     "start_time": "2024-03-31T12:08:22.683373300Z"
    }
   },
   "id": "340947cf9e23980",
   "execution_count": 20
  },
  {
   "cell_type": "markdown",
   "source": [
    "# Numerical Data Preprocessing"
   ],
   "metadata": {
    "collapsed": false
   },
   "id": "bfb194dbe9c2fb56"
  },
  {
   "cell_type": "code",
   "outputs": [],
   "source": [
    "SP['price'] = pd.to_numeric(SP['price'], errors='coerce')\n",
    "SP = SP.dropna()"
   ],
   "metadata": {
    "collapsed": false,
    "ExecuteTime": {
     "end_time": "2024-03-31T12:08:25.298343400Z",
     "start_time": "2024-03-31T12:08:25.285774100Z"
    }
   },
   "id": "e540214fbff906e6",
   "execution_count": 21
  },
  {
   "cell_type": "code",
   "outputs": [],
   "source": [
    "CL['return'] = CL['Adj Close'].pct_change().apply(lambda x: np.log(1 + x))\n",
    "HO['return'] = HO['Adj Close'].pct_change().apply(lambda x: np.log(1 + x))\n",
    "NG['return'] = NG['Adj Close'].pct_change().apply(lambda x: np.log(1 + x))\n",
    "RB['return'] = RB['Adj Close'].pct_change().apply(lambda x: np.log(1 + x))\n",
    "BZ['return'] = BZ['Adj Close'].pct_change().apply(lambda x: np.log(1 + x))\n",
    "ZL['return'] = ZL['Adj Close'].pct_change().apply(lambda x: np.log(1 + x))\n",
    "SP['return'] = SP['price'].pct_change().apply(lambda x: np.log(1 + x))"
   ],
   "metadata": {
    "collapsed": false,
    "ExecuteTime": {
     "end_time": "2024-03-31T12:08:25.378170600Z",
     "start_time": "2024-03-31T12:08:25.295283400Z"
    }
   },
   "id": "b03bfdb1e2739d00",
   "execution_count": 22
  },
  {
   "cell_type": "code",
   "outputs": [],
   "source": [
    "CL = CL.dropna()\n",
    "HO = HO.dropna()\n",
    "NG = NG.dropna()\n",
    "RB = RB.dropna()\n",
    "BZ = BZ.dropna()\n",
    "ZL = ZL.dropna()\n",
    "SP = SP.dropna()"
   ],
   "metadata": {
    "collapsed": false,
    "ExecuteTime": {
     "end_time": "2024-03-31T12:08:25.396482600Z",
     "start_time": "2024-03-31T12:08:25.379202700Z"
    }
   },
   "id": "b72e326a8df8e415",
   "execution_count": 23
  },
  {
   "cell_type": "code",
   "outputs": [],
   "source": [
    "CL_vol = CL['return'].rolling(window=5).std()\n",
    "HO_vol = HO['return'].rolling(window=5).std()\n",
    "NG_vol = NG['return'].rolling(window=5).std()\n",
    "RB_vol = RB['return'].rolling(window=5).std()\n",
    "BZ_vol = BZ['return'].rolling(window=5).std()\n",
    "ZL_vol = ZL['return'].rolling(window=5).std()\n",
    "SP_vol = SP['return'].rolling(window=5).std()"
   ],
   "metadata": {
    "collapsed": false,
    "ExecuteTime": {
     "end_time": "2024-03-31T12:08:25.419681700Z",
     "start_time": "2024-03-31T12:08:25.389538Z"
    }
   },
   "id": "352fa9bc850e5029",
   "execution_count": 24
  },
  {
   "cell_type": "code",
   "outputs": [],
   "source": [
    "CL_vol = CL_vol.dropna()\n",
    "HO_vol = HO_vol.dropna()\n",
    "NG_vol = NG_vol.dropna()\n",
    "RB_vol = RB_vol.dropna()\n",
    "BZ_vol = BZ_vol.dropna()\n",
    "ZL_vol = ZL_vol.dropna()\n",
    "SP_vol = SP_vol.dropna()"
   ],
   "metadata": {
    "collapsed": false,
    "ExecuteTime": {
     "end_time": "2024-03-31T12:08:26.964260800Z",
     "start_time": "2024-03-31T12:08:26.958984100Z"
    }
   },
   "id": "ce5ca73e45d425b4",
   "execution_count": 25
  },
  {
   "cell_type": "code",
   "outputs": [],
   "source": [
    "CL_vol.index = pd.to_datetime(CL_vol.index)\n",
    "HO_vol.index = pd.to_datetime(HO_vol.index)\n",
    "NG_vol.index = pd.to_datetime(NG_vol.index)\n",
    "RB_vol.index = pd.to_datetime(RB_vol.index)\n",
    "BZ_vol.index = pd.to_datetime(BZ_vol.index)\n",
    "ZL_vol.index = pd.to_datetime(ZL_vol.index)\n",
    "SP_vol.index = pd.to_datetime(SP_vol.index)"
   ],
   "metadata": {
    "collapsed": false,
    "ExecuteTime": {
     "end_time": "2024-03-31T12:08:37.556351100Z",
     "start_time": "2024-03-31T12:08:37.520563400Z"
    }
   },
   "id": "4625ceda26754091",
   "execution_count": 27
  },
  {
   "cell_type": "markdown",
   "source": [
    "# Text Data Preprocessing"
   ],
   "metadata": {
    "collapsed": false
   },
   "id": "eeeb07b5f8060532"
  },
  {
   "cell_type": "code",
   "outputs": [],
   "source": [
    "news = pd.read_csv('Database/news_newsdata_embedding.csv')\n",
    "book = pd.read_csv('Database/books_newsdata_embedding.csv')"
   ],
   "metadata": {
    "collapsed": false,
    "ExecuteTime": {
     "end_time": "2024-03-31T12:08:39.037600700Z",
     "start_time": "2024-03-31T12:08:38.500066800Z"
    }
   },
   "id": "52b7e461bf0abbd5",
   "execution_count": 28
  },
  {
   "cell_type": "code",
   "outputs": [],
   "source": [
    "news.iloc[468, 3] = '2003-05-21'\n",
    "book['published_date'] = pd.to_datetime(book['published_date'], errors='coerce')\n",
    "news['published_date'] = pd.to_datetime(news['published_date'], errors='coerce')"
   ],
   "metadata": {
    "collapsed": false,
    "ExecuteTime": {
     "end_time": "2024-03-31T12:08:39.055402500Z",
     "start_time": "2024-03-31T12:08:39.041280100Z"
    }
   },
   "id": "fe4a6cf2baf8ef37",
   "execution_count": 29
  },
  {
   "cell_type": "code",
   "outputs": [],
   "source": [
    "book_notin_news = [p for p in book['published_date'] if p not in news['published_date']]\n",
    "add_df = book[['published_date', 'embedding']][book['published_date'] == book_notin_news]\n",
    "news = pd.concat([news, add_df])"
   ],
   "metadata": {
    "collapsed": false,
    "ExecuteTime": {
     "end_time": "2024-03-31T12:08:39.100284100Z",
     "start_time": "2024-03-31T12:08:39.050735300Z"
    }
   },
   "id": "daebb18df32a351a",
   "execution_count": 30
  },
  {
   "cell_type": "code",
   "outputs": [],
   "source": [
    "NLP_vec = news[['published_date', 'embedding']]\n",
    "NLP_vec.reset_index(inplace=True)\n",
    "NLP_vec.index = NLP_vec['published_date']"
   ],
   "metadata": {
    "collapsed": false,
    "ExecuteTime": {
     "end_time": "2024-03-31T12:08:39.111168800Z",
     "start_time": "2024-03-31T12:08:39.102284300Z"
    }
   },
   "id": "871614228a76644e",
   "execution_count": 31
  },
  {
   "cell_type": "code",
   "outputs": [],
   "source": [
    "NLP_vec = NLP_vec[~NLP_vec.index.duplicated(keep='first')]\n",
    "NLP_vec = NLP_vec['embedding']"
   ],
   "metadata": {
    "collapsed": false,
    "ExecuteTime": {
     "end_time": "2024-03-31T12:08:39.174828200Z",
     "start_time": "2024-03-31T12:08:39.167414400Z"
    }
   },
   "id": "710a4dbbc1629dbb",
   "execution_count": 32
  },
  {
   "cell_type": "code",
   "outputs": [],
   "source": [
    "def str_to_array(s):\n",
    "    list_array = [float(x) for x in s.strip('[]').split()]\n",
    "    return np.array(list_array)\n",
    "\n",
    "vol_list = [CL_vol, HO_vol, NG_vol, RB_vol, BZ_vol, ZL_vol, SP_vol]\n",
    "for i, vol in enumerate(vol_list):\n",
    "    vol_list[i] = pd.concat([vol, NLP_vec], axis=1)\n",
    "    vol_list[i] = vol_list[i].dropna(subset=['return'])\n",
    "    nan_index = vol_list[i][vol_list[i]['embedding'].isna()].index\n",
    "    vol_list[i].loc[nan_index, 'embedding'] = str(np.zeros(384))\n",
    "    \n",
    "    for j in range(384):\n",
    "        vol_list[i][f'{j}']=None\n",
    "    array_series = vol_list[i].iloc[:,1].apply(str_to_array)\n",
    "    \n",
    "    for k in range(384):\n",
    "        vol_list[i][f'{k}'] = array_series.apply(lambda x: x[k])"
   ],
   "metadata": {
    "collapsed": false,
    "ExecuteTime": {
     "end_time": "2024-03-31T12:08:51.060561600Z",
     "start_time": "2024-03-31T12:08:39.362636900Z"
    }
   },
   "id": "bd71360d81a8c284",
   "execution_count": 33
  },
  {
   "cell_type": "code",
   "outputs": [],
   "source": [
    "CL_vol = vol_list[0].drop(columns=['embedding'])\n",
    "HO_vol = vol_list[1].drop(columns=['embedding'])\n",
    "NG_vol = vol_list[2].drop(columns=['embedding'])\n",
    "RB_vol = vol_list[3].drop(columns=['embedding'])\n",
    "BZ_vol = vol_list[4].drop(columns=['embedding'])\n",
    "ZL_vol = vol_list[5].drop(columns=['embedding'])\n",
    "SP_vol = vol_list[6].drop(columns=['embedding'])"
   ],
   "metadata": {
    "collapsed": false,
    "ExecuteTime": {
     "end_time": "2024-03-31T12:08:51.180836700Z",
     "start_time": "2024-03-31T12:08:51.063125100Z"
    }
   },
   "id": "a879acc925c0128e",
   "execution_count": 34
  },
  {
   "cell_type": "code",
   "outputs": [],
   "source": [
    "CL_vol=CL_vol.loc['2015-01-01':]\n",
    "HO_vol=HO_vol.loc['2015-01-01':]\n",
    "NG_vol=NG_vol.loc['2015-01-01':]\n",
    "RB_vol=RB_vol.loc['2015-01-01':]\n",
    "BZ_vol=BZ_vol.loc['2015-01-01':]\n",
    "ZL_vol=ZL_vol.loc['2015-01-01':]\n",
    "SP_vol=SP_vol.loc[:'2015-01-01']"
   ],
   "metadata": {
    "collapsed": false,
    "ExecuteTime": {
     "end_time": "2024-03-31T12:08:51.203511300Z",
     "start_time": "2024-03-31T12:08:51.183412900Z"
    }
   },
   "id": "2191cfa066b9e60",
   "execution_count": 35
  },
  {
   "cell_type": "markdown",
   "source": [
    "# Save Files"
   ],
   "metadata": {
    "collapsed": false
   },
   "id": "ea414df9363740f0"
  },
  {
   "cell_type": "code",
   "outputs": [],
   "source": [
    "CL_vol.to_csv('Database/oil_std/CL_vol.csv')\n",
    "HO_vol.to_csv('Database/oil_std/HO_vol.csv')\n",
    "NG_vol.to_csv('Database/oil_std/NG_vol.csv')\n",
    "RB_vol.to_csv('Database/oil_std/RB_vol.csv')\n",
    "BZ_vol.to_csv('Database/oil_std/BZ_vol.csv')\n",
    "ZL_vol.to_csv('Database/oil_std/ZL_vol.csv')\n",
    "SP_vol.to_csv('Database/SP_vol.csv')"
   ],
   "metadata": {
    "collapsed": false,
    "ExecuteTime": {
     "end_time": "2024-03-31T12:08:57.843224Z",
     "start_time": "2024-03-31T12:08:51.204546300Z"
    }
   },
   "id": "30396805ff48a44e",
   "execution_count": 36
  }
 ],
 "metadata": {
  "kernelspec": {
   "display_name": "Python 3",
   "language": "python",
   "name": "python3"
  },
  "language_info": {
   "codemirror_mode": {
    "name": "ipython",
    "version": 2
   },
   "file_extension": ".py",
   "mimetype": "text/x-python",
   "name": "python",
   "nbconvert_exporter": "python",
   "pygments_lexer": "ipython2",
   "version": "2.7.6"
  }
 },
 "nbformat": 4,
 "nbformat_minor": 5
}
