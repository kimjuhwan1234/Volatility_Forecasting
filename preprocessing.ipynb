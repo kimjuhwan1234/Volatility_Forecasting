{
 "cells": [
  {
   "cell_type": "code",
   "outputs": [],
   "source": [
    "from matplotlib import pyplot as plt\n",
    "from IPython.core.interactiveshell import InteractiveShell\n",
    "\n",
    "import warnings\n",
    "import numpy as np\n",
    "import pandas as pd"
   ],
   "metadata": {
    "collapsed": false,
    "ExecuteTime": {
     "end_time": "2024-03-19T08:06:46.538382700Z",
     "start_time": "2024-03-19T08:06:45.632050600Z"
    }
   },
   "id": "496270b0ab9e193c",
   "execution_count": 1
  },
  {
   "cell_type": "code",
   "outputs": [],
   "source": [
    "plt.rc('font', family='GULIM')\n",
    "warnings.filterwarnings(action='ignore')\n",
    "InteractiveShell.ast_node_interactivity = \"all\""
   ],
   "metadata": {
    "collapsed": false,
    "ExecuteTime": {
     "end_time": "2024-03-19T08:06:46.548203400Z",
     "start_time": "2024-03-19T08:06:46.538937600Z"
    }
   },
   "id": "ed456206b461c823",
   "execution_count": 2
  },
  {
   "cell_type": "markdown",
   "source": [
    "# Data Check"
   ],
   "metadata": {
    "collapsed": false
   },
   "id": "c1e6f16ba4b193c1"
  },
  {
   "cell_type": "code",
   "outputs": [],
   "source": [
    "wti = pd.read_csv('Database/oils/WTI.csv', index_col=0)\n",
    "bno = pd.read_csv('Database/oils/BNO.csv', index_col=0)"
   ],
   "metadata": {
    "collapsed": false,
    "ExecuteTime": {
     "end_time": "2024-03-19T08:06:46.588193500Z",
     "start_time": "2024-03-19T08:06:46.542988Z"
    }
   },
   "id": "cb76e1070f034427",
   "execution_count": 3
  },
  {
   "cell_type": "code",
   "outputs": [
    {
     "data": {
      "text/plain": "Date\n2017-12-01    3.465902\n2017-12-04    3.346730\n2017-12-05    3.396385\n2017-12-06    3.028940\n2017-12-07    3.058733\n                ...   \n2024-03-11    2.579681\n2024-03-12    2.490040\n2024-03-13    2.539840\n2024-03-14    2.500000\n2024-03-15    2.590000\nName: Adj Close, Length: 1581, dtype: float64"
     },
     "execution_count": 4,
     "metadata": {},
     "output_type": "execute_result"
    }
   ],
   "source": [
    "wti['Adj Close']"
   ],
   "metadata": {
    "collapsed": false,
    "ExecuteTime": {
     "end_time": "2024-03-19T08:06:46.590253600Z",
     "start_time": "2024-03-19T08:06:46.577645400Z"
    }
   },
   "id": "d2df1484fdb74d49",
   "execution_count": 4
  },
  {
   "cell_type": "code",
   "outputs": [
    {
     "data": {
      "text/plain": "Date\n2017-12-01    17.180000\n2017-12-04    16.830000\n2017-12-05    16.969999\n2017-12-06    16.510000\n2017-12-07    16.730000\n                ...    \n2024-03-11    29.969999\n2024-03-12    29.870001\n2024-03-13    30.580000\n2024-03-14    31.000000\n2024-03-15    31.030001\nName: Adj Close, Length: 1581, dtype: float64"
     },
     "execution_count": 5,
     "metadata": {},
     "output_type": "execute_result"
    }
   ],
   "source": [
    "bno['Adj Close']"
   ],
   "metadata": {
    "collapsed": false,
    "ExecuteTime": {
     "end_time": "2024-03-19T08:06:46.614528200Z",
     "start_time": "2024-03-19T08:06:46.589192100Z"
    }
   },
   "id": "8f01f999b858294d",
   "execution_count": 5
  },
  {
   "cell_type": "markdown",
   "source": [
    "# General preprocessing"
   ],
   "metadata": {
    "collapsed": false
   },
   "id": "eeeb07b5f8060532"
  },
  {
   "cell_type": "code",
   "outputs": [],
   "source": [
    "wti['return'] = wti['Adj Close'].pct_change().apply(lambda x: np.log(1 + x))\n",
    "bno['return'] = bno['Adj Close'].pct_change().apply(lambda x: np.log(1 + x))"
   ],
   "metadata": {
    "collapsed": false,
    "ExecuteTime": {
     "end_time": "2024-03-19T08:06:46.640371300Z",
     "start_time": "2024-03-19T08:06:46.596252Z"
    }
   },
   "id": "dc0cb72908a03136",
   "execution_count": 6
  },
  {
   "cell_type": "code",
   "outputs": [],
   "source": [
    "wti_vol = wti['return'].rolling(window=5).std()\n",
    "bno_vol = bno['return'].rolling(window=5).std()"
   ],
   "metadata": {
    "collapsed": false,
    "ExecuteTime": {
     "end_time": "2024-03-19T08:06:46.642528900Z",
     "start_time": "2024-03-19T08:06:46.612464900Z"
    }
   },
   "id": "8c0a4b6c82d4cf62",
   "execution_count": 7
  },
  {
   "cell_type": "code",
   "outputs": [],
   "source": [
    "wti_vol = wti_vol.iloc[20:]\n",
    "bno_vol = bno_vol.iloc[20:]"
   ],
   "metadata": {
    "collapsed": false,
    "ExecuteTime": {
     "end_time": "2024-03-19T08:06:46.643527300Z",
     "start_time": "2024-03-19T08:06:46.622767800Z"
    }
   },
   "id": "8a9a59a50c8bdc7d",
   "execution_count": 8
  },
  {
   "cell_type": "code",
   "outputs": [],
   "source": [
    "# test_wti = wti_vol.iloc[-52:]\n",
    "# test_bno = bno_vol.iloc[-52:]"
   ],
   "metadata": {
    "collapsed": false,
    "ExecuteTime": {
     "end_time": "2024-03-19T08:06:46.643527300Z",
     "start_time": "2024-03-19T08:06:46.632992500Z"
    }
   },
   "id": "9c0a3e9da2f13ee4",
   "execution_count": 9
  },
  {
   "cell_type": "code",
   "outputs": [],
   "source": [
    "# train_wti = wti_vol.iloc[:-52]\n",
    "# train_bno = bno_vol.iloc[:-52]"
   ],
   "metadata": {
    "collapsed": false,
    "ExecuteTime": {
     "end_time": "2024-03-19T08:06:46.644588900Z",
     "start_time": "2024-03-19T08:06:46.638730300Z"
    }
   },
   "id": "14367748211e61a3",
   "execution_count": 10
  },
  {
   "cell_type": "code",
   "outputs": [
    {
     "data": {
      "text/plain": "[<matplotlib.lines.Line2D at 0x280ee8550d0>]"
     },
     "execution_count": 13,
     "metadata": {},
     "output_type": "execute_result"
    },
    {
     "data": {
      "text/plain": "[<matplotlib.lines.Line2D at 0x280ee7f1a90>]"
     },
     "execution_count": 13,
     "metadata": {},
     "output_type": "execute_result"
    },
    {
     "data": {
      "text/plain": "<Figure size 640x480 with 1 Axes>",
      "image/png": "[encoded data removed]"
     },
     "metadata": {},
     "output_type": "display_data"
    }
   ],
   "source": [
    "pred=pd.read_csv('Files/bi_LSTM_wti.csv')\n",
    "\n",
    "import matplotlib.pyplot as plt\n",
    "\n",
    "plt.plot(pred['Ground Truth'])\n",
    "plt.plot(pred['Prediction'])"
   ],
   "metadata": {
    "collapsed": false,
    "ExecuteTime": {
     "end_time": "2024-03-19T08:07:06.648271500Z",
     "start_time": "2024-03-19T08:07:06.514463900Z"
    }
   },
   "id": "7d817f5adcba6e11",
   "execution_count": 13
  },
  {
   "cell_type": "code",
   "outputs": [
    {
     "data": {
      "text/plain": "Date\n2018-01-02                                              0.05546\n2018-01-03                                             0.062227\n2018-01-04                                             0.060366\n2018-01-05                                             0.056537\n2018-01-08                                             0.050013\n                                    ...                        \n2024-03-12                                             0.035569\n2024-03-13                                             0.020369\n2024-03-14                                             0.020834\n2024-03-15                                             0.028046\nemb           [[[1, 2, 3], [1, 2, 3], [1, 2, 3], [1, 2, 3], ...\nName: return, Length: 1562, dtype: object"
     },
     "execution_count": 72,
     "metadata": {},
     "output_type": "execute_result"
    }
   ],
   "source": [
    "wti_vol"
   ],
   "metadata": {
    "collapsed": false,
    "ExecuteTime": {
     "end_time": "2024-03-19T06:32:28.408842900Z",
     "start_time": "2024-03-19T06:32:28.261028200Z"
    }
   },
   "id": "6ee68761ad062e8c",
   "execution_count": 72
  },
  {
   "cell_type": "markdown",
   "source": [
    "# Save Files"
   ],
   "metadata": {
    "collapsed": false
   },
   "id": "ea414df9363740f0"
  },
  {
   "cell_type": "code",
   "outputs": [],
   "source": [
    "wti_vol.to_csv('Database/oil_std/wti_vol.csv')\n",
    "bno_vol.to_csv('Database/oil_std/bno_vol.csv')"
   ],
   "metadata": {
    "collapsed": false,
    "ExecuteTime": {
     "end_time": "2024-03-17T04:59:11.442164800Z",
     "start_time": "2024-03-17T04:59:11.431029100Z"
    }
   },
   "id": "7c786bda7d657b7f",
   "execution_count": 80
  }
 ],
 "metadata": {
  "kernelspec": {
   "display_name": "Python 3",
   "language": "python",
   "name": "python3"
  },
  "language_info": {
   "codemirror_mode": {
    "name": "ipython",
    "version": 2
   },
   "file_extension": ".py",
   "mimetype": "text/x-python",
   "name": "python",
   "nbconvert_exporter": "python",
   "pygments_lexer": "ipython2",
   "version": "2.7.6"
  }
 },
 "nbformat": 4,
 "nbformat_minor": 5
}
