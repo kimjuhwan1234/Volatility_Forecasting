{
 "cells": [
  {
   "cell_type": "code",
   "outputs": [],
   "source": [
    "from matplotlib import pyplot as plt\n",
    "from IPython.core.interactiveshell import InteractiveShell\n",
    "\n",
    "import warnings\n",
    "import numpy as np\n",
    "import pandas as pd"
   ],
   "metadata": {
    "collapsed": false,
    "ExecuteTime": {
     "end_time": "2024-03-19T06:53:34.739221100Z",
     "start_time": "2024-03-19T06:53:30.752314600Z"
    }
   },
   "id": "496270b0ab9e193c",
   "execution_count": 2
  },
  {
   "cell_type": "code",
   "outputs": [],
   "source": [
    "plt.rc('font', family='GULIM')\n",
    "warnings.filterwarnings(action='ignore')\n",
    "InteractiveShell.ast_node_interactivity = \"all\""
   ],
   "metadata": {
    "collapsed": false,
    "ExecuteTime": {
     "end_time": "2024-03-19T06:53:34.763987600Z",
     "start_time": "2024-03-19T06:53:34.740218900Z"
    }
   },
   "id": "ed456206b461c823",
   "execution_count": 3
  },
  {
   "cell_type": "markdown",
   "source": [
    "# Data Check"
   ],
   "metadata": {
    "collapsed": false
   },
   "id": "c1e6f16ba4b193c1"
  },
  {
   "cell_type": "code",
   "outputs": [],
   "source": [
    "wti = pd.read_csv('Database/oils/WTI.csv', index_col=0)\n",
    "bno = pd.read_csv('Database/oils/BNO.csv', index_col=0)"
   ],
   "metadata": {
    "collapsed": false,
    "ExecuteTime": {
     "end_time": "2024-03-19T06:53:34.807445900Z",
     "start_time": "2024-03-19T06:53:34.755369200Z"
    }
   },
   "id": "cb76e1070f034427",
   "execution_count": 4
  },
  {
   "cell_type": "code",
   "outputs": [
    {
     "data": {
      "text/plain": "Date\n2017-12-01    3.465902\n2017-12-04    3.346730\n2017-12-05    3.396385\n2017-12-06    3.028940\n2017-12-07    3.058733\n                ...   \n2024-03-11    2.579681\n2024-03-12    2.490040\n2024-03-13    2.539840\n2024-03-14    2.500000\n2024-03-15    2.590000\nName: Adj Close, Length: 1581, dtype: float64"
     },
     "execution_count": 5,
     "metadata": {},
     "output_type": "execute_result"
    }
   ],
   "source": [
    "wti['Adj Close']"
   ],
   "metadata": {
    "collapsed": false,
    "ExecuteTime": {
     "end_time": "2024-03-19T06:53:34.878055200Z",
     "start_time": "2024-03-19T06:53:34.798991300Z"
    }
   },
   "id": "d2df1484fdb74d49",
   "execution_count": 5
  },
  {
   "cell_type": "code",
   "outputs": [
    {
     "data": {
      "text/plain": "Date\n2017-12-01    17.180000\n2017-12-04    16.830000\n2017-12-05    16.969999\n2017-12-06    16.510000\n2017-12-07    16.730000\n                ...    \n2024-03-11    29.969999\n2024-03-12    29.870001\n2024-03-13    30.580000\n2024-03-14    31.000000\n2024-03-15    31.030001\nName: Adj Close, Length: 1581, dtype: float64"
     },
     "execution_count": 6,
     "metadata": {},
     "output_type": "execute_result"
    }
   ],
   "source": [
    "bno['Adj Close']"
   ],
   "metadata": {
    "collapsed": false,
    "ExecuteTime": {
     "end_time": "2024-03-19T06:53:34.909990700Z",
     "start_time": "2024-03-19T06:53:34.838984100Z"
    }
   },
   "id": "8f01f999b858294d",
   "execution_count": 6
  },
  {
   "cell_type": "markdown",
   "source": [
    "# General preprocessing"
   ],
   "metadata": {
    "collapsed": false
   },
   "id": "eeeb07b5f8060532"
  },
  {
   "cell_type": "code",
   "outputs": [],
   "source": [
    "wti['return'] = wti['Adj Close'].pct_change().apply(lambda x: np.log(1 + x))\n",
    "bno['return'] = bno['Adj Close'].pct_change().apply(lambda x: np.log(1 + x))"
   ],
   "metadata": {
    "collapsed": false,
    "ExecuteTime": {
     "end_time": "2024-03-19T06:53:35.079276900Z",
     "start_time": "2024-03-19T06:53:35.034495300Z"
    }
   },
   "id": "dc0cb72908a03136",
   "execution_count": 7
  },
  {
   "cell_type": "code",
   "outputs": [],
   "source": [
    "wti_vol = wti['return'].rolling(window=5).std()\n",
    "bno_vol = bno['return'].rolling(window=5).std()"
   ],
   "metadata": {
    "collapsed": false,
    "ExecuteTime": {
     "end_time": "2024-03-19T06:53:35.560284500Z",
     "start_time": "2024-03-19T06:53:35.458434500Z"
    }
   },
   "id": "8c0a4b6c82d4cf62",
   "execution_count": 8
  },
  {
   "cell_type": "code",
   "outputs": [],
   "source": [
    "wti_vol = wti_vol.iloc[20:]\n",
    "bno_vol = bno_vol.iloc[20:]"
   ],
   "metadata": {
    "collapsed": false,
    "ExecuteTime": {
     "end_time": "2024-03-19T06:53:35.864305800Z",
     "start_time": "2024-03-19T06:53:35.731088200Z"
    }
   },
   "id": "8a9a59a50c8bdc7d",
   "execution_count": 9
  },
  {
   "cell_type": "code",
   "outputs": [],
   "source": [
    "# test_wti = wti_vol.iloc[-52:]\n",
    "# test_bno = bno_vol.iloc[-52:]"
   ],
   "metadata": {
    "collapsed": false,
    "ExecuteTime": {
     "end_time": "2024-03-19T06:53:36.228570400Z",
     "start_time": "2024-03-19T06:53:36.161530Z"
    }
   },
   "id": "9c0a3e9da2f13ee4",
   "execution_count": 10
  },
  {
   "cell_type": "code",
   "outputs": [],
   "source": [
    "# train_wti = wti_vol.iloc[:-52]\n",
    "# train_bno = bno_vol.iloc[:-52]"
   ],
   "metadata": {
    "collapsed": false,
    "ExecuteTime": {
     "end_time": "2024-03-19T06:53:36.640886200Z",
     "start_time": "2024-03-19T06:53:36.622099100Z"
    }
   },
   "id": "14367748211e61a3",
   "execution_count": 11
  },
  {
   "cell_type": "code",
   "outputs": [
    {
     "data": {
      "text/plain": "         Date  Prediction  Ground Truth\n0  2024-03-11    0.038244      0.036363\n1  2024-03-12    0.044184      0.035569\n2  2024-03-13    0.045737      0.020369\n3  2024-03-14    0.045436      0.020834\n4  2024-03-15    0.044574      0.028046",
      "text/html": "<div>\n<style scoped>\n    .dataframe tbody tr th:only-of-type {\n        vertical-align: middle;\n    }\n\n    .dataframe tbody tr th {\n        vertical-align: top;\n    }\n\n    .dataframe thead th {\n        text-align: right;\n    }\n</style>\n<table border=\"1\" class=\"dataframe\">\n  <thead>\n    <tr style=\"text-align: right;\">\n      <th></th>\n      <th>Date</th>\n      <th>Prediction</th>\n      <th>Ground Truth</th>\n    </tr>\n  </thead>\n  <tbody>\n    <tr>\n      <th>0</th>\n      <td>2024-03-11</td>\n      <td>0.038244</td>\n      <td>0.036363</td>\n    </tr>\n    <tr>\n      <th>1</th>\n      <td>2024-03-12</td>\n      <td>0.044184</td>\n      <td>0.035569</td>\n    </tr>\n    <tr>\n      <th>2</th>\n      <td>2024-03-13</td>\n      <td>0.045737</td>\n      <td>0.020369</td>\n    </tr>\n    <tr>\n      <th>3</th>\n      <td>2024-03-14</td>\n      <td>0.045436</td>\n      <td>0.020834</td>\n    </tr>\n    <tr>\n      <th>4</th>\n      <td>2024-03-15</td>\n      <td>0.044574</td>\n      <td>0.028046</td>\n    </tr>\n  </tbody>\n</table>\n</div>"
     },
     "execution_count": 19,
     "metadata": {},
     "output_type": "execute_result"
    },
    {
     "data": {
      "text/plain": "[<matplotlib.lines.Line2D at 0x1c7b6c3ad10>]"
     },
     "execution_count": 19,
     "metadata": {},
     "output_type": "execute_result"
    },
    {
     "data": {
      "text/plain": "[<matplotlib.lines.Line2D at 0x1c7b85e9a10>]"
     },
     "execution_count": 19,
     "metadata": {},
     "output_type": "execute_result"
    },
    {
     "data": {
      "text/plain": "<Figure size 640x480 with 1 Axes>",
      "image/png": "[encoded data removed]"
     },
     "metadata": {},
     "output_type": "display_data"
    }
   ],
   "source": [
    "pred=pd.read_csv('Files/bi_LSTM_wti.csv')\n",
    "\n",
    "pred\n",
    "\n",
    "import matplotlib.pyplot as plt\n",
    "\n",
    "plt.plot(pred['Ground Truth'])\n",
    "plt.plot(pred['Prediction'])"
   ],
   "metadata": {
    "collapsed": false,
    "ExecuteTime": {
     "end_time": "2024-03-19T06:55:45.456834300Z",
     "start_time": "2024-03-19T06:55:45.034906500Z"
    }
   },
   "id": "7d817f5adcba6e11",
   "execution_count": 19
  },
  {
   "cell_type": "code",
   "outputs": [
    {
     "data": {
      "text/plain": "Date\n2018-01-02                                              0.05546\n2018-01-03                                             0.062227\n2018-01-04                                             0.060366\n2018-01-05                                             0.056537\n2018-01-08                                             0.050013\n                                    ...                        \n2024-03-12                                             0.035569\n2024-03-13                                             0.020369\n2024-03-14                                             0.020834\n2024-03-15                                             0.028046\nemb           [[[1, 2, 3], [1, 2, 3], [1, 2, 3], [1, 2, 3], ...\nName: return, Length: 1562, dtype: object"
     },
     "execution_count": 72,
     "metadata": {},
     "output_type": "execute_result"
    }
   ],
   "source": [
    "wti_vol"
   ],
   "metadata": {
    "collapsed": false,
    "ExecuteTime": {
     "end_time": "2024-03-19T06:32:28.408842900Z",
     "start_time": "2024-03-19T06:32:28.261028200Z"
    }
   },
   "id": "6ee68761ad062e8c",
   "execution_count": 72
  },
  {
   "cell_type": "markdown",
   "source": [
    "# Save Files"
   ],
   "metadata": {
    "collapsed": false
   },
   "id": "ea414df9363740f0"
  },
  {
   "cell_type": "code",
   "outputs": [],
   "source": [
    "wti_vol.to_csv('Database/oil_std/wti_vol.csv')\n",
    "bno_vol.to_csv('Database/oil_std/bno_vol.csv')"
   ],
   "metadata": {
    "collapsed": false,
    "ExecuteTime": {
     "end_time": "2024-03-17T04:59:11.442164800Z",
     "start_time": "2024-03-17T04:59:11.431029100Z"
    }
   },
   "id": "7c786bda7d657b7f",
   "execution_count": 80
  }
 ],
 "metadata": {
  "kernelspec": {
   "display_name": "Python 3",
   "language": "python",
   "name": "python3"
  },
  "language_info": {
   "codemirror_mode": {
    "name": "ipython",
    "version": 2
   },
   "file_extension": ".py",
   "mimetype": "text/x-python",
   "name": "python",
   "nbconvert_exporter": "python",
   "pygments_lexer": "ipython2",
   "version": "2.7.6"
  }
 },
 "nbformat": 4,
 "nbformat_minor": 5
}
