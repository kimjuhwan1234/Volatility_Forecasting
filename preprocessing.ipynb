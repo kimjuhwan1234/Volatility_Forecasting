{
 "cells": [
  {
   "cell_type": "code",
   "outputs": [],
   "source": [
    "from matplotlib import pyplot as plt\n",
    "from IPython.core.interactiveshell import InteractiveShell\n",
    "\n",
    "import warnings\n",
    "import numpy as np\n",
    "import pandas as pd\n",
    "import yfinance as yf"
   ],
   "metadata": {
    "collapsed": false,
    "ExecuteTime": {
     "end_time": "2024-04-26T05:38:49.196759200Z",
     "start_time": "2024-04-26T05:38:47.538024800Z"
    }
   },
   "id": "496270b0ab9e193c",
   "execution_count": 1
  },
  {
   "cell_type": "code",
   "outputs": [],
   "source": [
    "plt.rc('font', family='GULIM')\n",
    "warnings.filterwarnings(action='ignore')\n",
    "InteractiveShell.ast_node_interactivity = \"all\""
   ],
   "metadata": {
    "collapsed": false,
    "ExecuteTime": {
     "end_time": "2024-04-26T05:38:49.200270Z",
     "start_time": "2024-04-26T05:38:49.196759200Z"
    }
   },
   "id": "ed456206b461c823",
   "execution_count": 2
  },
  {
   "cell_type": "markdown",
   "source": [
    "# Oil Price"
   ],
   "metadata": {
    "collapsed": false
   },
   "id": "bfb194dbe9c2fb56"
  },
  {
   "cell_type": "code",
   "outputs": [],
   "source": [
    "import requests\n",
    "\n",
    "api_key = '2LMFTJQ7V0USVG0B'\n",
    "\n",
    "params = {\n",
    "    'function': 'WTI',\n",
    "    'interval': 'daily',\n",
    "    'apikey': api_key\n",
    "}\n",
    "\n",
    "# replace the \"demo\" apikey below with your own key from https://www.alphavantage.co/support/#api-key\n",
    "url = 'https://www.alphavantage.co/query?function=WTI&interval=monthly&apikey=demo'\n",
    "r = requests.get(url, params=params)\n",
    "data = r.json()"
   ],
   "metadata": {
    "collapsed": false,
    "ExecuteTime": {
     "end_time": "2024-04-26T05:38:51.040552600Z",
     "start_time": "2024-04-26T05:38:49.200270Z"
    }
   },
   "id": "8df782591d8bd268",
   "execution_count": 3
  },
  {
   "cell_type": "code",
   "outputs": [],
   "source": [
    "SP = pd.DataFrame(columns=['date', 'price'])\n",
    "for i in range(len(data['data'])):\n",
    "    SP.loc[i, 'date'] = data['data'][i]['date']\n",
    "    SP.loc[i, 'price'] = data['data'][i]['value']\n",
    "SP.index = pd.to_datetime(SP['date'])\n",
    "SP.drop(columns='date', inplace=True)\n",
    "SP.sort_index(inplace=True)\n",
    "SP['price'] = pd.to_numeric(SP['price'], errors='coerce')\n",
    "SP = SP.dropna()"
   ],
   "metadata": {
    "collapsed": false,
    "ExecuteTime": {
     "end_time": "2024-04-26T05:57:21.811182200Z",
     "start_time": "2024-04-26T05:57:18.033200300Z"
    }
   },
   "id": "3ea8e7d56f5ed793",
   "execution_count": 22
  },
  {
   "cell_type": "code",
   "outputs": [
    {
     "name": "stderr",
     "output_type": "stream",
     "text": [
      "[*********************100%%**********************]  1 of 1 completed\n",
      "[*********************100%%**********************]  1 of 1 completed\n",
      "[*********************100%%**********************]  1 of 1 completed\n",
      "[*********************100%%**********************]  1 of 1 completed\n"
     ]
    }
   ],
   "source": [
    "CL = yf.download('CL=F', start='2000-08-23')\n",
    "HO = yf.download('HO=F', start='2000-09-01')\n",
    "RB = yf.download('RB=F', start='2000-11-01')\n",
    "BZ = yf.download('BZ=F', start='2007-07-30')"
   ],
   "metadata": {
    "collapsed": false,
    "ExecuteTime": {
     "end_time": "2024-04-26T05:57:23.498154500Z",
     "start_time": "2024-04-26T05:57:21.813182600Z"
    }
   },
   "id": "960c4a1843c92238",
   "execution_count": 23
  },
  {
   "cell_type": "code",
   "outputs": [],
   "source": [
    "BZ_2 = pd.read_csv('Database/oil_price/BZ_future.csv', index_col=0)\n",
    "BZ_2.index = pd.to_datetime(BZ_2.index)\n",
    "BZ_2_sorted = BZ_2.sort_index().loc[:'2007-07-22', 'Price']\n",
    "BL = pd.concat([BZ['Adj Close'], BZ_2_sorted], axis=0).sort_index()\n",
    "BL = pd.DataFrame(data=BL.values, columns=['Adj Close'], index=BL.index)"
   ],
   "metadata": {
    "collapsed": false,
    "ExecuteTime": {
     "end_time": "2024-04-26T05:57:23.532036100Z",
     "start_time": "2024-04-26T05:57:23.501155300Z"
    }
   },
   "id": "f66b4b0ac8047e5",
   "execution_count": 24
  },
  {
   "cell_type": "code",
   "outputs": [],
   "source": [
    "# plt.figure(figsize=(10, 6))\n",
    "# plt.plot(BL.loc['2014-08-01':'2020-12-01', 'Adj Close'], label='Prediction')\n",
    "# plt.title('Brent Weekly Price')\n",
    "# plt.xlabel('Time')\n",
    "# plt.ylabel('Value')\n",
    "# plt.legend()\n",
    "# plt.tight_layout()\n",
    "# plt.show()"
   ],
   "metadata": {
    "collapsed": false,
    "ExecuteTime": {
     "end_time": "2024-04-26T05:57:23.541942700Z",
     "start_time": "2024-04-26T05:57:23.533037300Z"
    }
   },
   "id": "a21ff22aa423ec34",
   "execution_count": 25
  },
  {
   "cell_type": "markdown",
   "source": [
    "# 1. Basic Variance"
   ],
   "metadata": {
    "collapsed": false
   },
   "id": "da476df17d8420fd"
  },
  {
   "cell_type": "code",
   "outputs": [],
   "source": [
    "CL['return'] = CL['Adj Close'].pct_change().apply(lambda x: np.log(1 + x))\n",
    "HO['return'] = HO['Adj Close'].pct_change().apply(lambda x: np.log(1 + x))\n",
    "RB['return'] = RB['Adj Close'].pct_change().apply(lambda x: np.log(1 + x))\n",
    "BL['return'] = BL['Adj Close'].pct_change().apply(lambda x: np.log(1 + x))\n",
    "SP['return'] = SP['price'].pct_change().apply(lambda x: np.log(1 + x))"
   ],
   "metadata": {
    "collapsed": false,
    "ExecuteTime": {
     "end_time": "2024-04-25T13:21:24.872069Z",
     "start_time": "2024-04-25T13:21:24.812439800Z"
    }
   },
   "id": "7219502cbdb8212a",
   "execution_count": 414
  },
  {
   "cell_type": "code",
   "outputs": [],
   "source": [
    "CL_vol = CL['return'].resample('W-MON').var().dropna()\n",
    "HO_vol = HO['return'].resample('W-MON').var().dropna()\n",
    "RB_vol = RB['return'].resample('W-MON').var().dropna()\n",
    "BZ_vol = BL['return'].resample('W-MON').var().dropna()\n",
    "SP_vol = SP['return'].resample('W-MON').var().dropna()\n",
    "\n",
    "# CL_vol = CL['return'].rolling(window=5).var().dropna()\n",
    "# HO_vol = HO['return'].rolling(window=5).var().dropna()\n",
    "# RB_vol = RB['return'].rolling(window=5).var().dropna()\n",
    "# BZ_vol = BL['return'].rolling(window=5).var().resample('W-MON').mean().dropna()\n",
    "# SP_vol = SP['return'].rolling(window=5).var().dropna()\n",
    "\n",
    "# .resample('W-MON').mean()"
   ],
   "metadata": {
    "collapsed": false,
    "ExecuteTime": {
     "end_time": "2024-04-25T13:21:25.510183300Z",
     "start_time": "2024-04-25T13:21:25.422447500Z"
    }
   },
   "id": "c3d7651a8926ab13",
   "execution_count": 415
  },
  {
   "cell_type": "markdown",
   "source": [
    "# 2. Var(X)=E(X^2)"
   ],
   "metadata": {
    "collapsed": false
   },
   "id": "9c8d902909aab39"
  },
  {
   "cell_type": "code",
   "outputs": [],
   "source": [
    "CL_vol = (CL['return']**2).resample('W-MON').mean().dropna()\n",
    "HO_vol = (HO['return']**2).resample('W-MON').mean().dropna()\n",
    "RB_vol = (RB['return']**2).resample('W-MON').mean().dropna()\n",
    "BZ_vol2 = (BL['return']**2).resample('W-MON').mean().dropna()\n",
    "SP_vol = (SP['return']**2).resample('W-MON').mean().dropna()\n",
    "\n",
    "# CL_vol = (CL['return']**2).rolling(window=5).mean().dropna()\n",
    "# HO_vol = (HO['return']**2).rolling(window=5).mean().dropna()\n",
    "# RB_vol = (RB['return']**2).rolling(window=5).mean().dropna()\n",
    "# BZ_vol2 = (BL['return']**2).rolling(window=5).mean().resample('W-MON').mean().dropna()\n",
    "# SP_vol = (SP['return']**2).rolling(window=5).mean().dropna()\n",
    "\n",
    "# .resample('W-MON').mean()"
   ],
   "metadata": {
    "collapsed": false,
    "ExecuteTime": {
     "end_time": "2024-04-25T13:18:54.748491100Z",
     "start_time": "2024-04-25T13:18:54.618605200Z"
    }
   },
   "id": "7ca3a078343acc75",
   "execution_count": 400
  },
  {
   "cell_type": "markdown",
   "source": [
    "# 3.(이산 수익률-로그수익률)*2 의 평균 \n",
    "(Scale을 논문과 맞추기 위해 일부로 2를 안해봄.)"
   ],
   "metadata": {
    "collapsed": false
   },
   "id": "deeeae6d8698c6cc"
  },
  {
   "cell_type": "code",
   "outputs": [],
   "source": [
    "CL_log_r = CL['Adj Close'].pct_change().apply(lambda x: np.log(1 + x)).dropna()\n",
    "HO_log_r = HO['Adj Close'].pct_change().apply(lambda x: np.log(1 + x)).dropna()\n",
    "RB_log_r = RB['Adj Close'].pct_change().apply(lambda x: np.log(1 + x)).dropna()\n",
    "BL_log_r = BL['Adj Close'].pct_change().apply(lambda x: np.log(1 + x)).dropna()\n",
    "SP_log_r = SP['price'].pct_change().apply(lambda x: np.log(1 + x)).dropna()\n",
    "\n",
    "CL_r = CL['Adj Close'].pct_change().dropna()\n",
    "HO_r = HO['Adj Close'].pct_change().dropna()\n",
    "RB_r = RB['Adj Close'].pct_change().dropna()\n",
    "BL_r = BL['Adj Close'].pct_change().dropna()\n",
    "SP_r = SP['price'].pct_change().dropna()"
   ],
   "metadata": {
    "collapsed": false,
    "ExecuteTime": {
     "end_time": "2024-04-26T05:57:29.219330100Z",
     "start_time": "2024-04-26T05:57:29.160936800Z"
    }
   },
   "id": "7557ba13bc9602b4",
   "execution_count": 26
  },
  {
   "cell_type": "code",
   "outputs": [],
   "source": [
    "# CL_vol = (CL_r - CL_log_r).resample('W-MON').mean().dropna()\n",
    "# HO_vol = (HO_r - HO_log_r).resample('W-MON').mean().dropna()\n",
    "# RB_vol = (RB_r - RB_log_r).resample('W-MON').mean().dropna()\n",
    "# BZ_vol = (BL_r - BL_log_r).resample('W-MON').mean().dropna()\n",
    "# SP_vol = (SP_r - SP_log_r).resample('W-MON').mean().dropna()\n",
    "\n",
    "CL_vol = (CL_r - CL_log_r).rolling(window=5).mean().dropna()\n",
    "HO_vol = (HO_r - HO_log_r).rolling(window=5).mean().dropna()\n",
    "RB_vol = (RB_r - RB_log_r).rolling(window=5).mean().dropna()\n",
    "BZ_vol = (BL_r - BL_log_r).rolling(window=5).mean().dropna()\n",
    "SP_vol = (SP_r - SP_log_r).rolling(window=5).mean().dropna()\n",
    "\n",
    "# .resample('W-MON').mean()\n",
    "\n",
    "CL_vol.name = 'return'\n",
    "HO_vol.name = 'return'\n",
    "RB_vol.name = 'return'\n",
    "BZ_vol.name = 'return'\n",
    "SP_vol.name = 'return'"
   ],
   "metadata": {
    "collapsed": false,
    "ExecuteTime": {
     "end_time": "2024-04-26T05:57:29.775462100Z",
     "start_time": "2024-04-26T05:57:29.764840500Z"
    }
   },
   "id": "393059988d3f4b53",
   "execution_count": 27
  },
  {
   "cell_type": "code",
   "outputs": [
    {
     "data": {
      "text/plain": "<Figure size 1000x600 with 0 Axes>"
     },
     "execution_count": 28,
     "metadata": {},
     "output_type": "execute_result"
    },
    {
     "data": {
      "text/plain": "[<matplotlib.lines.Line2D at 0x291ec8e2a10>]"
     },
     "execution_count": 28,
     "metadata": {},
     "output_type": "execute_result"
    },
    {
     "data": {
      "text/plain": "Text(0.5, 1.0, 'Volatility')"
     },
     "execution_count": 28,
     "metadata": {},
     "output_type": "execute_result"
    },
    {
     "data": {
      "text/plain": "Text(0.5, 0, 'Time')"
     },
     "execution_count": 28,
     "metadata": {},
     "output_type": "execute_result"
    },
    {
     "data": {
      "text/plain": "Text(0, 0.5, 'Value')"
     },
     "execution_count": 28,
     "metadata": {},
     "output_type": "execute_result"
    },
    {
     "data": {
      "text/plain": "<matplotlib.legend.Legend at 0x291ec9d8990>"
     },
     "execution_count": 28,
     "metadata": {},
     "output_type": "execute_result"
    },
    {
     "data": {
      "text/plain": "<Figure size 1000x600 with 1 Axes>",
      "image/png": "[encoded data removed]"
     },
     "metadata": {},
     "output_type": "display_data"
    }
   ],
   "source": [
    "plt.figure(figsize=(10, 6))\n",
    "plt.plot(BZ_vol.loc['2014-08-01':'2020-12-31'], label='BZ')\n",
    "# plt.plot(BZ_vol2.loc['2014-08-01':'2020-12-31'], label='BZ2')\n",
    "# plt.plot(BZ_vol3.loc['2014-08-01':'2020-12-31'], label='BZ3')\n",
    "# plt.plot(SP_vol.loc['2014-08-01':'2020-12-31'], label='SP')\n",
    "# plt.plot(SP_vol2.loc['2014-08-01':'2020-12-31'], label='SP2')\n",
    "plt.title('Volatility')\n",
    "plt.xlabel('Time')\n",
    "plt.ylabel('Value')\n",
    "plt.legend()\n",
    "plt.tight_layout()\n",
    "plt.show()"
   ],
   "metadata": {
    "collapsed": false,
    "ExecuteTime": {
     "end_time": "2024-04-26T05:57:31.198486100Z",
     "start_time": "2024-04-26T05:57:30.971670200Z"
    }
   },
   "id": "76ff077667fd12bb",
   "execution_count": 28
  },
  {
   "cell_type": "code",
   "outputs": [],
   "source": [
    "CL_vol.index = pd.to_datetime(CL_vol.index)\n",
    "HO_vol.index = pd.to_datetime(HO_vol.index)\n",
    "RB_vol.index = pd.to_datetime(RB_vol.index)\n",
    "BZ_vol.index = pd.to_datetime(BZ_vol.index)\n",
    "SP_vol.index = pd.to_datetime(SP_vol.index)\n",
    "vol_list = [CL_vol, HO_vol, RB_vol, BZ_vol, SP_vol]"
   ],
   "metadata": {
    "collapsed": false,
    "ExecuteTime": {
     "end_time": "2024-04-26T05:39:45.816194300Z",
     "start_time": "2024-04-26T05:39:45.814175Z"
    }
   },
   "id": "4625ceda26754091",
   "execution_count": 12
  },
  {
   "cell_type": "markdown",
   "source": [
    "# Index"
   ],
   "metadata": {
    "collapsed": false
   },
   "id": "181e9400d10774fb"
  },
  {
   "cell_type": "code",
   "outputs": [
    {
     "name": "stderr",
     "output_type": "stream",
     "text": [
      "[*********************100%%**********************]  1 of 1 completed\n"
     ]
    }
   ],
   "source": [
    "DJ = yf.download('^DJI', start='1986-01-01')"
   ],
   "metadata": {
    "collapsed": false,
    "ExecuteTime": {
     "end_time": "2024-04-17T04:46:49.204337400Z",
     "start_time": "2024-04-17T04:46:48.631292400Z"
    }
   },
   "id": "4c26e2d26184f188",
   "execution_count": 6
  },
  {
   "cell_type": "markdown",
   "source": [
    "# Treasure Yield"
   ],
   "metadata": {
    "collapsed": false
   },
   "id": "68764eb028bf7806"
  },
  {
   "cell_type": "code",
   "outputs": [],
   "source": [
    "import requests\n",
    "\n",
    "api_key = 'AJPT9SW0WL4NNYHN'\n",
    "\n",
    "url = 'https://www.alphavantage.co/query?function=TREASURY_YIELD&interval=monthly&maturity=10year&apikey=demo'\n",
    "\n",
    "params = {\n",
    "    'function': 'TREASURY_YIELD',\n",
    "    'interval': 'daily',\n",
    "    'maturity': '30year',\n",
    "    'apikey': api_key\n",
    "}\n",
    "\n",
    "r = requests.get(url, params=params)\n",
    "yield_30 = r.json()"
   ],
   "metadata": {
    "collapsed": false,
    "ExecuteTime": {
     "end_time": "2024-04-15T12:24:30.276949800Z",
     "start_time": "2024-04-15T12:24:28.119529100Z"
    }
   },
   "id": "5c409a2a1a0f7e82",
   "execution_count": 224
  },
  {
   "cell_type": "code",
   "outputs": [],
   "source": [
    "import requests\n",
    "\n",
    "api_key = 'AJPT9SW0WL4NNYHN'\n",
    "\n",
    "url = 'https://www.alphavantage.co/query?function=TREASURY_YIELD&interval=monthly&maturity=10year&apikey=demo'\n",
    "\n",
    "params = {\n",
    "    'function': 'TREASURY_YIELD',\n",
    "    'interval': 'daily',\n",
    "    'maturity': '7year',\n",
    "    'apikey': api_key\n",
    "}\n",
    "\n",
    "r = requests.get(url, params=params)\n",
    "yield_7 = r.json()"
   ],
   "metadata": {
    "collapsed": false,
    "ExecuteTime": {
     "end_time": "2024-04-15T12:24:32.366125900Z",
     "start_time": "2024-04-15T12:24:30.279453300Z"
    }
   },
   "id": "4b11f4069617dc44",
   "execution_count": 225
  },
  {
   "cell_type": "code",
   "outputs": [],
   "source": [
    "import requests\n",
    "\n",
    "api_key = 'AJPT9SW0WL4NNYHN'\n",
    "\n",
    "url = 'https://www.alphavantage.co/query?function=TREASURY_YIELD&interval=monthly&maturity=10year&apikey=demo'\n",
    "\n",
    "params = {\n",
    "    'function': 'TREASURY_YIELD',\n",
    "    'interval': 'daily',\n",
    "    'maturity': '3month',\n",
    "    'apikey': api_key\n",
    "}\n",
    "\n",
    "r = requests.get(url, params=params)\n",
    "yield_3m = r.json()"
   ],
   "metadata": {
    "collapsed": false,
    "ExecuteTime": {
     "end_time": "2024-04-15T12:24:34.491209700Z",
     "start_time": "2024-04-15T12:24:32.368126100Z"
    }
   },
   "id": "7dc992372f9fe7d",
   "execution_count": 226
  },
  {
   "cell_type": "code",
   "outputs": [],
   "source": [
    "yield_30_df = pd.DataFrame(columns=['date', '30_yield'])\n",
    "for i in range(len(yield_30['data'])):\n",
    "    yield_30_df.loc[i, 'date'] = yield_30['data'][i]['date']\n",
    "    yield_30_df.loc[i, '30_yield'] = yield_30['data'][i]['value']\n",
    "yield_30_df.set_index(yield_30_df['date'], inplace=True)\n",
    "yield_30_df = yield_30_df.drop(columns=['date'])"
   ],
   "metadata": {
    "collapsed": false,
    "ExecuteTime": {
     "end_time": "2024-04-15T12:24:38.719123900Z",
     "start_time": "2024-04-15T12:24:34.493211300Z"
    }
   },
   "id": "397c3095e6682d17",
   "execution_count": 227
  },
  {
   "cell_type": "code",
   "outputs": [],
   "source": [
    "yield_7_df = pd.DataFrame(columns=['date', '7_yield'])\n",
    "for i in range(len(yield_7['data'])):\n",
    "    yield_7_df.loc[i, 'date'] = yield_7['data'][i]['date']\n",
    "    yield_7_df.loc[i, '7_yield'] = yield_7['data'][i]['value']\n",
    "yield_7_df.set_index(yield_7_df['date'], inplace=True)\n",
    "yield_7_df = yield_7_df.drop(columns=['date'])"
   ],
   "metadata": {
    "collapsed": false,
    "ExecuteTime": {
     "end_time": "2024-04-15T12:24:44.241362600Z",
     "start_time": "2024-04-15T12:24:38.723126200Z"
    }
   },
   "id": "52a148c3604ae064",
   "execution_count": 228
  },
  {
   "cell_type": "code",
   "outputs": [],
   "source": [
    "yield_3m_df = pd.DataFrame(columns=['date', '3m_yield'])\n",
    "for i in range(len(yield_3m['data'])):\n",
    "    yield_3m_df.loc[i, 'date'] = yield_3m['data'][i]['date']\n",
    "    yield_3m_df.loc[i, '3m_yield'] = yield_3m['data'][i]['value']\n",
    "yield_3m_df.set_index(yield_3m_df['date'], inplace=True)\n",
    "yield_3m_df = yield_3m_df.drop(columns=['date'])"
   ],
   "metadata": {
    "collapsed": false,
    "ExecuteTime": {
     "end_time": "2024-04-15T12:24:48.211411500Z",
     "start_time": "2024-04-15T12:24:44.243363500Z"
    }
   },
   "id": "c5177526c2868a4",
   "execution_count": 229
  },
  {
   "cell_type": "code",
   "outputs": [],
   "source": [
    "yield_list = [yield_30_df, yield_7_df, yield_3m_df]"
   ],
   "metadata": {
    "collapsed": false,
    "ExecuteTime": {
     "end_time": "2024-04-15T12:24:48.221446600Z",
     "start_time": "2024-04-15T12:24:48.212474200Z"
    }
   },
   "id": "ecb2e0512133f3f2",
   "execution_count": 230
  },
  {
   "cell_type": "code",
   "outputs": [],
   "source": [
    "for per in yield_list:\n",
    "    per.index = pd.to_datetime(per.index)"
   ],
   "metadata": {
    "collapsed": false,
    "ExecuteTime": {
     "end_time": "2024-04-15T12:24:48.240333300Z",
     "start_time": "2024-04-15T12:24:48.215984300Z"
    }
   },
   "id": "8e3b77cbe8f56160",
   "execution_count": 231
  },
  {
   "cell_type": "code",
   "outputs": [],
   "source": [
    "for i, vol in enumerate(vol_list):\n",
    "    for per in yield_list:\n",
    "        vol = pd.concat([vol, per], axis=1)\n",
    "        vol = vol.dropna(subset=['return'])\n",
    "        vol.replace('.', np.nan, inplace=True)\n",
    "        vol = vol.ffill()\n",
    "        vol_list[i] = vol"
   ],
   "metadata": {
    "collapsed": false,
    "ExecuteTime": {
     "end_time": "2024-04-15T12:24:48.342421100Z",
     "start_time": "2024-04-15T12:24:48.242333700Z"
    }
   },
   "id": "d812401c739d5e38",
   "execution_count": 232
  },
  {
   "cell_type": "code",
   "outputs": [],
   "source": [
    "from sklearn.preprocessing import MinMaxScaler\n",
    "\n",
    "for i, vol in enumerate(vol_list):\n",
    "    scaler = MinMaxScaler()\n",
    "    data_scaled = scaler.fit_transform(vol.iloc[:, 1:])\n",
    "    data_scaled = pd.DataFrame(data_scaled, index=vol.index)\n",
    "    vol = pd.concat([vol.iloc[:, 0], data_scaled], axis=1)\n",
    "    vol_list[i] = vol"
   ],
   "metadata": {
    "collapsed": false,
    "ExecuteTime": {
     "end_time": "2024-04-15T12:26:39.892516600Z",
     "start_time": "2024-04-15T12:26:39.835139900Z"
    }
   },
   "id": "ab7ba924fccf7a12",
   "execution_count": 243
  },
  {
   "cell_type": "markdown",
   "source": [
    "# Text Data Preprocessing"
   ],
   "metadata": {
    "collapsed": false
   },
   "id": "eeeb07b5f8060532"
  },
  {
   "cell_type": "code",
   "outputs": [],
   "source": [
    "text_data = pd.read_parquet('Database/newsdata.parquet')"
   ],
   "metadata": {
    "collapsed": false,
    "ExecuteTime": {
     "end_time": "2024-04-25T14:17:23.219898500Z",
     "start_time": "2024-04-25T14:17:23.149963800Z"
    }
   },
   "id": "52b7e461bf0abbd5",
   "execution_count": 486
  },
  {
   "cell_type": "code",
   "outputs": [],
   "source": [
    "NLP_vec = text_data[['date', 'embeddings']].reset_index()\n",
    "NLP_vec.index = NLP_vec['date']\n",
    "NLP_vec = NLP_vec['embeddings']"
   ],
   "metadata": {
    "collapsed": false,
    "ExecuteTime": {
     "end_time": "2024-04-25T14:17:23.873010300Z",
     "start_time": "2024-04-25T14:17:23.863790Z"
    }
   },
   "id": "fe9bae728412539a",
   "execution_count": 487
  },
  {
   "cell_type": "code",
   "outputs": [],
   "source": [
    "new_columns = {f'{i}': pd.Series(dtype='object') for i in range(384)}\n",
    "new_df = pd.DataFrame(new_columns)\n",
    "\n",
    "for i in range(384):\n",
    "    new_df[f'{i}'] = NLP_vec.apply(lambda x: f'{x[i]}')"
   ],
   "metadata": {
    "collapsed": false,
    "ExecuteTime": {
     "end_time": "2024-04-25T14:17:27.199908700Z",
     "start_time": "2024-04-25T14:17:24.689231500Z"
    }
   },
   "id": "91625e87200e37b3",
   "execution_count": 488
  },
  {
   "cell_type": "code",
   "outputs": [],
   "source": [
    "# for i, vol in enumerate(vol_list):\n",
    "#     vol_list[i] = pd.concat([vol, new_df], axis=1)\n",
    "#     vol_list[i] = vol_list[i].dropna(subset=['return'])\n",
    "#     nan_index = vol_list[i][vol_list[i]['0'].isna()].index\n",
    "#     vol_list[i].loc[nan_index] = 0\n",
    "#     vol_list[i] = vol_list[i].drop(columns=['embeddings'])"
   ],
   "metadata": {
    "collapsed": false,
    "ExecuteTime": {
     "end_time": "2024-04-25T13:29:25.217199800Z",
     "start_time": "2024-04-25T13:29:25.197635100Z"
    }
   },
   "id": "bd71360d81a8c284",
   "execution_count": 459
  },
  {
   "cell_type": "code",
   "outputs": [
    {
     "name": "stdout",
     "output_type": "stream",
     "text": [
      "1130\n",
      "347\n",
      "42\n",
      "2\n",
      "0\n"
     ]
    }
   ],
   "source": [
    "test = pd.concat([vol_list[4], new_df], axis=1)\n",
    "test = test.loc[:'2001-12-30']\n",
    "mask = (test['return'].isna() == False) & (test['0'].isna() == True)\n",
    "# test.loc[mask, '0':] = 0\n",
    "print(test[mask].shape[0])\n",
    "i=0\n",
    "while test[mask].shape[0] > 0:\n",
    "    i+=1\n",
    "    previous_values = test.shift(-i)\n",
    "    masked_previous_values = previous_values[mask]\n",
    "    test.loc[mask, '0':] = masked_previous_values.loc[:, '0':]\n",
    "    mask = (test['return'].isna() == False) & (test['0'].isna() == True)\n",
    "    print(test[mask].shape[0])\n",
    "test = test.dropna(subset=['return'])\n",
    "\n",
    "# test.loc[test.index[test.isna().any(axis=1)], '0':] = new_df.loc['2000-01-03'].values"
   ],
   "metadata": {
    "collapsed": false,
    "ExecuteTime": {
     "end_time": "2024-04-25T14:17:30.778583500Z",
     "start_time": "2024-04-25T14:17:28.354491Z"
    }
   },
   "id": "536151ca0a72e38d",
   "execution_count": 489
  },
  {
   "cell_type": "code",
   "outputs": [
    {
     "data": {
      "text/plain": "DatetimeIndex([], dtype='datetime64[ns]', name='date', freq=None)"
     },
     "execution_count": 490,
     "metadata": {},
     "output_type": "execute_result"
    }
   ],
   "source": [
    "test.index[test.isna().any(axis=1)]"
   ],
   "metadata": {
    "collapsed": false,
    "ExecuteTime": {
     "end_time": "2024-04-25T14:17:33.017765300Z",
     "start_time": "2024-04-25T14:17:32.943767600Z"
    }
   },
   "id": "81050da39d06fef1",
   "execution_count": 490
  },
  {
   "cell_type": "code",
   "outputs": [],
   "source": [
    "vol_list[4] = test"
   ],
   "metadata": {
    "collapsed": false,
    "ExecuteTime": {
     "end_time": "2024-04-25T14:17:34.984053Z",
     "start_time": "2024-04-25T14:17:34.975539700Z"
    }
   },
   "id": "b22481934600ea9d",
   "execution_count": 491
  },
  {
   "cell_type": "markdown",
   "source": [
    "# Save Files"
   ],
   "metadata": {
    "collapsed": false
   },
   "id": "2a53b18cb88f351e"
  },
  {
   "cell_type": "code",
   "outputs": [],
   "source": [
    "name_list = ['CL_vol', 'HO_vol', 'RB_vol', 'BZ_vol', 'SP_vol']\n",
    "for i, vol in enumerate(name_list):\n",
    "    if i != 4:\n",
    "        vol_list[i].to_csv(f'Database/future_std/{vol}.csv')\n",
    "    else:\n",
    "        vol_list[i].to_csv(f'Database/spot_std/{vol}.csv')"
   ],
   "metadata": {
    "collapsed": false,
    "ExecuteTime": {
     "end_time": "2024-04-26T05:57:35.204501Z",
     "start_time": "2024-04-26T05:57:35.165431500Z"
    }
   },
   "id": "5ca7a01a453cdc6",
   "execution_count": 29
  }
 ],
 "metadata": {
  "kernelspec": {
   "display_name": "Python 3",
   "language": "python",
   "name": "python3"
  },
  "language_info": {
   "codemirror_mode": {
    "name": "ipython",
    "version": 2
   },
   "file_extension": ".py",
   "mimetype": "text/x-python",
   "name": "python",
   "nbconvert_exporter": "python",
   "pygments_lexer": "ipython2",
   "version": "2.7.6"
  }
 },
 "nbformat": 4,
 "nbformat_minor": 5
}
