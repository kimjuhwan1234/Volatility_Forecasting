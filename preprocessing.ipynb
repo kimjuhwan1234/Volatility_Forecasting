{
 "cells": [
  {
   "cell_type": "code",
   "outputs": [],
   "source": [
    "from matplotlib import pyplot as plt\n",
    "from IPython.core.interactiveshell import InteractiveShell\n",
    "\n",
    "import warnings\n",
    "import numpy as np\n",
    "import pandas as pd\n",
    "import yfinance as yf"
   ],
   "metadata": {
    "collapsed": false,
    "ExecuteTime": {
     "end_time": "2024-04-18T12:33:28.679043800Z",
     "start_time": "2024-04-18T12:33:28.672532900Z"
    }
   },
   "id": "496270b0ab9e193c",
   "execution_count": 144
  },
  {
   "cell_type": "code",
   "outputs": [],
   "source": [
    "plt.rc('font', family='GULIM')\n",
    "warnings.filterwarnings(action='ignore')\n",
    "InteractiveShell.ast_node_interactivity = \"all\""
   ],
   "metadata": {
    "collapsed": false,
    "ExecuteTime": {
     "end_time": "2024-04-18T12:33:28.855017300Z",
     "start_time": "2024-04-18T12:33:28.851509Z"
    }
   },
   "id": "ed456206b461c823",
   "execution_count": 145
  },
  {
   "cell_type": "markdown",
   "source": [
    "# Oil Price"
   ],
   "metadata": {
    "collapsed": false
   },
   "id": "bfb194dbe9c2fb56"
  },
  {
   "cell_type": "code",
   "outputs": [
    {
     "name": "stderr",
     "output_type": "stream",
     "text": [
      "[*********************100%%**********************]  1 of 1 completed\n",
      "[*********************100%%**********************]  1 of 1 completed\n",
      "[*********************100%%**********************]  1 of 1 completed\n",
      "[*********************100%%**********************]  1 of 1 completed\n"
     ]
    }
   ],
   "source": [
    "CL = yf.download('CL=F', start='2000-08-23')\n",
    "HO = yf.download('HO=F', start='2000-09-01')\n",
    "RB = yf.download('RB=F', start='2000-11-01')\n",
    "BZ = yf.download('BZ=F', start='2007-07-30')\n",
    "SP = pd.read_csv('Database/oil_price/CL_spot.csv', index_col=0)\n",
    "BZ_2 = pd.read_csv('Database/oil_price/BZ_future.csv', index_col=0)\n",
    "SP.sort_index(inplace=True)"
   ],
   "metadata": {
    "collapsed": false,
    "ExecuteTime": {
     "end_time": "2024-04-18T12:33:31.493330600Z",
     "start_time": "2024-04-18T12:33:29.208551700Z"
    }
   },
   "id": "960c4a1843c92238",
   "execution_count": 146
  },
  {
   "cell_type": "code",
   "outputs": [],
   "source": [
    "SP['price'] = pd.to_numeric(SP['price'], errors='coerce')\n",
    "SP = SP.dropna()"
   ],
   "metadata": {
    "collapsed": false,
    "ExecuteTime": {
     "end_time": "2024-04-18T12:33:31.503426900Z",
     "start_time": "2024-04-18T12:33:31.492315200Z"
    }
   },
   "id": "e540214fbff906e6",
   "execution_count": 147
  },
  {
   "cell_type": "code",
   "outputs": [],
   "source": [
    "BZ_2.index = pd.to_datetime(BZ_2.index)\n",
    "BZ_2_sorted = BZ_2.sort_index().loc[:'2007-07-27', 'Price']\n",
    "BL = pd.concat([BZ['Adj Close'], BZ_2_sorted], axis=0).sort_index()\n",
    "BL = pd.DataFrame(data=BL.values, columns=['Adj Close'], index=BL.index)"
   ],
   "metadata": {
    "collapsed": false,
    "ExecuteTime": {
     "end_time": "2024-04-18T12:33:31.527375300Z",
     "start_time": "2024-04-18T12:33:31.503426900Z"
    }
   },
   "id": "f66b4b0ac8047e5",
   "execution_count": 148
  },
  {
   "cell_type": "code",
   "outputs": [],
   "source": [
    "CL['return'] = CL['Adj Close'].pct_change().apply(lambda x: np.log(1 + x))\n",
    "HO['return'] = HO['Adj Close'].pct_change().apply(lambda x: np.log(1 + x))\n",
    "RB['return'] = RB['Adj Close'].pct_change().apply(lambda x: np.log(1 + x))\n",
    "BL['return'] = BL['Adj Close'].pct_change().apply(lambda x: np.log(1 + x))\n",
    "SP['return'] = SP['price'].pct_change().apply(lambda x: np.log(1 + x))"
   ],
   "metadata": {
    "collapsed": false,
    "ExecuteTime": {
     "end_time": "2024-04-18T12:33:31.584440400Z",
     "start_time": "2024-04-18T12:33:31.527375300Z"
    }
   },
   "id": "b03bfdb1e2739d00",
   "execution_count": 149
  },
  {
   "cell_type": "code",
   "outputs": [],
   "source": [
    "CL = CL.dropna()\n",
    "HO = HO.dropna()\n",
    "RB = RB.dropna()\n",
    "BL = BL.dropna()\n",
    "SP = SP.dropna()"
   ],
   "metadata": {
    "collapsed": false,
    "ExecuteTime": {
     "end_time": "2024-04-18T12:33:31.593945600Z",
     "start_time": "2024-04-18T12:33:31.586441800Z"
    }
   },
   "id": "b72e326a8df8e415",
   "execution_count": 150
  },
  {
   "cell_type": "code",
   "outputs": [],
   "source": [
    "CL_vol = CL['return'].rolling(window=5).std()\n",
    "HO_vol = HO['return'].rolling(window=5).std()\n",
    "RB_vol = RB['return'].rolling(window=5).std()\n",
    "BZ_vol = BL['return'].rolling(window=5).std()\n",
    "SP_vol = SP['return'].rolling(window=5).std()"
   ],
   "metadata": {
    "collapsed": false,
    "ExecuteTime": {
     "end_time": "2024-04-18T12:33:31.599929800Z",
     "start_time": "2024-04-18T12:33:31.594944500Z"
    }
   },
   "id": "352fa9bc850e5029",
   "execution_count": 151
  },
  {
   "cell_type": "code",
   "outputs": [],
   "source": [
    "CL_vol = CL_vol.dropna()\n",
    "HO_vol = HO_vol.dropna()\n",
    "RB_vol = RB_vol.dropna()\n",
    "BZ_vol = BZ_vol.dropna()\n",
    "SP_vol = SP_vol.dropna()"
   ],
   "metadata": {
    "collapsed": false,
    "ExecuteTime": {
     "end_time": "2024-04-18T12:33:31.623370Z",
     "start_time": "2024-04-18T12:33:31.600929700Z"
    }
   },
   "id": "ce5ca73e45d425b4",
   "execution_count": 152
  },
  {
   "cell_type": "code",
   "outputs": [],
   "source": [
    "CL_vol.index = pd.to_datetime(CL_vol.index)\n",
    "HO_vol.index = pd.to_datetime(HO_vol.index)\n",
    "RB_vol.index = pd.to_datetime(RB_vol.index)\n",
    "BZ_vol.index = pd.to_datetime(BZ_vol.index)\n",
    "SP_vol.index = pd.to_datetime(SP_vol.index)\n",
    "vol_list = [CL_vol, HO_vol, RB_vol, BZ_vol, SP_vol]"
   ],
   "metadata": {
    "collapsed": false,
    "ExecuteTime": {
     "end_time": "2024-04-18T12:33:31.656675700Z",
     "start_time": "2024-04-18T12:33:31.623370Z"
    }
   },
   "id": "4625ceda26754091",
   "execution_count": 153
  },
  {
   "cell_type": "code",
   "outputs": [],
   "source": [
    "# plt.figure(figsize=(10, 6))\n",
    "# # plt.plot(CL_vol[:500], label='CL')\n",
    "# plt.plot(HO_vol[:600], label='HO')\n",
    "# # plt.plot(NG_vol['return'][:500], label='NG')\n",
    "# # plt.plot(RB_vol['return'][:500], label='RB')\n",
    "# plt.plot(BZ_vol[:600], label='BZ')\n",
    "# # plt.plot(ZL_vol['return'][:500], label='ZL')\n",
    "# plt.title('Volatility')\n",
    "# plt.xlabel('Time')\n",
    "# plt.ylabel('Value')\n",
    "# plt.legend()\n",
    "# plt.xticks(CL_vol.index[0:600:50])\n",
    "# plt.tight_layout()\n",
    "# plt.show()"
   ],
   "metadata": {
    "collapsed": false,
    "ExecuteTime": {
     "end_time": "2024-04-18T12:19:50.305439100Z",
     "start_time": "2024-04-18T12:19:50.298333500Z"
    }
   },
   "id": "2ca59b0616fc7a53",
   "execution_count": 119
  },
  {
   "cell_type": "markdown",
   "source": [
    "# Index"
   ],
   "metadata": {
    "collapsed": false
   },
   "id": "181e9400d10774fb"
  },
  {
   "cell_type": "code",
   "outputs": [
    {
     "name": "stderr",
     "output_type": "stream",
     "text": [
      "[*********************100%%**********************]  1 of 1 completed\n"
     ]
    }
   ],
   "source": [
    "DJ = yf.download('^DJI', start='1986-01-01')"
   ],
   "metadata": {
    "collapsed": false,
    "ExecuteTime": {
     "end_time": "2024-04-17T04:46:49.204337400Z",
     "start_time": "2024-04-17T04:46:48.631292400Z"
    }
   },
   "id": "4c26e2d26184f188",
   "execution_count": 6
  },
  {
   "cell_type": "markdown",
   "source": [
    "# Treasure Yield"
   ],
   "metadata": {
    "collapsed": false
   },
   "id": "68764eb028bf7806"
  },
  {
   "cell_type": "code",
   "outputs": [],
   "source": [
    "import requests\n",
    "\n",
    "api_key = 'AJPT9SW0WL4NNYHN'\n",
    "\n",
    "url = 'https://www.alphavantage.co/query?function=TREASURY_YIELD&interval=monthly&maturity=10year&apikey=demo'\n",
    "\n",
    "params = {\n",
    "    'function': 'TREASURY_YIELD',\n",
    "    'interval': 'daily',\n",
    "    'maturity': '30year',\n",
    "    'apikey': api_key\n",
    "}\n",
    "\n",
    "r = requests.get(url, params=params)\n",
    "yield_30 = r.json()"
   ],
   "metadata": {
    "collapsed": false,
    "ExecuteTime": {
     "end_time": "2024-04-15T12:24:30.276949800Z",
     "start_time": "2024-04-15T12:24:28.119529100Z"
    }
   },
   "id": "5c409a2a1a0f7e82",
   "execution_count": 224
  },
  {
   "cell_type": "code",
   "outputs": [],
   "source": [
    "import requests\n",
    "\n",
    "api_key = 'AJPT9SW0WL4NNYHN'\n",
    "\n",
    "url = 'https://www.alphavantage.co/query?function=TREASURY_YIELD&interval=monthly&maturity=10year&apikey=demo'\n",
    "\n",
    "params = {\n",
    "    'function': 'TREASURY_YIELD',\n",
    "    'interval': 'daily',\n",
    "    'maturity': '7year',\n",
    "    'apikey': api_key\n",
    "}\n",
    "\n",
    "r = requests.get(url, params=params)\n",
    "yield_7 = r.json()"
   ],
   "metadata": {
    "collapsed": false,
    "ExecuteTime": {
     "end_time": "2024-04-15T12:24:32.366125900Z",
     "start_time": "2024-04-15T12:24:30.279453300Z"
    }
   },
   "id": "4b11f4069617dc44",
   "execution_count": 225
  },
  {
   "cell_type": "code",
   "outputs": [],
   "source": [
    "import requests\n",
    "\n",
    "api_key = 'AJPT9SW0WL4NNYHN'\n",
    "\n",
    "url = 'https://www.alphavantage.co/query?function=TREASURY_YIELD&interval=monthly&maturity=10year&apikey=demo'\n",
    "\n",
    "params = {\n",
    "    'function': 'TREASURY_YIELD',\n",
    "    'interval': 'daily',\n",
    "    'maturity': '3month',\n",
    "    'apikey': api_key\n",
    "}\n",
    "\n",
    "r = requests.get(url, params=params)\n",
    "yield_3m = r.json()"
   ],
   "metadata": {
    "collapsed": false,
    "ExecuteTime": {
     "end_time": "2024-04-15T12:24:34.491209700Z",
     "start_time": "2024-04-15T12:24:32.368126100Z"
    }
   },
   "id": "7dc992372f9fe7d",
   "execution_count": 226
  },
  {
   "cell_type": "code",
   "outputs": [],
   "source": [
    "yield_30_df = pd.DataFrame(columns=['date', '30_yield'])\n",
    "for i in range(len(yield_30['data'])):\n",
    "    yield_30_df.loc[i, 'date'] = yield_30['data'][i]['date']\n",
    "    yield_30_df.loc[i, '30_yield'] = yield_30['data'][i]['value']\n",
    "yield_30_df.set_index(yield_30_df['date'], inplace=True)\n",
    "yield_30_df = yield_30_df.drop(columns=['date'])"
   ],
   "metadata": {
    "collapsed": false,
    "ExecuteTime": {
     "end_time": "2024-04-15T12:24:38.719123900Z",
     "start_time": "2024-04-15T12:24:34.493211300Z"
    }
   },
   "id": "397c3095e6682d17",
   "execution_count": 227
  },
  {
   "cell_type": "code",
   "outputs": [],
   "source": [
    "yield_7_df = pd.DataFrame(columns=['date', '7_yield'])\n",
    "for i in range(len(yield_7['data'])):\n",
    "    yield_7_df.loc[i, 'date'] = yield_7['data'][i]['date']\n",
    "    yield_7_df.loc[i, '7_yield'] = yield_7['data'][i]['value']\n",
    "yield_7_df.set_index(yield_7_df['date'], inplace=True)\n",
    "yield_7_df = yield_7_df.drop(columns=['date'])"
   ],
   "metadata": {
    "collapsed": false,
    "ExecuteTime": {
     "end_time": "2024-04-15T12:24:44.241362600Z",
     "start_time": "2024-04-15T12:24:38.723126200Z"
    }
   },
   "id": "52a148c3604ae064",
   "execution_count": 228
  },
  {
   "cell_type": "code",
   "outputs": [],
   "source": [
    "yield_3m_df = pd.DataFrame(columns=['date', '3m_yield'])\n",
    "for i in range(len(yield_3m['data'])):\n",
    "    yield_3m_df.loc[i, 'date'] = yield_3m['data'][i]['date']\n",
    "    yield_3m_df.loc[i, '3m_yield'] = yield_3m['data'][i]['value']\n",
    "yield_3m_df.set_index(yield_3m_df['date'], inplace=True)\n",
    "yield_3m_df = yield_3m_df.drop(columns=['date'])"
   ],
   "metadata": {
    "collapsed": false,
    "ExecuteTime": {
     "end_time": "2024-04-15T12:24:48.211411500Z",
     "start_time": "2024-04-15T12:24:44.243363500Z"
    }
   },
   "id": "c5177526c2868a4",
   "execution_count": 229
  },
  {
   "cell_type": "code",
   "outputs": [],
   "source": [
    "yield_list = [yield_30_df, yield_7_df, yield_3m_df]"
   ],
   "metadata": {
    "collapsed": false,
    "ExecuteTime": {
     "end_time": "2024-04-15T12:24:48.221446600Z",
     "start_time": "2024-04-15T12:24:48.212474200Z"
    }
   },
   "id": "ecb2e0512133f3f2",
   "execution_count": 230
  },
  {
   "cell_type": "code",
   "outputs": [],
   "source": [
    "for per in yield_list:\n",
    "    per.index = pd.to_datetime(per.index)"
   ],
   "metadata": {
    "collapsed": false,
    "ExecuteTime": {
     "end_time": "2024-04-15T12:24:48.240333300Z",
     "start_time": "2024-04-15T12:24:48.215984300Z"
    }
   },
   "id": "8e3b77cbe8f56160",
   "execution_count": 231
  },
  {
   "cell_type": "code",
   "outputs": [],
   "source": [
    "for i, vol in enumerate(vol_list):\n",
    "    for per in yield_list:\n",
    "        vol = pd.concat([vol, per], axis=1)\n",
    "        vol = vol.dropna(subset=['return'])\n",
    "        vol.replace('.', np.nan, inplace=True)\n",
    "        vol = vol.ffill()\n",
    "        vol_list[i] = vol"
   ],
   "metadata": {
    "collapsed": false,
    "ExecuteTime": {
     "end_time": "2024-04-15T12:24:48.342421100Z",
     "start_time": "2024-04-15T12:24:48.242333700Z"
    }
   },
   "id": "d812401c739d5e38",
   "execution_count": 232
  },
  {
   "cell_type": "code",
   "outputs": [],
   "source": [
    "from sklearn.preprocessing import MinMaxScaler\n",
    "\n",
    "for i, vol in enumerate(vol_list):\n",
    "    scaler = MinMaxScaler()\n",
    "    data_scaled = scaler.fit_transform(vol.iloc[:, 1:])\n",
    "    data_scaled=pd.DataFrame(data_scaled, index=vol.index)\n",
    "    vol=pd.concat([vol.iloc[:,0], data_scaled],axis=1)\n",
    "    vol_list[i] = vol"
   ],
   "metadata": {
    "collapsed": false,
    "ExecuteTime": {
     "end_time": "2024-04-15T12:26:39.892516600Z",
     "start_time": "2024-04-15T12:26:39.835139900Z"
    }
   },
   "id": "ab7ba924fccf7a12",
   "execution_count": 243
  },
  {
   "cell_type": "markdown",
   "source": [
    "# Text Data Preprocessing"
   ],
   "metadata": {
    "collapsed": false
   },
   "id": "eeeb07b5f8060532"
  },
  {
   "cell_type": "code",
   "outputs": [],
   "source": [
    "text_data = pd.read_parquet('Database/newsdata.parquet')"
   ],
   "metadata": {
    "collapsed": false,
    "ExecuteTime": {
     "end_time": "2024-04-18T12:33:36.549794200Z",
     "start_time": "2024-04-18T12:33:36.501525800Z"
    }
   },
   "id": "52b7e461bf0abbd5",
   "execution_count": 154
  },
  {
   "cell_type": "code",
   "outputs": [],
   "source": [
    "NLP_vec = text_data[['date', 'embeddings']].reset_index()\n",
    "NLP_vec.index = NLP_vec['date']\n",
    "NLP_vec = NLP_vec[~NLP_vec.index.duplicated(keep='first')]\n",
    "NLP_vec = NLP_vec['embeddings']"
   ],
   "metadata": {
    "collapsed": false,
    "ExecuteTime": {
     "end_time": "2024-04-18T12:33:41.190359500Z",
     "start_time": "2024-04-18T12:33:41.183506100Z"
    }
   },
   "id": "fe9bae728412539a",
   "execution_count": 156
  },
  {
   "cell_type": "code",
   "outputs": [],
   "source": [
    "new_columns = {f'{i}': pd.Series(dtype='object') for i in range(384)}\n",
    "new_df = pd.DataFrame(new_columns)\n",
    "\n",
    "for i in range(384):\n",
    "    new_df[f'{i}'] = NLP_vec.apply(lambda x: f'{x[i]}')\n",
    "\n",
    "# df = pd.concat([NLP_vec, new_df], axis=1)"
   ],
   "metadata": {
    "collapsed": false,
    "ExecuteTime": {
     "end_time": "2024-04-18T12:33:45.211671500Z",
     "start_time": "2024-04-18T12:33:42.853751800Z"
    }
   },
   "id": "91625e87200e37b3",
   "execution_count": 157
  },
  {
   "cell_type": "code",
   "outputs": [
    {
     "ename": "KeyboardInterrupt",
     "evalue": "",
     "output_type": "error",
     "traceback": [
      "\u001B[1;31m---------------------------------------------------------------------------\u001B[0m",
      "\u001B[1;31mKeyboardInterrupt\u001B[0m                         Traceback (most recent call last)",
      "Cell \u001B[1;32mIn[55], line 4\u001B[0m\n\u001B[0;32m      2\u001B[0m vol_list[i] \u001B[38;5;241m=\u001B[39m pd\u001B[38;5;241m.\u001B[39mconcat([vol, new_df], axis\u001B[38;5;241m=\u001B[39m\u001B[38;5;241m1\u001B[39m)\n\u001B[0;32m      3\u001B[0m vol_list[i] \u001B[38;5;241m=\u001B[39m vol_list[i]\u001B[38;5;241m.\u001B[39mdropna(subset\u001B[38;5;241m=\u001B[39m[\u001B[38;5;124m'\u001B[39m\u001B[38;5;124mreturn\u001B[39m\u001B[38;5;124m'\u001B[39m])\n\u001B[1;32m----> 4\u001B[0m nan_index \u001B[38;5;241m=\u001B[39m \u001B[43mvol_list\u001B[49m[i][vol_list[i][\u001B[38;5;124m'\u001B[39m\u001B[38;5;124m0\u001B[39m\u001B[38;5;124m'\u001B[39m]\u001B[38;5;241m.\u001B[39misna()]\u001B[38;5;241m.\u001B[39mindex\n\u001B[0;32m      5\u001B[0m vol_list[i]\u001B[38;5;241m.\u001B[39mloc[nan_index] \u001B[38;5;241m=\u001B[39m \u001B[38;5;241m0\u001B[39m\n\u001B[0;32m      6\u001B[0m vol_list[i] \u001B[38;5;241m=\u001B[39m vol_list[i]\u001B[38;5;241m.\u001B[39mdrop(columns\u001B[38;5;241m=\u001B[39m[\u001B[38;5;124m'\u001B[39m\u001B[38;5;124membeddings\u001B[39m\u001B[38;5;124m'\u001B[39m])\n",
      "File \u001B[1;32m_pydevd_bundle\\pydevd_cython_win32_311_64.pyx:1187\u001B[0m, in \u001B[0;36m_pydevd_bundle.pydevd_cython_win32_311_64.SafeCallWrapper.__call__\u001B[1;34m()\u001B[0m\n",
      "File \u001B[1;32m_pydevd_bundle\\pydevd_cython_win32_311_64.pyx:627\u001B[0m, in \u001B[0;36m_pydevd_bundle.pydevd_cython_win32_311_64.PyDBFrame.trace_dispatch\u001B[1;34m()\u001B[0m\n",
      "File \u001B[1;32m_pydevd_bundle\\pydevd_cython_win32_311_64.pyx:1103\u001B[0m, in \u001B[0;36m_pydevd_bundle.pydevd_cython_win32_311_64.PyDBFrame.trace_dispatch\u001B[1;34m()\u001B[0m\n",
      "File \u001B[1;32m_pydevd_bundle\\pydevd_cython_win32_311_64.pyx:1061\u001B[0m, in \u001B[0;36m_pydevd_bundle.pydevd_cython_win32_311_64.PyDBFrame.trace_dispatch\u001B[1;34m()\u001B[0m\n",
      "File \u001B[1;32mC:\\Program Files\\JetBrains\\DataSpell 2023.3.2\\plugins\\python-ce\\helpers-pro\\jupyter_debug\\pydev_jupyter_plugin.py:169\u001B[0m, in \u001B[0;36mstop\u001B[1;34m(plugin, pydb, frame, event, args, stop_info, arg, step_cmd)\u001B[0m\n\u001B[0;32m    167\u001B[0m     frame \u001B[38;5;241m=\u001B[39m suspend_jupyter(main_debugger, thread, frame, step_cmd)\n\u001B[0;32m    168\u001B[0m     \u001B[38;5;28;01mif\u001B[39;00m frame:\n\u001B[1;32m--> 169\u001B[0m         \u001B[43mmain_debugger\u001B[49m\u001B[38;5;241;43m.\u001B[39;49m\u001B[43mdo_wait_suspend\u001B[49m\u001B[43m(\u001B[49m\u001B[43mthread\u001B[49m\u001B[43m,\u001B[49m\u001B[43m \u001B[49m\u001B[43mframe\u001B[49m\u001B[43m,\u001B[49m\u001B[43m \u001B[49m\u001B[43mevent\u001B[49m\u001B[43m,\u001B[49m\u001B[43m \u001B[49m\u001B[43marg\u001B[49m\u001B[43m)\u001B[49m\n\u001B[0;32m    170\u001B[0m         \u001B[38;5;28;01mreturn\u001B[39;00m \u001B[38;5;28;01mTrue\u001B[39;00m\n\u001B[0;32m    171\u001B[0m \u001B[38;5;28;01mreturn\u001B[39;00m \u001B[38;5;28;01mFalse\u001B[39;00m\n",
      "File \u001B[1;32mC:\\Program Files\\JetBrains\\DataSpell 2023.3.2\\plugins\\python-ce\\helpers\\pydev\\pydevd.py:1184\u001B[0m, in \u001B[0;36mPyDB.do_wait_suspend\u001B[1;34m(self, thread, frame, event, arg, send_suspend_message, is_unhandled_exception)\u001B[0m\n\u001B[0;32m   1181\u001B[0m         from_this_thread\u001B[38;5;241m.\u001B[39mappend(frame_id)\n\u001B[0;32m   1183\u001B[0m \u001B[38;5;28;01mwith\u001B[39;00m \u001B[38;5;28mself\u001B[39m\u001B[38;5;241m.\u001B[39m_threads_suspended_single_notification\u001B[38;5;241m.\u001B[39mnotify_thread_suspended(thread_id, stop_reason):\n\u001B[1;32m-> 1184\u001B[0m     \u001B[38;5;28;43mself\u001B[39;49m\u001B[38;5;241;43m.\u001B[39;49m\u001B[43m_do_wait_suspend\u001B[49m\u001B[43m(\u001B[49m\u001B[43mthread\u001B[49m\u001B[43m,\u001B[49m\u001B[43m \u001B[49m\u001B[43mframe\u001B[49m\u001B[43m,\u001B[49m\u001B[43m \u001B[49m\u001B[43mevent\u001B[49m\u001B[43m,\u001B[49m\u001B[43m \u001B[49m\u001B[43marg\u001B[49m\u001B[43m,\u001B[49m\u001B[43m \u001B[49m\u001B[43msuspend_type\u001B[49m\u001B[43m,\u001B[49m\u001B[43m \u001B[49m\u001B[43mfrom_this_thread\u001B[49m\u001B[43m)\u001B[49m\n",
      "File \u001B[1;32mC:\\Program Files\\JetBrains\\DataSpell 2023.3.2\\plugins\\python-ce\\helpers\\pydev\\pydevd.py:1199\u001B[0m, in \u001B[0;36mPyDB._do_wait_suspend\u001B[1;34m(self, thread, frame, event, arg, suspend_type, from_this_thread)\u001B[0m\n\u001B[0;32m   1196\u001B[0m             \u001B[38;5;28mself\u001B[39m\u001B[38;5;241m.\u001B[39m_call_mpl_hook()\n\u001B[0;32m   1198\u001B[0m         \u001B[38;5;28mself\u001B[39m\u001B[38;5;241m.\u001B[39mprocess_internal_commands()\n\u001B[1;32m-> 1199\u001B[0m         \u001B[43mtime\u001B[49m\u001B[38;5;241;43m.\u001B[39;49m\u001B[43msleep\u001B[49m\u001B[43m(\u001B[49m\u001B[38;5;241;43m0.01\u001B[39;49m\u001B[43m)\u001B[49m\n\u001B[0;32m   1201\u001B[0m \u001B[38;5;28mself\u001B[39m\u001B[38;5;241m.\u001B[39mcancel_async_evaluation(get_current_thread_id(thread), \u001B[38;5;28mstr\u001B[39m(\u001B[38;5;28mid\u001B[39m(frame)))\n\u001B[0;32m   1203\u001B[0m \u001B[38;5;66;03m# process any stepping instructions\u001B[39;00m\n",
      "\u001B[1;31mKeyboardInterrupt\u001B[0m: "
     ]
    }
   ],
   "source": [
    "for i, vol in enumerate(vol_list):\n",
    "    vol_list[i] = pd.concat([vol, new_df], axis=1)\n",
    "    vol_list[i] = vol_list[i].dropna(subset=['return'])\n",
    "    nan_index = vol_list[i][vol_list[i]['0'].isna()].index\n",
    "    vol_list[i].loc[nan_index] = 0\n",
    "    vol_list[i] = vol_list[i].drop(columns=['embeddings'])"
   ],
   "metadata": {
    "collapsed": false,
    "ExecuteTime": {
     "end_time": "2024-04-18T11:51:44.291377100Z",
     "start_time": "2024-04-18T11:46:26.436107600Z"
    }
   },
   "id": "bd71360d81a8c284",
   "execution_count": 61
  },
  {
   "cell_type": "code",
   "outputs": [],
   "source": [
    "vol_list[4] = pd.concat([vol_list[4], new_df], axis=1)\n",
    "vol_list[4] = vol_list[4].dropna(subset=['return'])\n",
    "nan_index = vol_list[4][vol_list[4]['0'].isna()].index\n",
    "vol_list[4].loc[nan_index, '0':] = 0\n",
    "# vol_list[4] = vol_list[4].drop(columns=['embeddings'])"
   ],
   "metadata": {
    "collapsed": false,
    "ExecuteTime": {
     "end_time": "2024-04-18T12:33:47.615657100Z",
     "start_time": "2024-04-18T12:33:46.989534600Z"
    }
   },
   "id": "c298326090bcfac",
   "execution_count": 158
  },
  {
   "cell_type": "code",
   "outputs": [
    {
     "data": {
      "text/plain": "              return                       0                      1  \\\ndate                                                                  \n1986-01-09  0.018337    -0.04962526261806488   -0.01631726138293743   \n1986-01-10  0.018025  -0.0056046294048428535  -0.028814347460865974   \n1986-01-13  0.014163    -0.02949620969593525   0.023958630859851837   \n1986-01-14  0.011612    -0.09731221199035645   -0.06936700642108917   \n1986-01-15  0.013253    -0.04024816304445267  -0.020085984840989113   \n...              ...                     ...                    ...   \n2024-03-12  0.008444                       0                      0   \n2024-03-13  0.014783                       0                      0   \n2024-03-14  0.016125                       0                      0   \n2024-03-15  0.014375                       0                      0   \n2024-03-18  0.014494                       0                      0   \n\n                               2                      3  \\\ndate                                                      \n1986-01-09  0.032241448760032654    0.07975346595048904   \n1986-01-10   0.05053016170859337  -0.010897244326770306   \n1986-01-13    0.0779644250869751    0.04320884868502617   \n1986-01-14    0.1171412542462349    0.11577773839235306   \n1986-01-15    0.1438337117433548    0.08445174247026443   \n...                          ...                    ...   \n2024-03-12                     0                      0   \n2024-03-13                     0                      0   \n2024-03-14                     0                      0   \n2024-03-15                     0                      0   \n2024-03-18                     0                      0   \n\n                                4                      5  \\\ndate                                                       \n1986-01-09   -0.01664610020816326    0.01926751434803009   \n1986-01-10  -0.024444127455353737   -0.02611904963850975   \n1986-01-13    0.05883108079433441  -0.028737040236592293   \n1986-01-14   0.049255844205617905  -0.042214665561914444   \n1986-01-15    0.03432551026344299    0.05127415433526039   \n...                           ...                    ...   \n2024-03-12                      0                      0   \n2024-03-13                      0                      0   \n2024-03-14                      0                      0   \n2024-03-15                      0                      0   \n2024-03-18                      0                      0   \n\n                                6                      7  \\\ndate                                                       \n1986-01-09  -0.019222991541028023  -0.017728831619024277   \n1986-01-10   -0.09187246114015579   0.053619854152202606   \n1986-01-13   -0.05733700096607208    0.04011733457446098   \n1986-01-14   -0.05348898097872734    0.09646535664796829   \n1986-01-15   -0.11900079250335693    0.08368871361017227   \n...                           ...                    ...   \n2024-03-12                      0                      0   \n2024-03-13                      0                      0   \n2024-03-14                      0                      0   \n2024-03-15                      0                      0   \n2024-03-18                      0                      0   \n\n                                8  ...                    374  \\\ndate                               ...                          \n1986-01-09    0.07091069966554642  ...    0.02322174608707428   \n1986-01-10   -0.07657802850008011  ...    0.19281208515167236   \n1986-01-13  -0.013672440312802792  ...  -0.005833802744746208   \n1986-01-14  -0.004711784888058901  ...    0.07969000935554504   \n1986-01-15   -0.03986898064613342  ...   0.042864345014095306   \n...                           ...  ...                    ...   \n2024-03-12                      0  ...                      0   \n2024-03-13                      0  ...                      0   \n2024-03-14                      0  ...                      0   \n2024-03-15                      0  ...                      0   \n2024-03-18                      0  ...                      0   \n\n                             375                    376  \\\ndate                                                      \n1986-01-09  0.010281454771757126   -0.04470190033316612   \n1986-01-10   0.00869144219905138   0.020429998636245728   \n1986-01-13  -0.09190331399440765   -0.01094866544008255   \n1986-01-14  -0.03340322896838188    0.02444355934858322   \n1986-01-15  -0.10234757512807846  -0.003282636869698763   \n...                          ...                    ...   \n2024-03-12                     0                      0   \n2024-03-13                     0                      0   \n2024-03-14                     0                      0   \n2024-03-15                     0                      0   \n2024-03-18                     0                      0   \n\n                              377                    378  \\\ndate                                                       \n1986-01-09   0.009416778571903706   -0.04469888284802437   \n1986-01-10  -0.004980586934834719  -0.013956812210381031   \n1986-01-13    0.04017648473381996  -0.044988300651311874   \n1986-01-14   0.027992377057671547   -0.11080018430948257   \n1986-01-15    0.02656504325568676   -0.05282163619995117   \n...                           ...                    ...   \n2024-03-12                      0                      0   \n2024-03-13                      0                      0   \n2024-03-14                      0                      0   \n2024-03-15                      0                      0   \n2024-03-18                      0                      0   \n\n                             379                     380  \\\ndate                                                       \n1986-01-09  -0.03803924843668938      -0.101795993745327   \n1986-01-10  0.037604764103889465    -0.05238793045282364   \n1986-01-13   -0.1035151556134224   -0.016279403120279312   \n1986-01-14  -0.03989562392234802  -0.0007657308015041053   \n1986-01-15  -0.11202266067266464   -0.034381717443466187   \n...                          ...                     ...   \n2024-03-12                     0                       0   \n2024-03-13                     0                       0   \n2024-03-14                     0                       0   \n2024-03-15                     0                       0   \n2024-03-18                     0                       0   \n\n                              381                    382  \\\ndate                                                       \n1986-01-09   -0.05251132696866989    0.12682756781578064   \n1986-01-10  -0.004898854531347752    0.05145702138543129   \n1986-01-13   -0.06850959360599518  -0.010427573695778847   \n1986-01-14   -0.11314902454614639   -0.06090371683239937   \n1986-01-15  -0.045487526804208755  -0.003639000002294779   \n...                           ...                    ...   \n2024-03-12                      0                      0   \n2024-03-13                      0                      0   \n2024-03-14                      0                      0   \n2024-03-15                      0                      0   \n2024-03-18                      0                      0   \n\n                              383  \ndate                               \n1986-01-09  -0.016033213585615158  \n1986-01-10  -0.024697724729776382  \n1986-01-13   0.008376100100576878  \n1986-01-14    0.02699497528374195  \n1986-01-15     0.0350753515958786  \n...                           ...  \n2024-03-12                      0  \n2024-03-13                      0  \n2024-03-14                      0  \n2024-03-15                      0  \n2024-03-18                      0  \n\n[9617 rows x 385 columns]",
      "text/html": "<div>\n<style scoped>\n    .dataframe tbody tr th:only-of-type {\n        vertical-align: middle;\n    }\n\n    .dataframe tbody tr th {\n        vertical-align: top;\n    }\n\n    .dataframe thead th {\n        text-align: right;\n    }\n</style>\n<table border=\"1\" class=\"dataframe\">\n  <thead>\n    <tr style=\"text-align: right;\">\n      <th></th>\n      <th>return</th>\n      <th>0</th>\n      <th>1</th>\n      <th>2</th>\n      <th>3</th>\n      <th>4</th>\n      <th>5</th>\n      <th>6</th>\n      <th>7</th>\n      <th>8</th>\n      <th>...</th>\n      <th>374</th>\n      <th>375</th>\n      <th>376</th>\n      <th>377</th>\n      <th>378</th>\n      <th>379</th>\n      <th>380</th>\n      <th>381</th>\n      <th>382</th>\n      <th>383</th>\n    </tr>\n    <tr>\n      <th>date</th>\n      <th></th>\n      <th></th>\n      <th></th>\n      <th></th>\n      <th></th>\n      <th></th>\n      <th></th>\n      <th></th>\n      <th></th>\n      <th></th>\n      <th></th>\n      <th></th>\n      <th></th>\n      <th></th>\n      <th></th>\n      <th></th>\n      <th></th>\n      <th></th>\n      <th></th>\n      <th></th>\n      <th></th>\n    </tr>\n  </thead>\n  <tbody>\n    <tr>\n      <th>1986-01-09</th>\n      <td>0.018337</td>\n      <td>-0.04962526261806488</td>\n      <td>-0.01631726138293743</td>\n      <td>0.032241448760032654</td>\n      <td>0.07975346595048904</td>\n      <td>-0.01664610020816326</td>\n      <td>0.01926751434803009</td>\n      <td>-0.019222991541028023</td>\n      <td>-0.017728831619024277</td>\n      <td>0.07091069966554642</td>\n      <td>...</td>\n      <td>0.02322174608707428</td>\n      <td>0.010281454771757126</td>\n      <td>-0.04470190033316612</td>\n      <td>0.009416778571903706</td>\n      <td>-0.04469888284802437</td>\n      <td>-0.03803924843668938</td>\n      <td>-0.101795993745327</td>\n      <td>-0.05251132696866989</td>\n      <td>0.12682756781578064</td>\n      <td>-0.016033213585615158</td>\n    </tr>\n    <tr>\n      <th>1986-01-10</th>\n      <td>0.018025</td>\n      <td>-0.0056046294048428535</td>\n      <td>-0.028814347460865974</td>\n      <td>0.05053016170859337</td>\n      <td>-0.010897244326770306</td>\n      <td>-0.024444127455353737</td>\n      <td>-0.02611904963850975</td>\n      <td>-0.09187246114015579</td>\n      <td>0.053619854152202606</td>\n      <td>-0.07657802850008011</td>\n      <td>...</td>\n      <td>0.19281208515167236</td>\n      <td>0.00869144219905138</td>\n      <td>0.020429998636245728</td>\n      <td>-0.004980586934834719</td>\n      <td>-0.013956812210381031</td>\n      <td>0.037604764103889465</td>\n      <td>-0.05238793045282364</td>\n      <td>-0.004898854531347752</td>\n      <td>0.05145702138543129</td>\n      <td>-0.024697724729776382</td>\n    </tr>\n    <tr>\n      <th>1986-01-13</th>\n      <td>0.014163</td>\n      <td>-0.02949620969593525</td>\n      <td>0.023958630859851837</td>\n      <td>0.0779644250869751</td>\n      <td>0.04320884868502617</td>\n      <td>0.05883108079433441</td>\n      <td>-0.028737040236592293</td>\n      <td>-0.05733700096607208</td>\n      <td>0.04011733457446098</td>\n      <td>-0.013672440312802792</td>\n      <td>...</td>\n      <td>-0.005833802744746208</td>\n      <td>-0.09190331399440765</td>\n      <td>-0.01094866544008255</td>\n      <td>0.04017648473381996</td>\n      <td>-0.044988300651311874</td>\n      <td>-0.1035151556134224</td>\n      <td>-0.016279403120279312</td>\n      <td>-0.06850959360599518</td>\n      <td>-0.010427573695778847</td>\n      <td>0.008376100100576878</td>\n    </tr>\n    <tr>\n      <th>1986-01-14</th>\n      <td>0.011612</td>\n      <td>-0.09731221199035645</td>\n      <td>-0.06936700642108917</td>\n      <td>0.1171412542462349</td>\n      <td>0.11577773839235306</td>\n      <td>0.049255844205617905</td>\n      <td>-0.042214665561914444</td>\n      <td>-0.05348898097872734</td>\n      <td>0.09646535664796829</td>\n      <td>-0.004711784888058901</td>\n      <td>...</td>\n      <td>0.07969000935554504</td>\n      <td>-0.03340322896838188</td>\n      <td>0.02444355934858322</td>\n      <td>0.027992377057671547</td>\n      <td>-0.11080018430948257</td>\n      <td>-0.03989562392234802</td>\n      <td>-0.0007657308015041053</td>\n      <td>-0.11314902454614639</td>\n      <td>-0.06090371683239937</td>\n      <td>0.02699497528374195</td>\n    </tr>\n    <tr>\n      <th>1986-01-15</th>\n      <td>0.013253</td>\n      <td>-0.04024816304445267</td>\n      <td>-0.020085984840989113</td>\n      <td>0.1438337117433548</td>\n      <td>0.08445174247026443</td>\n      <td>0.03432551026344299</td>\n      <td>0.05127415433526039</td>\n      <td>-0.11900079250335693</td>\n      <td>0.08368871361017227</td>\n      <td>-0.03986898064613342</td>\n      <td>...</td>\n      <td>0.042864345014095306</td>\n      <td>-0.10234757512807846</td>\n      <td>-0.003282636869698763</td>\n      <td>0.02656504325568676</td>\n      <td>-0.05282163619995117</td>\n      <td>-0.11202266067266464</td>\n      <td>-0.034381717443466187</td>\n      <td>-0.045487526804208755</td>\n      <td>-0.003639000002294779</td>\n      <td>0.0350753515958786</td>\n    </tr>\n    <tr>\n      <th>...</th>\n      <td>...</td>\n      <td>...</td>\n      <td>...</td>\n      <td>...</td>\n      <td>...</td>\n      <td>...</td>\n      <td>...</td>\n      <td>...</td>\n      <td>...</td>\n      <td>...</td>\n      <td>...</td>\n      <td>...</td>\n      <td>...</td>\n      <td>...</td>\n      <td>...</td>\n      <td>...</td>\n      <td>...</td>\n      <td>...</td>\n      <td>...</td>\n      <td>...</td>\n      <td>...</td>\n    </tr>\n    <tr>\n      <th>2024-03-12</th>\n      <td>0.008444</td>\n      <td>0</td>\n      <td>0</td>\n      <td>0</td>\n      <td>0</td>\n      <td>0</td>\n      <td>0</td>\n      <td>0</td>\n      <td>0</td>\n      <td>0</td>\n      <td>...</td>\n      <td>0</td>\n      <td>0</td>\n      <td>0</td>\n      <td>0</td>\n      <td>0</td>\n      <td>0</td>\n      <td>0</td>\n      <td>0</td>\n      <td>0</td>\n      <td>0</td>\n    </tr>\n    <tr>\n      <th>2024-03-13</th>\n      <td>0.014783</td>\n      <td>0</td>\n      <td>0</td>\n      <td>0</td>\n      <td>0</td>\n      <td>0</td>\n      <td>0</td>\n      <td>0</td>\n      <td>0</td>\n      <td>0</td>\n      <td>...</td>\n      <td>0</td>\n      <td>0</td>\n      <td>0</td>\n      <td>0</td>\n      <td>0</td>\n      <td>0</td>\n      <td>0</td>\n      <td>0</td>\n      <td>0</td>\n      <td>0</td>\n    </tr>\n    <tr>\n      <th>2024-03-14</th>\n      <td>0.016125</td>\n      <td>0</td>\n      <td>0</td>\n      <td>0</td>\n      <td>0</td>\n      <td>0</td>\n      <td>0</td>\n      <td>0</td>\n      <td>0</td>\n      <td>0</td>\n      <td>...</td>\n      <td>0</td>\n      <td>0</td>\n      <td>0</td>\n      <td>0</td>\n      <td>0</td>\n      <td>0</td>\n      <td>0</td>\n      <td>0</td>\n      <td>0</td>\n      <td>0</td>\n    </tr>\n    <tr>\n      <th>2024-03-15</th>\n      <td>0.014375</td>\n      <td>0</td>\n      <td>0</td>\n      <td>0</td>\n      <td>0</td>\n      <td>0</td>\n      <td>0</td>\n      <td>0</td>\n      <td>0</td>\n      <td>0</td>\n      <td>...</td>\n      <td>0</td>\n      <td>0</td>\n      <td>0</td>\n      <td>0</td>\n      <td>0</td>\n      <td>0</td>\n      <td>0</td>\n      <td>0</td>\n      <td>0</td>\n      <td>0</td>\n    </tr>\n    <tr>\n      <th>2024-03-18</th>\n      <td>0.014494</td>\n      <td>0</td>\n      <td>0</td>\n      <td>0</td>\n      <td>0</td>\n      <td>0</td>\n      <td>0</td>\n      <td>0</td>\n      <td>0</td>\n      <td>0</td>\n      <td>...</td>\n      <td>0</td>\n      <td>0</td>\n      <td>0</td>\n      <td>0</td>\n      <td>0</td>\n      <td>0</td>\n      <td>0</td>\n      <td>0</td>\n      <td>0</td>\n      <td>0</td>\n    </tr>\n  </tbody>\n</table>\n<p>9617 rows × 385 columns</p>\n</div>"
     },
     "execution_count": 159,
     "metadata": {},
     "output_type": "execute_result"
    }
   ],
   "source": [
    "vol_list[4]"
   ],
   "metadata": {
    "collapsed": false,
    "ExecuteTime": {
     "end_time": "2024-04-18T12:33:48.288500400Z",
     "start_time": "2024-04-18T12:33:48.253579100Z"
    }
   },
   "id": "536151ca0a72e38d",
   "execution_count": 159
  },
  {
   "cell_type": "markdown",
   "source": [
    "# Save Files"
   ],
   "metadata": {
    "collapsed": false
   },
   "id": "2a53b18cb88f351e"
  },
  {
   "cell_type": "code",
   "outputs": [],
   "source": [
    "name_list = ['CL_vol', 'HO_vol', 'RB_vol', 'BZ_vol', 'SP_vol']\n",
    "for i, vol in enumerate(name_list):\n",
    "    if i != 4:\n",
    "        vol_list[i].to_csv(f'Database/future_std/{vol}.csv')\n",
    "    else:\n",
    "        vol_list[i].to_csv(f'Database/spot_std/{vol}.csv')"
   ],
   "metadata": {
    "collapsed": false,
    "ExecuteTime": {
     "end_time": "2024-04-18T12:33:55.792990400Z",
     "start_time": "2024-04-18T12:33:54.362680900Z"
    }
   },
   "id": "5ca7a01a453cdc6",
   "execution_count": 160
  }
 ],
 "metadata": {
  "kernelspec": {
   "display_name": "Python 3",
   "language": "python",
   "name": "python3"
  },
  "language_info": {
   "codemirror_mode": {
    "name": "ipython",
    "version": 2
   },
   "file_extension": ".py",
   "mimetype": "text/x-python",
   "name": "python",
   "nbconvert_exporter": "python",
   "pygments_lexer": "ipython2",
   "version": "2.7.6"
  }
 },
 "nbformat": 4,
 "nbformat_minor": 5
}
